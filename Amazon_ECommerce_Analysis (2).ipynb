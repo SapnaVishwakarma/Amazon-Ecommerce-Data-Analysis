{
  "cells": [
    {
      "cell_type": "markdown",
      "metadata": {
        "id": "rBUKq_-ejICh"
      },
      "source": [
        "# Data Analysis on Amazon E-Commerce Orders and Consumer Purchase Patterns"
      ]
    },
    {
      "cell_type": "markdown",
      "metadata": {
        "id": "rOHhDjq5lI9P"
      },
      "source": [
        "________________________________________________________________________________________"
      ]
    },
    {
      "cell_type": "markdown",
      "metadata": {
        "id": "76xeCsyxki6N"
      },
      "source": [
        "## **Project Overviews**"
      ]
    },
    {
      "cell_type": "markdown",
      "metadata": {
        "id": "oVof2rvKkpt5"
      },
      "source": [
        "The goal of this project is to analyze a large-scale e-commerce dataset containing 50,000+ records from Amazon-like transactions. We aim to uncover trends in product sales, customer satisfaction, profit margins, regional performance, and shipping efficiency to guide business decision-making."
      ]
    },
    {
      "cell_type": "markdown",
      "metadata": {
        "id": "_pinRW12vcnF"
      },
      "source": [
        "We aim to address the following key problems:\n",
        "\n",
        "- **Product Sales Performance** – Understanding which products generate the highest total sales across the platform.\n",
        "\n",
        "- **Category Demand Analysis** – Examining categories and subcategories that sell the most items to guide inventory planning.\n",
        "\n",
        "- **Regional Revenue Contribution** – Identifying top-performing and underperforming regions based on order count and revenue.\n",
        "\n",
        "- **Customer Satisfaction Trends** – Analyzing product and category-wise average customer ratings to assess service quality.\n",
        "\n",
        "- **Profitability Insights** – Evaluating profit margins across products and categories to detect value-generating items.\n",
        "\n",
        "- **Shipping Time Patterns** – Measuring average shipping delays to improve delivery and logistics operations.\n",
        "\n",
        "- **Discount Impact on Sales** – Understanding how discounts influence total order volume and revenue contribution.\n",
        "\n",
        "- **Seasonal Sales Patterns** – Exploring monthly and weekly trends to detect festive and high-performing sales periods.\n",
        "\n",
        "- **Shipping Mode Efficiency** – Evaluating which delivery modes perform best in terms of usage and delivery time.\n",
        "\n",
        "- **Low-Rated Product Detection** – Identifying products with frequent poor ratings for quality improvement.\n"
      ]
    },
    {
      "cell_type": "markdown",
      "metadata": {
        "id": "Nfk4O5yzkxaP"
      },
      "source": [
        "________________________________________________________________________________________"
      ]
    },
    {
      "cell_type": "markdown",
      "metadata": {
        "id": "z5_YLeEzk13m"
      },
      "source": [
        "Import Required Libraries"
      ]
    },
    {
      "cell_type": "code",
      "execution_count": null,
      "metadata": {
        "colab": {
          "background_save": true
        },
        "id": "QGaL7RvOlM2X"
      },
      "outputs": [],
      "source": [
        "import pandas as pd\n",
        "import numpy as np\n",
        "import matplotlib.pyplot as plt\n",
        "import seaborn as sns\n"
      ]
    },
    {
      "cell_type": "markdown",
      "metadata": {
        "id": "5L9xn0j1x6lx"
      },
      "source": [
        "\n",
        "\n",
        "Mounting Drive to Google Colab with full access to the files\n",
        "\n"
      ]
    },
    {
      "cell_type": "code",
      "execution_count": null,
      "metadata": {
        "colab": {
          "background_save": true
        },
        "id": "kYt0GATod9mh"
      },
      "outputs": [],
      "source": [
        "from google.colab import drive\n",
        "drive.mount('/content/drive')\n",
        "\n"
      ]
    },
    {
      "cell_type": "code",
      "execution_count": 3,
      "metadata": {
        "colab": {
          "base_uri": "https://localhost:8080/",
          "height": 73
        },
        "id": "n8MmRQF4gsEw",
        "outputId": "0a8b11fb-e2cc-4496-e4fe-40b187a91993"
      },
      "outputs": [
        {
          "output_type": "display_data",
          "data": {
            "text/plain": [
              "<IPython.core.display.HTML object>"
            ],
            "text/html": [
              "\n",
              "     <input type=\"file\" id=\"files-316f6dfa-af90-4689-bf54-474bd9c9d237\" name=\"files[]\" multiple disabled\n",
              "        style=\"border:none\" />\n",
              "     <output id=\"result-316f6dfa-af90-4689-bf54-474bd9c9d237\">\n",
              "      Upload widget is only available when the cell has been executed in the\n",
              "      current browser session. Please rerun this cell to enable.\n",
              "      </output>\n",
              "      <script>// Copyright 2017 Google LLC\n",
              "//\n",
              "// Licensed under the Apache License, Version 2.0 (the \"License\");\n",
              "// you may not use this file except in compliance with the License.\n",
              "// You may obtain a copy of the License at\n",
              "//\n",
              "//      http://www.apache.org/licenses/LICENSE-2.0\n",
              "//\n",
              "// Unless required by applicable law or agreed to in writing, software\n",
              "// distributed under the License is distributed on an \"AS IS\" BASIS,\n",
              "// WITHOUT WARRANTIES OR CONDITIONS OF ANY KIND, either express or implied.\n",
              "// See the License for the specific language governing permissions and\n",
              "// limitations under the License.\n",
              "\n",
              "/**\n",
              " * @fileoverview Helpers for google.colab Python module.\n",
              " */\n",
              "(function(scope) {\n",
              "function span(text, styleAttributes = {}) {\n",
              "  const element = document.createElement('span');\n",
              "  element.textContent = text;\n",
              "  for (const key of Object.keys(styleAttributes)) {\n",
              "    element.style[key] = styleAttributes[key];\n",
              "  }\n",
              "  return element;\n",
              "}\n",
              "\n",
              "// Max number of bytes which will be uploaded at a time.\n",
              "const MAX_PAYLOAD_SIZE = 100 * 1024;\n",
              "\n",
              "function _uploadFiles(inputId, outputId) {\n",
              "  const steps = uploadFilesStep(inputId, outputId);\n",
              "  const outputElement = document.getElementById(outputId);\n",
              "  // Cache steps on the outputElement to make it available for the next call\n",
              "  // to uploadFilesContinue from Python.\n",
              "  outputElement.steps = steps;\n",
              "\n",
              "  return _uploadFilesContinue(outputId);\n",
              "}\n",
              "\n",
              "// This is roughly an async generator (not supported in the browser yet),\n",
              "// where there are multiple asynchronous steps and the Python side is going\n",
              "// to poll for completion of each step.\n",
              "// This uses a Promise to block the python side on completion of each step,\n",
              "// then passes the result of the previous step as the input to the next step.\n",
              "function _uploadFilesContinue(outputId) {\n",
              "  const outputElement = document.getElementById(outputId);\n",
              "  const steps = outputElement.steps;\n",
              "\n",
              "  const next = steps.next(outputElement.lastPromiseValue);\n",
              "  return Promise.resolve(next.value.promise).then((value) => {\n",
              "    // Cache the last promise value to make it available to the next\n",
              "    // step of the generator.\n",
              "    outputElement.lastPromiseValue = value;\n",
              "    return next.value.response;\n",
              "  });\n",
              "}\n",
              "\n",
              "/**\n",
              " * Generator function which is called between each async step of the upload\n",
              " * process.\n",
              " * @param {string} inputId Element ID of the input file picker element.\n",
              " * @param {string} outputId Element ID of the output display.\n",
              " * @return {!Iterable<!Object>} Iterable of next steps.\n",
              " */\n",
              "function* uploadFilesStep(inputId, outputId) {\n",
              "  const inputElement = document.getElementById(inputId);\n",
              "  inputElement.disabled = false;\n",
              "\n",
              "  const outputElement = document.getElementById(outputId);\n",
              "  outputElement.innerHTML = '';\n",
              "\n",
              "  const pickedPromise = new Promise((resolve) => {\n",
              "    inputElement.addEventListener('change', (e) => {\n",
              "      resolve(e.target.files);\n",
              "    });\n",
              "  });\n",
              "\n",
              "  const cancel = document.createElement('button');\n",
              "  inputElement.parentElement.appendChild(cancel);\n",
              "  cancel.textContent = 'Cancel upload';\n",
              "  const cancelPromise = new Promise((resolve) => {\n",
              "    cancel.onclick = () => {\n",
              "      resolve(null);\n",
              "    };\n",
              "  });\n",
              "\n",
              "  // Wait for the user to pick the files.\n",
              "  const files = yield {\n",
              "    promise: Promise.race([pickedPromise, cancelPromise]),\n",
              "    response: {\n",
              "      action: 'starting',\n",
              "    }\n",
              "  };\n",
              "\n",
              "  cancel.remove();\n",
              "\n",
              "  // Disable the input element since further picks are not allowed.\n",
              "  inputElement.disabled = true;\n",
              "\n",
              "  if (!files) {\n",
              "    return {\n",
              "      response: {\n",
              "        action: 'complete',\n",
              "      }\n",
              "    };\n",
              "  }\n",
              "\n",
              "  for (const file of files) {\n",
              "    const li = document.createElement('li');\n",
              "    li.append(span(file.name, {fontWeight: 'bold'}));\n",
              "    li.append(span(\n",
              "        `(${file.type || 'n/a'}) - ${file.size} bytes, ` +\n",
              "        `last modified: ${\n",
              "            file.lastModifiedDate ? file.lastModifiedDate.toLocaleDateString() :\n",
              "                                    'n/a'} - `));\n",
              "    const percent = span('0% done');\n",
              "    li.appendChild(percent);\n",
              "\n",
              "    outputElement.appendChild(li);\n",
              "\n",
              "    const fileDataPromise = new Promise((resolve) => {\n",
              "      const reader = new FileReader();\n",
              "      reader.onload = (e) => {\n",
              "        resolve(e.target.result);\n",
              "      };\n",
              "      reader.readAsArrayBuffer(file);\n",
              "    });\n",
              "    // Wait for the data to be ready.\n",
              "    let fileData = yield {\n",
              "      promise: fileDataPromise,\n",
              "      response: {\n",
              "        action: 'continue',\n",
              "      }\n",
              "    };\n",
              "\n",
              "    // Use a chunked sending to avoid message size limits. See b/62115660.\n",
              "    let position = 0;\n",
              "    do {\n",
              "      const length = Math.min(fileData.byteLength - position, MAX_PAYLOAD_SIZE);\n",
              "      const chunk = new Uint8Array(fileData, position, length);\n",
              "      position += length;\n",
              "\n",
              "      const base64 = btoa(String.fromCharCode.apply(null, chunk));\n",
              "      yield {\n",
              "        response: {\n",
              "          action: 'append',\n",
              "          file: file.name,\n",
              "          data: base64,\n",
              "        },\n",
              "      };\n",
              "\n",
              "      let percentDone = fileData.byteLength === 0 ?\n",
              "          100 :\n",
              "          Math.round((position / fileData.byteLength) * 100);\n",
              "      percent.textContent = `${percentDone}% done`;\n",
              "\n",
              "    } while (position < fileData.byteLength);\n",
              "  }\n",
              "\n",
              "  // All done.\n",
              "  yield {\n",
              "    response: {\n",
              "      action: 'complete',\n",
              "    }\n",
              "  };\n",
              "}\n",
              "\n",
              "scope.google = scope.google || {};\n",
              "scope.google.colab = scope.google.colab || {};\n",
              "scope.google.colab._files = {\n",
              "  _uploadFiles,\n",
              "  _uploadFilesContinue,\n",
              "};\n",
              "})(self);\n",
              "</script> "
            ]
          },
          "metadata": {}
        },
        {
          "output_type": "stream",
          "name": "stdout",
          "text": [
            "Saving amazon_advanced_50000.csv to amazon_advanced_50000.csv\n"
          ]
        }
      ],
      "source": [
        "from google.colab import files\n",
        "uploaded = files.upload()\n"
      ]
    },
    {
      "cell_type": "code",
      "execution_count": 4,
      "metadata": {
        "id": "HRU3P7OWhe9T"
      },
      "outputs": [],
      "source": [
        "import pandas as pd\n",
        "df = pd.read_csv(\"amazon_advanced_50000.csv\")\n",
        "#df.head()\n"
      ]
    },
    {
      "cell_type": "markdown",
      "metadata": {
        "id": "Ac1sAKZsyWGN"
      },
      "source": []
    },
    {
      "cell_type": "markdown",
      "metadata": {
        "id": "NK3fDbgSycab"
      },
      "source": [
        "# Level 1: Data Understanding & Cleaning"
      ]
    },
    {
      "cell_type": "markdown",
      "metadata": {
        "id": "RneC5_3F0Wa2"
      },
      "source": [
        "**The goal is to understand and clean the dataset before deeper analysis. We focus on:**\n",
        "## Data Overview (Structure, Columns, Data Types)\n",
        "## Checking for Missing Values\n",
        "## Detecting Duplicates\n",
        "## Handling Inconsistencies"
      ]
    },
    {
      "cell_type": "markdown",
      "metadata": {
        "id": "uTt9-8FzmtO9"
      },
      "source": [
        "## To show the data from the dataset"
      ]
    },
    {
      "cell_type": "code",
      "execution_count": 5,
      "metadata": {
        "colab": {
          "base_uri": "https://localhost:8080/",
          "height": 617
        },
        "id": "V9Q3UM-7myae",
        "outputId": "16769004-b5be-4f3e-bbdd-e1cf3495a8ab"
      },
      "outputs": [
        {
          "output_type": "execute_result",
          "data": {
            "text/plain": [
              "     Order_ID Customer_ID             Product_Name     Category  \\\n",
              "0   ORD100000   CUST89696           Purpose Mobile  Electronics   \n",
              "1   ORD100001   CUST74563               Ago Mobile  Electronics   \n",
              "2   ORD100002   CUST21926             Face Women's     Clothing   \n",
              "3   ORD100003   CUST46082                Dog Men's     Clothing   \n",
              "4   ORD100004   CUST82070            Since Fiction        Books   \n",
              "..        ...         ...                      ...          ...   \n",
              "95  ORD100095   CUST10150  Traditional Non-fiction        Books   \n",
              "96  ORD100096   CUST77011        Response Haircare       Beauty   \n",
              "97  ORD100097   CUST60682      Building Fragrances       Beauty   \n",
              "98  ORD100098   CUST98609         Value Fragrances       Beauty   \n",
              "99  ORD100099   CUST44515       Social Non-fiction        Books   \n",
              "\n",
              "        Sub_Category  Order_Date   Ship_Date Ship_Mode  Order_Quantity  \\\n",
              "0      Mobile Phones  2023-09-17  2023-09-18  Standard               3   \n",
              "1      Mobile Phones  2025-01-18  2025-01-19  Same Day               1   \n",
              "2   Women's Clothing  2023-12-30  2024-01-06   Express               5   \n",
              "3     Men's Clothing  2023-10-09  2023-10-12   Express               3   \n",
              "4            Fiction  2023-09-10  2023-09-16  Same Day               4   \n",
              "..               ...         ...         ...       ...             ...   \n",
              "95       Non-fiction  2023-07-01  2023-07-08   Express               5   \n",
              "96          Haircare  2025-01-02  2025-01-07  Standard               1   \n",
              "97        Fragrances  2024-12-03  2024-12-07  Standard               3   \n",
              "98        Fragrances  2024-08-13  2024-08-16  Same Day               2   \n",
              "99       Non-fiction  2024-01-16  2024-01-21   Express               4   \n",
              "\n",
              "    Unit_Price  Discount  Total_Sales   Profit Region  Customer_Rating  \\\n",
              "0      1299.97      0.07      3626.92  1088.07   West                5   \n",
              "1      1171.33      0.25       878.50   263.55   West                2   \n",
              "2      1463.13      0.43      4169.92  1250.98   East                4   \n",
              "3       600.83      0.19      1460.02   438.01  North                5   \n",
              "4       486.12      0.15      1652.81   495.84  South                3   \n",
              "..         ...       ...          ...      ...    ...              ...   \n",
              "95     2590.38      0.44      7253.06  2175.92   East                3   \n",
              "96     1485.91      0.15      1263.02   378.91   West                4   \n",
              "97     1728.96      0.38      3215.87   964.76  South                3   \n",
              "98     4294.46      0.21      6785.25  2035.57   West                4   \n",
              "99     4827.64      0.06     18151.93  5445.58  North                1   \n",
              "\n",
              "    Shipping_Delay   Weekday  Weekend  Month  \n",
              "0                1    Sunday     True      9  \n",
              "1                1  Saturday     True      1  \n",
              "2                7  Saturday     True     12  \n",
              "3                3    Monday    False     10  \n",
              "4                6    Sunday     True      9  \n",
              "..             ...       ...      ...    ...  \n",
              "95               7  Saturday     True      7  \n",
              "96               5  Thursday    False      1  \n",
              "97               4   Tuesday    False     12  \n",
              "98               3   Tuesday    False      8  \n",
              "99               5   Tuesday    False      1  \n",
              "\n",
              "[100 rows x 19 columns]"
            ],
            "text/html": [
              "\n",
              "  <div id=\"df-59dc32bf-4a8a-46a8-9343-f93877ea3f43\" class=\"colab-df-container\">\n",
              "    <div>\n",
              "<style scoped>\n",
              "    .dataframe tbody tr th:only-of-type {\n",
              "        vertical-align: middle;\n",
              "    }\n",
              "\n",
              "    .dataframe tbody tr th {\n",
              "        vertical-align: top;\n",
              "    }\n",
              "\n",
              "    .dataframe thead th {\n",
              "        text-align: right;\n",
              "    }\n",
              "</style>\n",
              "<table border=\"1\" class=\"dataframe\">\n",
              "  <thead>\n",
              "    <tr style=\"text-align: right;\">\n",
              "      <th></th>\n",
              "      <th>Order_ID</th>\n",
              "      <th>Customer_ID</th>\n",
              "      <th>Product_Name</th>\n",
              "      <th>Category</th>\n",
              "      <th>Sub_Category</th>\n",
              "      <th>Order_Date</th>\n",
              "      <th>Ship_Date</th>\n",
              "      <th>Ship_Mode</th>\n",
              "      <th>Order_Quantity</th>\n",
              "      <th>Unit_Price</th>\n",
              "      <th>Discount</th>\n",
              "      <th>Total_Sales</th>\n",
              "      <th>Profit</th>\n",
              "      <th>Region</th>\n",
              "      <th>Customer_Rating</th>\n",
              "      <th>Shipping_Delay</th>\n",
              "      <th>Weekday</th>\n",
              "      <th>Weekend</th>\n",
              "      <th>Month</th>\n",
              "    </tr>\n",
              "  </thead>\n",
              "  <tbody>\n",
              "    <tr>\n",
              "      <th>0</th>\n",
              "      <td>ORD100000</td>\n",
              "      <td>CUST89696</td>\n",
              "      <td>Purpose Mobile</td>\n",
              "      <td>Electronics</td>\n",
              "      <td>Mobile Phones</td>\n",
              "      <td>2023-09-17</td>\n",
              "      <td>2023-09-18</td>\n",
              "      <td>Standard</td>\n",
              "      <td>3</td>\n",
              "      <td>1299.97</td>\n",
              "      <td>0.07</td>\n",
              "      <td>3626.92</td>\n",
              "      <td>1088.07</td>\n",
              "      <td>West</td>\n",
              "      <td>5</td>\n",
              "      <td>1</td>\n",
              "      <td>Sunday</td>\n",
              "      <td>True</td>\n",
              "      <td>9</td>\n",
              "    </tr>\n",
              "    <tr>\n",
              "      <th>1</th>\n",
              "      <td>ORD100001</td>\n",
              "      <td>CUST74563</td>\n",
              "      <td>Ago Mobile</td>\n",
              "      <td>Electronics</td>\n",
              "      <td>Mobile Phones</td>\n",
              "      <td>2025-01-18</td>\n",
              "      <td>2025-01-19</td>\n",
              "      <td>Same Day</td>\n",
              "      <td>1</td>\n",
              "      <td>1171.33</td>\n",
              "      <td>0.25</td>\n",
              "      <td>878.50</td>\n",
              "      <td>263.55</td>\n",
              "      <td>West</td>\n",
              "      <td>2</td>\n",
              "      <td>1</td>\n",
              "      <td>Saturday</td>\n",
              "      <td>True</td>\n",
              "      <td>1</td>\n",
              "    </tr>\n",
              "    <tr>\n",
              "      <th>2</th>\n",
              "      <td>ORD100002</td>\n",
              "      <td>CUST21926</td>\n",
              "      <td>Face Women's</td>\n",
              "      <td>Clothing</td>\n",
              "      <td>Women's Clothing</td>\n",
              "      <td>2023-12-30</td>\n",
              "      <td>2024-01-06</td>\n",
              "      <td>Express</td>\n",
              "      <td>5</td>\n",
              "      <td>1463.13</td>\n",
              "      <td>0.43</td>\n",
              "      <td>4169.92</td>\n",
              "      <td>1250.98</td>\n",
              "      <td>East</td>\n",
              "      <td>4</td>\n",
              "      <td>7</td>\n",
              "      <td>Saturday</td>\n",
              "      <td>True</td>\n",
              "      <td>12</td>\n",
              "    </tr>\n",
              "    <tr>\n",
              "      <th>3</th>\n",
              "      <td>ORD100003</td>\n",
              "      <td>CUST46082</td>\n",
              "      <td>Dog Men's</td>\n",
              "      <td>Clothing</td>\n",
              "      <td>Men's Clothing</td>\n",
              "      <td>2023-10-09</td>\n",
              "      <td>2023-10-12</td>\n",
              "      <td>Express</td>\n",
              "      <td>3</td>\n",
              "      <td>600.83</td>\n",
              "      <td>0.19</td>\n",
              "      <td>1460.02</td>\n",
              "      <td>438.01</td>\n",
              "      <td>North</td>\n",
              "      <td>5</td>\n",
              "      <td>3</td>\n",
              "      <td>Monday</td>\n",
              "      <td>False</td>\n",
              "      <td>10</td>\n",
              "    </tr>\n",
              "    <tr>\n",
              "      <th>4</th>\n",
              "      <td>ORD100004</td>\n",
              "      <td>CUST82070</td>\n",
              "      <td>Since Fiction</td>\n",
              "      <td>Books</td>\n",
              "      <td>Fiction</td>\n",
              "      <td>2023-09-10</td>\n",
              "      <td>2023-09-16</td>\n",
              "      <td>Same Day</td>\n",
              "      <td>4</td>\n",
              "      <td>486.12</td>\n",
              "      <td>0.15</td>\n",
              "      <td>1652.81</td>\n",
              "      <td>495.84</td>\n",
              "      <td>South</td>\n",
              "      <td>3</td>\n",
              "      <td>6</td>\n",
              "      <td>Sunday</td>\n",
              "      <td>True</td>\n",
              "      <td>9</td>\n",
              "    </tr>\n",
              "    <tr>\n",
              "      <th>...</th>\n",
              "      <td>...</td>\n",
              "      <td>...</td>\n",
              "      <td>...</td>\n",
              "      <td>...</td>\n",
              "      <td>...</td>\n",
              "      <td>...</td>\n",
              "      <td>...</td>\n",
              "      <td>...</td>\n",
              "      <td>...</td>\n",
              "      <td>...</td>\n",
              "      <td>...</td>\n",
              "      <td>...</td>\n",
              "      <td>...</td>\n",
              "      <td>...</td>\n",
              "      <td>...</td>\n",
              "      <td>...</td>\n",
              "      <td>...</td>\n",
              "      <td>...</td>\n",
              "      <td>...</td>\n",
              "    </tr>\n",
              "    <tr>\n",
              "      <th>95</th>\n",
              "      <td>ORD100095</td>\n",
              "      <td>CUST10150</td>\n",
              "      <td>Traditional Non-fiction</td>\n",
              "      <td>Books</td>\n",
              "      <td>Non-fiction</td>\n",
              "      <td>2023-07-01</td>\n",
              "      <td>2023-07-08</td>\n",
              "      <td>Express</td>\n",
              "      <td>5</td>\n",
              "      <td>2590.38</td>\n",
              "      <td>0.44</td>\n",
              "      <td>7253.06</td>\n",
              "      <td>2175.92</td>\n",
              "      <td>East</td>\n",
              "      <td>3</td>\n",
              "      <td>7</td>\n",
              "      <td>Saturday</td>\n",
              "      <td>True</td>\n",
              "      <td>7</td>\n",
              "    </tr>\n",
              "    <tr>\n",
              "      <th>96</th>\n",
              "      <td>ORD100096</td>\n",
              "      <td>CUST77011</td>\n",
              "      <td>Response Haircare</td>\n",
              "      <td>Beauty</td>\n",
              "      <td>Haircare</td>\n",
              "      <td>2025-01-02</td>\n",
              "      <td>2025-01-07</td>\n",
              "      <td>Standard</td>\n",
              "      <td>1</td>\n",
              "      <td>1485.91</td>\n",
              "      <td>0.15</td>\n",
              "      <td>1263.02</td>\n",
              "      <td>378.91</td>\n",
              "      <td>West</td>\n",
              "      <td>4</td>\n",
              "      <td>5</td>\n",
              "      <td>Thursday</td>\n",
              "      <td>False</td>\n",
              "      <td>1</td>\n",
              "    </tr>\n",
              "    <tr>\n",
              "      <th>97</th>\n",
              "      <td>ORD100097</td>\n",
              "      <td>CUST60682</td>\n",
              "      <td>Building Fragrances</td>\n",
              "      <td>Beauty</td>\n",
              "      <td>Fragrances</td>\n",
              "      <td>2024-12-03</td>\n",
              "      <td>2024-12-07</td>\n",
              "      <td>Standard</td>\n",
              "      <td>3</td>\n",
              "      <td>1728.96</td>\n",
              "      <td>0.38</td>\n",
              "      <td>3215.87</td>\n",
              "      <td>964.76</td>\n",
              "      <td>South</td>\n",
              "      <td>3</td>\n",
              "      <td>4</td>\n",
              "      <td>Tuesday</td>\n",
              "      <td>False</td>\n",
              "      <td>12</td>\n",
              "    </tr>\n",
              "    <tr>\n",
              "      <th>98</th>\n",
              "      <td>ORD100098</td>\n",
              "      <td>CUST98609</td>\n",
              "      <td>Value Fragrances</td>\n",
              "      <td>Beauty</td>\n",
              "      <td>Fragrances</td>\n",
              "      <td>2024-08-13</td>\n",
              "      <td>2024-08-16</td>\n",
              "      <td>Same Day</td>\n",
              "      <td>2</td>\n",
              "      <td>4294.46</td>\n",
              "      <td>0.21</td>\n",
              "      <td>6785.25</td>\n",
              "      <td>2035.57</td>\n",
              "      <td>West</td>\n",
              "      <td>4</td>\n",
              "      <td>3</td>\n",
              "      <td>Tuesday</td>\n",
              "      <td>False</td>\n",
              "      <td>8</td>\n",
              "    </tr>\n",
              "    <tr>\n",
              "      <th>99</th>\n",
              "      <td>ORD100099</td>\n",
              "      <td>CUST44515</td>\n",
              "      <td>Social Non-fiction</td>\n",
              "      <td>Books</td>\n",
              "      <td>Non-fiction</td>\n",
              "      <td>2024-01-16</td>\n",
              "      <td>2024-01-21</td>\n",
              "      <td>Express</td>\n",
              "      <td>4</td>\n",
              "      <td>4827.64</td>\n",
              "      <td>0.06</td>\n",
              "      <td>18151.93</td>\n",
              "      <td>5445.58</td>\n",
              "      <td>North</td>\n",
              "      <td>1</td>\n",
              "      <td>5</td>\n",
              "      <td>Tuesday</td>\n",
              "      <td>False</td>\n",
              "      <td>1</td>\n",
              "    </tr>\n",
              "  </tbody>\n",
              "</table>\n",
              "<p>100 rows × 19 columns</p>\n",
              "</div>\n",
              "    <div class=\"colab-df-buttons\">\n",
              "\n",
              "  <div class=\"colab-df-container\">\n",
              "    <button class=\"colab-df-convert\" onclick=\"convertToInteractive('df-59dc32bf-4a8a-46a8-9343-f93877ea3f43')\"\n",
              "            title=\"Convert this dataframe to an interactive table.\"\n",
              "            style=\"display:none;\">\n",
              "\n",
              "  <svg xmlns=\"http://www.w3.org/2000/svg\" height=\"24px\" viewBox=\"0 -960 960 960\">\n",
              "    <path d=\"M120-120v-720h720v720H120Zm60-500h600v-160H180v160Zm220 220h160v-160H400v160Zm0 220h160v-160H400v160ZM180-400h160v-160H180v160Zm440 0h160v-160H620v160ZM180-180h160v-160H180v160Zm440 0h160v-160H620v160Z\"/>\n",
              "  </svg>\n",
              "    </button>\n",
              "\n",
              "  <style>\n",
              "    .colab-df-container {\n",
              "      display:flex;\n",
              "      gap: 12px;\n",
              "    }\n",
              "\n",
              "    .colab-df-convert {\n",
              "      background-color: #E8F0FE;\n",
              "      border: none;\n",
              "      border-radius: 50%;\n",
              "      cursor: pointer;\n",
              "      display: none;\n",
              "      fill: #1967D2;\n",
              "      height: 32px;\n",
              "      padding: 0 0 0 0;\n",
              "      width: 32px;\n",
              "    }\n",
              "\n",
              "    .colab-df-convert:hover {\n",
              "      background-color: #E2EBFA;\n",
              "      box-shadow: 0px 1px 2px rgba(60, 64, 67, 0.3), 0px 1px 3px 1px rgba(60, 64, 67, 0.15);\n",
              "      fill: #174EA6;\n",
              "    }\n",
              "\n",
              "    .colab-df-buttons div {\n",
              "      margin-bottom: 4px;\n",
              "    }\n",
              "\n",
              "    [theme=dark] .colab-df-convert {\n",
              "      background-color: #3B4455;\n",
              "      fill: #D2E3FC;\n",
              "    }\n",
              "\n",
              "    [theme=dark] .colab-df-convert:hover {\n",
              "      background-color: #434B5C;\n",
              "      box-shadow: 0px 1px 3px 1px rgba(0, 0, 0, 0.15);\n",
              "      filter: drop-shadow(0px 1px 2px rgba(0, 0, 0, 0.3));\n",
              "      fill: #FFFFFF;\n",
              "    }\n",
              "  </style>\n",
              "\n",
              "    <script>\n",
              "      const buttonEl =\n",
              "        document.querySelector('#df-59dc32bf-4a8a-46a8-9343-f93877ea3f43 button.colab-df-convert');\n",
              "      buttonEl.style.display =\n",
              "        google.colab.kernel.accessAllowed ? 'block' : 'none';\n",
              "\n",
              "      async function convertToInteractive(key) {\n",
              "        const element = document.querySelector('#df-59dc32bf-4a8a-46a8-9343-f93877ea3f43');\n",
              "        const dataTable =\n",
              "          await google.colab.kernel.invokeFunction('convertToInteractive',\n",
              "                                                    [key], {});\n",
              "        if (!dataTable) return;\n",
              "\n",
              "        const docLinkHtml = 'Like what you see? Visit the ' +\n",
              "          '<a target=\"_blank\" href=https://colab.research.google.com/notebooks/data_table.ipynb>data table notebook</a>'\n",
              "          + ' to learn more about interactive tables.';\n",
              "        element.innerHTML = '';\n",
              "        dataTable['output_type'] = 'display_data';\n",
              "        await google.colab.output.renderOutput(dataTable, element);\n",
              "        const docLink = document.createElement('div');\n",
              "        docLink.innerHTML = docLinkHtml;\n",
              "        element.appendChild(docLink);\n",
              "      }\n",
              "    </script>\n",
              "  </div>\n",
              "\n",
              "\n",
              "    <div id=\"df-9bba4919-547e-4dbf-858b-b6dbcdf72279\">\n",
              "      <button class=\"colab-df-quickchart\" onclick=\"quickchart('df-9bba4919-547e-4dbf-858b-b6dbcdf72279')\"\n",
              "                title=\"Suggest charts\"\n",
              "                style=\"display:none;\">\n",
              "\n",
              "<svg xmlns=\"http://www.w3.org/2000/svg\" height=\"24px\"viewBox=\"0 0 24 24\"\n",
              "     width=\"24px\">\n",
              "    <g>\n",
              "        <path d=\"M19 3H5c-1.1 0-2 .9-2 2v14c0 1.1.9 2 2 2h14c1.1 0 2-.9 2-2V5c0-1.1-.9-2-2-2zM9 17H7v-7h2v7zm4 0h-2V7h2v10zm4 0h-2v-4h2v4z\"/>\n",
              "    </g>\n",
              "</svg>\n",
              "      </button>\n",
              "\n",
              "<style>\n",
              "  .colab-df-quickchart {\n",
              "      --bg-color: #E8F0FE;\n",
              "      --fill-color: #1967D2;\n",
              "      --hover-bg-color: #E2EBFA;\n",
              "      --hover-fill-color: #174EA6;\n",
              "      --disabled-fill-color: #AAA;\n",
              "      --disabled-bg-color: #DDD;\n",
              "  }\n",
              "\n",
              "  [theme=dark] .colab-df-quickchart {\n",
              "      --bg-color: #3B4455;\n",
              "      --fill-color: #D2E3FC;\n",
              "      --hover-bg-color: #434B5C;\n",
              "      --hover-fill-color: #FFFFFF;\n",
              "      --disabled-bg-color: #3B4455;\n",
              "      --disabled-fill-color: #666;\n",
              "  }\n",
              "\n",
              "  .colab-df-quickchart {\n",
              "    background-color: var(--bg-color);\n",
              "    border: none;\n",
              "    border-radius: 50%;\n",
              "    cursor: pointer;\n",
              "    display: none;\n",
              "    fill: var(--fill-color);\n",
              "    height: 32px;\n",
              "    padding: 0;\n",
              "    width: 32px;\n",
              "  }\n",
              "\n",
              "  .colab-df-quickchart:hover {\n",
              "    background-color: var(--hover-bg-color);\n",
              "    box-shadow: 0 1px 2px rgba(60, 64, 67, 0.3), 0 1px 3px 1px rgba(60, 64, 67, 0.15);\n",
              "    fill: var(--button-hover-fill-color);\n",
              "  }\n",
              "\n",
              "  .colab-df-quickchart-complete:disabled,\n",
              "  .colab-df-quickchart-complete:disabled:hover {\n",
              "    background-color: var(--disabled-bg-color);\n",
              "    fill: var(--disabled-fill-color);\n",
              "    box-shadow: none;\n",
              "  }\n",
              "\n",
              "  .colab-df-spinner {\n",
              "    border: 2px solid var(--fill-color);\n",
              "    border-color: transparent;\n",
              "    border-bottom-color: var(--fill-color);\n",
              "    animation:\n",
              "      spin 1s steps(1) infinite;\n",
              "  }\n",
              "\n",
              "  @keyframes spin {\n",
              "    0% {\n",
              "      border-color: transparent;\n",
              "      border-bottom-color: var(--fill-color);\n",
              "      border-left-color: var(--fill-color);\n",
              "    }\n",
              "    20% {\n",
              "      border-color: transparent;\n",
              "      border-left-color: var(--fill-color);\n",
              "      border-top-color: var(--fill-color);\n",
              "    }\n",
              "    30% {\n",
              "      border-color: transparent;\n",
              "      border-left-color: var(--fill-color);\n",
              "      border-top-color: var(--fill-color);\n",
              "      border-right-color: var(--fill-color);\n",
              "    }\n",
              "    40% {\n",
              "      border-color: transparent;\n",
              "      border-right-color: var(--fill-color);\n",
              "      border-top-color: var(--fill-color);\n",
              "    }\n",
              "    60% {\n",
              "      border-color: transparent;\n",
              "      border-right-color: var(--fill-color);\n",
              "    }\n",
              "    80% {\n",
              "      border-color: transparent;\n",
              "      border-right-color: var(--fill-color);\n",
              "      border-bottom-color: var(--fill-color);\n",
              "    }\n",
              "    90% {\n",
              "      border-color: transparent;\n",
              "      border-bottom-color: var(--fill-color);\n",
              "    }\n",
              "  }\n",
              "</style>\n",
              "\n",
              "      <script>\n",
              "        async function quickchart(key) {\n",
              "          const quickchartButtonEl =\n",
              "            document.querySelector('#' + key + ' button');\n",
              "          quickchartButtonEl.disabled = true;  // To prevent multiple clicks.\n",
              "          quickchartButtonEl.classList.add('colab-df-spinner');\n",
              "          try {\n",
              "            const charts = await google.colab.kernel.invokeFunction(\n",
              "                'suggestCharts', [key], {});\n",
              "          } catch (error) {\n",
              "            console.error('Error during call to suggestCharts:', error);\n",
              "          }\n",
              "          quickchartButtonEl.classList.remove('colab-df-spinner');\n",
              "          quickchartButtonEl.classList.add('colab-df-quickchart-complete');\n",
              "        }\n",
              "        (() => {\n",
              "          let quickchartButtonEl =\n",
              "            document.querySelector('#df-9bba4919-547e-4dbf-858b-b6dbcdf72279 button');\n",
              "          quickchartButtonEl.style.display =\n",
              "            google.colab.kernel.accessAllowed ? 'block' : 'none';\n",
              "        })();\n",
              "      </script>\n",
              "    </div>\n",
              "\n",
              "    </div>\n",
              "  </div>\n"
            ],
            "application/vnd.google.colaboratory.intrinsic+json": {
              "type": "dataframe",
              "variable_name": "df",
              "summary": "{\n  \"name\": \"df\",\n  \"rows\": 50000,\n  \"fields\": [\n    {\n      \"column\": \"Order_ID\",\n      \"properties\": {\n        \"dtype\": \"string\",\n        \"num_unique_values\": 50000,\n        \"samples\": [\n          \"ORD133553\",\n          \"ORD109427\",\n          \"ORD100199\"\n        ],\n        \"semantic_type\": \"\",\n        \"description\": \"\"\n      }\n    },\n    {\n      \"column\": \"Customer_ID\",\n      \"properties\": {\n        \"dtype\": \"string\",\n        \"num_unique_values\": 39344,\n        \"samples\": [\n          \"CUST14570\",\n          \"CUST59707\",\n          \"CUST84353\"\n        ],\n        \"semantic_type\": \"\",\n        \"description\": \"\"\n      }\n    },\n    {\n      \"column\": \"Product_Name\",\n      \"properties\": {\n        \"dtype\": \"category\",\n        \"num_unique_values\": 17132,\n        \"samples\": [\n          \"Language Laptops\",\n          \"Well Furniture\",\n          \"My Cookware\"\n        ],\n        \"semantic_type\": \"\",\n        \"description\": \"\"\n      }\n    },\n    {\n      \"column\": \"Category\",\n      \"properties\": {\n        \"dtype\": \"category\",\n        \"num_unique_values\": 5,\n        \"samples\": [\n          \"Clothing\",\n          \"Home & Kitchen\",\n          \"Books\"\n        ],\n        \"semantic_type\": \"\",\n        \"description\": \"\"\n      }\n    },\n    {\n      \"column\": \"Sub_Category\",\n      \"properties\": {\n        \"dtype\": \"category\",\n        \"num_unique_values\": 19,\n        \"samples\": [\n          \"Mobile Phones\",\n          \"Skincare\",\n          \"Makeup\"\n        ],\n        \"semantic_type\": \"\",\n        \"description\": \"\"\n      }\n    },\n    {\n      \"column\": \"Order_Date\",\n      \"properties\": {\n        \"dtype\": \"object\",\n        \"num_unique_values\": 731,\n        \"samples\": [\n          \"2024-01-13\",\n          \"2024-10-23\",\n          \"2023-11-24\"\n        ],\n        \"semantic_type\": \"\",\n        \"description\": \"\"\n      }\n    },\n    {\n      \"column\": \"Ship_Date\",\n      \"properties\": {\n        \"dtype\": \"object\",\n        \"num_unique_values\": 737,\n        \"samples\": [\n          \"2025-03-11\",\n          \"2024-02-12\",\n          \"2024-11-10\"\n        ],\n        \"semantic_type\": \"\",\n        \"description\": \"\"\n      }\n    },\n    {\n      \"column\": \"Ship_Mode\",\n      \"properties\": {\n        \"dtype\": \"category\",\n        \"num_unique_values\": 3,\n        \"samples\": [\n          \"Standard\",\n          \"Same Day\",\n          \"Express\"\n        ],\n        \"semantic_type\": \"\",\n        \"description\": \"\"\n      }\n    },\n    {\n      \"column\": \"Order_Quantity\",\n      \"properties\": {\n        \"dtype\": \"number\",\n        \"std\": 1,\n        \"min\": 1,\n        \"max\": 5,\n        \"num_unique_values\": 5,\n        \"samples\": [\n          1,\n          2,\n          5\n        ],\n        \"semantic_type\": \"\",\n        \"description\": \"\"\n      }\n    },\n    {\n      \"column\": \"Unit_Price\",\n      \"properties\": {\n        \"dtype\": \"number\",\n        \"std\": 1418.5231054147519,\n        \"min\": 100.21,\n        \"max\": 4999.95,\n        \"num_unique_values\": 47536,\n        \"samples\": [\n          2957.75,\n          2227.11,\n          243.57\n        ],\n        \"semantic_type\": \"\",\n        \"description\": \"\"\n      }\n    },\n    {\n      \"column\": \"Discount\",\n      \"properties\": {\n        \"dtype\": \"number\",\n        \"std\": 0.1443929847905447,\n        \"min\": 0.0,\n        \"max\": 0.5,\n        \"num_unique_values\": 51,\n        \"samples\": [\n          0.06,\n          0.5,\n          0.0\n        ],\n        \"semantic_type\": \"\",\n        \"description\": \"\"\n      }\n    },\n    {\n      \"column\": \"Total_Sales\",\n      \"properties\": {\n        \"dtype\": \"number\",\n        \"std\": 4643.1760791086235,\n        \"min\": 55.65,\n        \"max\": 24934.95,\n        \"num_unique_values\": 48959,\n        \"samples\": [\n          1610.31,\n          5103.84,\n          8301.13\n        ],\n        \"semantic_type\": \"\",\n        \"description\": \"\"\n      }\n    },\n    {\n      \"column\": \"Profit\",\n      \"properties\": {\n        \"dtype\": \"number\",\n        \"std\": 1392.9528231364268,\n        \"min\": 16.69,\n        \"max\": 7480.49,\n        \"num_unique_values\": 46703,\n        \"samples\": [\n          747.61,\n          1952.5,\n          2559.9\n        ],\n        \"semantic_type\": \"\",\n        \"description\": \"\"\n      }\n    },\n    {\n      \"column\": \"Region\",\n      \"properties\": {\n        \"dtype\": \"category\",\n        \"num_unique_values\": 4,\n        \"samples\": [\n          \"East\",\n          \"South\",\n          \"West\"\n        ],\n        \"semantic_type\": \"\",\n        \"description\": \"\"\n      }\n    },\n    {\n      \"column\": \"Customer_Rating\",\n      \"properties\": {\n        \"dtype\": \"number\",\n        \"std\": 1,\n        \"min\": 1,\n        \"max\": 5,\n        \"num_unique_values\": 5,\n        \"samples\": [\n          2,\n          1,\n          4\n        ],\n        \"semantic_type\": \"\",\n        \"description\": \"\"\n      }\n    },\n    {\n      \"column\": \"Shipping_Delay\",\n      \"properties\": {\n        \"dtype\": \"number\",\n        \"std\": 2,\n        \"min\": 1,\n        \"max\": 7,\n        \"num_unique_values\": 7,\n        \"samples\": [\n          1,\n          7,\n          2\n        ],\n        \"semantic_type\": \"\",\n        \"description\": \"\"\n      }\n    },\n    {\n      \"column\": \"Weekday\",\n      \"properties\": {\n        \"dtype\": \"category\",\n        \"num_unique_values\": 7,\n        \"samples\": [\n          \"Sunday\",\n          \"Saturday\",\n          \"Friday\"\n        ],\n        \"semantic_type\": \"\",\n        \"description\": \"\"\n      }\n    },\n    {\n      \"column\": \"Weekend\",\n      \"properties\": {\n        \"dtype\": \"boolean\",\n        \"num_unique_values\": 2,\n        \"samples\": [\n          false,\n          true\n        ],\n        \"semantic_type\": \"\",\n        \"description\": \"\"\n      }\n    },\n    {\n      \"column\": \"Month\",\n      \"properties\": {\n        \"dtype\": \"number\",\n        \"std\": 3,\n        \"min\": 1,\n        \"max\": 12,\n        \"num_unique_values\": 12,\n        \"samples\": [\n          3,\n          2\n        ],\n        \"semantic_type\": \"\",\n        \"description\": \"\"\n      }\n    }\n  ]\n}"
            }
          },
          "metadata": {},
          "execution_count": 5
        }
      ],
      "source": [
        "df.head(100)"
      ]
    },
    {
      "cell_type": "markdown",
      "metadata": {
        "id": "pGPjernGNL7R"
      },
      "source": [
        "### To check number of rows and columns"
      ]
    },
    {
      "cell_type": "code",
      "execution_count": 6,
      "metadata": {
        "id": "8cyyjUeuNVCQ",
        "colab": {
          "base_uri": "https://localhost:8080/"
        },
        "outputId": "12b4df49-9a8c-4eca-ed08-b3df6d7fa0ca"
      },
      "outputs": [
        {
          "output_type": "execute_result",
          "data": {
            "text/plain": [
              "(50000, 19)"
            ]
          },
          "metadata": {},
          "execution_count": 6
        }
      ],
      "source": [
        "df.shape"
      ]
    },
    {
      "cell_type": "markdown",
      "metadata": {
        "id": "NSIcxzeEOdEs"
      },
      "source": [
        "### To check features of the schemas avilable in the data"
      ]
    },
    {
      "cell_type": "code",
      "execution_count": 7,
      "metadata": {
        "id": "UUsq045uOeqt",
        "colab": {
          "base_uri": "https://localhost:8080/"
        },
        "outputId": "6e23ca1a-0780-4202-bedc-80404ef299bc"
      },
      "outputs": [
        {
          "output_type": "stream",
          "name": "stdout",
          "text": [
            "<class 'pandas.core.frame.DataFrame'>\n",
            "RangeIndex: 50000 entries, 0 to 49999\n",
            "Data columns (total 19 columns):\n",
            " #   Column           Non-Null Count  Dtype  \n",
            "---  ------           --------------  -----  \n",
            " 0   Order_ID         50000 non-null  object \n",
            " 1   Customer_ID      50000 non-null  object \n",
            " 2   Product_Name     50000 non-null  object \n",
            " 3   Category         50000 non-null  object \n",
            " 4   Sub_Category     50000 non-null  object \n",
            " 5   Order_Date       50000 non-null  object \n",
            " 6   Ship_Date        50000 non-null  object \n",
            " 7   Ship_Mode        50000 non-null  object \n",
            " 8   Order_Quantity   50000 non-null  int64  \n",
            " 9   Unit_Price       50000 non-null  float64\n",
            " 10  Discount         50000 non-null  float64\n",
            " 11  Total_Sales      50000 non-null  float64\n",
            " 12  Profit           50000 non-null  float64\n",
            " 13  Region           50000 non-null  object \n",
            " 14  Customer_Rating  50000 non-null  int64  \n",
            " 15  Shipping_Delay   50000 non-null  int64  \n",
            " 16  Weekday          50000 non-null  object \n",
            " 17  Weekend          50000 non-null  bool   \n",
            " 18  Month            50000 non-null  int64  \n",
            "dtypes: bool(1), float64(4), int64(4), object(10)\n",
            "memory usage: 6.9+ MB\n"
          ]
        }
      ],
      "source": [
        "df.info()"
      ]
    },
    {
      "cell_type": "markdown",
      "metadata": {
        "id": "ogiTXdchOrDz"
      },
      "source": [
        "### To check null values in True or False"
      ]
    },
    {
      "cell_type": "code",
      "execution_count": 8,
      "metadata": {
        "id": "RuVc5v6jOsev",
        "colab": {
          "base_uri": "https://localhost:8080/",
          "height": 443
        },
        "outputId": "ffff6a65-e5c7-42ed-ef5c-a25f20c1d7fb"
      },
      "outputs": [
        {
          "output_type": "execute_result",
          "data": {
            "text/plain": [
              "       Order_ID  Customer_ID  Product_Name  Category  Sub_Category  \\\n",
              "0         False        False         False     False         False   \n",
              "1         False        False         False     False         False   \n",
              "2         False        False         False     False         False   \n",
              "3         False        False         False     False         False   \n",
              "4         False        False         False     False         False   \n",
              "...         ...          ...           ...       ...           ...   \n",
              "49995     False        False         False     False         False   \n",
              "49996     False        False         False     False         False   \n",
              "49997     False        False         False     False         False   \n",
              "49998     False        False         False     False         False   \n",
              "49999     False        False         False     False         False   \n",
              "\n",
              "       Order_Date  Ship_Date  Ship_Mode  Order_Quantity  Unit_Price  Discount  \\\n",
              "0           False      False      False           False       False     False   \n",
              "1           False      False      False           False       False     False   \n",
              "2           False      False      False           False       False     False   \n",
              "3           False      False      False           False       False     False   \n",
              "4           False      False      False           False       False     False   \n",
              "...           ...        ...        ...             ...         ...       ...   \n",
              "49995       False      False      False           False       False     False   \n",
              "49996       False      False      False           False       False     False   \n",
              "49997       False      False      False           False       False     False   \n",
              "49998       False      False      False           False       False     False   \n",
              "49999       False      False      False           False       False     False   \n",
              "\n",
              "       Total_Sales  Profit  Region  Customer_Rating  Shipping_Delay  Weekday  \\\n",
              "0            False   False   False            False           False    False   \n",
              "1            False   False   False            False           False    False   \n",
              "2            False   False   False            False           False    False   \n",
              "3            False   False   False            False           False    False   \n",
              "4            False   False   False            False           False    False   \n",
              "...            ...     ...     ...              ...             ...      ...   \n",
              "49995        False   False   False            False           False    False   \n",
              "49996        False   False   False            False           False    False   \n",
              "49997        False   False   False            False           False    False   \n",
              "49998        False   False   False            False           False    False   \n",
              "49999        False   False   False            False           False    False   \n",
              "\n",
              "       Weekend  Month  \n",
              "0        False  False  \n",
              "1        False  False  \n",
              "2        False  False  \n",
              "3        False  False  \n",
              "4        False  False  \n",
              "...        ...    ...  \n",
              "49995    False  False  \n",
              "49996    False  False  \n",
              "49997    False  False  \n",
              "49998    False  False  \n",
              "49999    False  False  \n",
              "\n",
              "[50000 rows x 19 columns]"
            ],
            "text/html": [
              "\n",
              "  <div id=\"df-7f55c1ad-bf03-4d48-bbe4-7a7008b572ac\" class=\"colab-df-container\">\n",
              "    <div>\n",
              "<style scoped>\n",
              "    .dataframe tbody tr th:only-of-type {\n",
              "        vertical-align: middle;\n",
              "    }\n",
              "\n",
              "    .dataframe tbody tr th {\n",
              "        vertical-align: top;\n",
              "    }\n",
              "\n",
              "    .dataframe thead th {\n",
              "        text-align: right;\n",
              "    }\n",
              "</style>\n",
              "<table border=\"1\" class=\"dataframe\">\n",
              "  <thead>\n",
              "    <tr style=\"text-align: right;\">\n",
              "      <th></th>\n",
              "      <th>Order_ID</th>\n",
              "      <th>Customer_ID</th>\n",
              "      <th>Product_Name</th>\n",
              "      <th>Category</th>\n",
              "      <th>Sub_Category</th>\n",
              "      <th>Order_Date</th>\n",
              "      <th>Ship_Date</th>\n",
              "      <th>Ship_Mode</th>\n",
              "      <th>Order_Quantity</th>\n",
              "      <th>Unit_Price</th>\n",
              "      <th>Discount</th>\n",
              "      <th>Total_Sales</th>\n",
              "      <th>Profit</th>\n",
              "      <th>Region</th>\n",
              "      <th>Customer_Rating</th>\n",
              "      <th>Shipping_Delay</th>\n",
              "      <th>Weekday</th>\n",
              "      <th>Weekend</th>\n",
              "      <th>Month</th>\n",
              "    </tr>\n",
              "  </thead>\n",
              "  <tbody>\n",
              "    <tr>\n",
              "      <th>0</th>\n",
              "      <td>False</td>\n",
              "      <td>False</td>\n",
              "      <td>False</td>\n",
              "      <td>False</td>\n",
              "      <td>False</td>\n",
              "      <td>False</td>\n",
              "      <td>False</td>\n",
              "      <td>False</td>\n",
              "      <td>False</td>\n",
              "      <td>False</td>\n",
              "      <td>False</td>\n",
              "      <td>False</td>\n",
              "      <td>False</td>\n",
              "      <td>False</td>\n",
              "      <td>False</td>\n",
              "      <td>False</td>\n",
              "      <td>False</td>\n",
              "      <td>False</td>\n",
              "      <td>False</td>\n",
              "    </tr>\n",
              "    <tr>\n",
              "      <th>1</th>\n",
              "      <td>False</td>\n",
              "      <td>False</td>\n",
              "      <td>False</td>\n",
              "      <td>False</td>\n",
              "      <td>False</td>\n",
              "      <td>False</td>\n",
              "      <td>False</td>\n",
              "      <td>False</td>\n",
              "      <td>False</td>\n",
              "      <td>False</td>\n",
              "      <td>False</td>\n",
              "      <td>False</td>\n",
              "      <td>False</td>\n",
              "      <td>False</td>\n",
              "      <td>False</td>\n",
              "      <td>False</td>\n",
              "      <td>False</td>\n",
              "      <td>False</td>\n",
              "      <td>False</td>\n",
              "    </tr>\n",
              "    <tr>\n",
              "      <th>2</th>\n",
              "      <td>False</td>\n",
              "      <td>False</td>\n",
              "      <td>False</td>\n",
              "      <td>False</td>\n",
              "      <td>False</td>\n",
              "      <td>False</td>\n",
              "      <td>False</td>\n",
              "      <td>False</td>\n",
              "      <td>False</td>\n",
              "      <td>False</td>\n",
              "      <td>False</td>\n",
              "      <td>False</td>\n",
              "      <td>False</td>\n",
              "      <td>False</td>\n",
              "      <td>False</td>\n",
              "      <td>False</td>\n",
              "      <td>False</td>\n",
              "      <td>False</td>\n",
              "      <td>False</td>\n",
              "    </tr>\n",
              "    <tr>\n",
              "      <th>3</th>\n",
              "      <td>False</td>\n",
              "      <td>False</td>\n",
              "      <td>False</td>\n",
              "      <td>False</td>\n",
              "      <td>False</td>\n",
              "      <td>False</td>\n",
              "      <td>False</td>\n",
              "      <td>False</td>\n",
              "      <td>False</td>\n",
              "      <td>False</td>\n",
              "      <td>False</td>\n",
              "      <td>False</td>\n",
              "      <td>False</td>\n",
              "      <td>False</td>\n",
              "      <td>False</td>\n",
              "      <td>False</td>\n",
              "      <td>False</td>\n",
              "      <td>False</td>\n",
              "      <td>False</td>\n",
              "    </tr>\n",
              "    <tr>\n",
              "      <th>4</th>\n",
              "      <td>False</td>\n",
              "      <td>False</td>\n",
              "      <td>False</td>\n",
              "      <td>False</td>\n",
              "      <td>False</td>\n",
              "      <td>False</td>\n",
              "      <td>False</td>\n",
              "      <td>False</td>\n",
              "      <td>False</td>\n",
              "      <td>False</td>\n",
              "      <td>False</td>\n",
              "      <td>False</td>\n",
              "      <td>False</td>\n",
              "      <td>False</td>\n",
              "      <td>False</td>\n",
              "      <td>False</td>\n",
              "      <td>False</td>\n",
              "      <td>False</td>\n",
              "      <td>False</td>\n",
              "    </tr>\n",
              "    <tr>\n",
              "      <th>...</th>\n",
              "      <td>...</td>\n",
              "      <td>...</td>\n",
              "      <td>...</td>\n",
              "      <td>...</td>\n",
              "      <td>...</td>\n",
              "      <td>...</td>\n",
              "      <td>...</td>\n",
              "      <td>...</td>\n",
              "      <td>...</td>\n",
              "      <td>...</td>\n",
              "      <td>...</td>\n",
              "      <td>...</td>\n",
              "      <td>...</td>\n",
              "      <td>...</td>\n",
              "      <td>...</td>\n",
              "      <td>...</td>\n",
              "      <td>...</td>\n",
              "      <td>...</td>\n",
              "      <td>...</td>\n",
              "    </tr>\n",
              "    <tr>\n",
              "      <th>49995</th>\n",
              "      <td>False</td>\n",
              "      <td>False</td>\n",
              "      <td>False</td>\n",
              "      <td>False</td>\n",
              "      <td>False</td>\n",
              "      <td>False</td>\n",
              "      <td>False</td>\n",
              "      <td>False</td>\n",
              "      <td>False</td>\n",
              "      <td>False</td>\n",
              "      <td>False</td>\n",
              "      <td>False</td>\n",
              "      <td>False</td>\n",
              "      <td>False</td>\n",
              "      <td>False</td>\n",
              "      <td>False</td>\n",
              "      <td>False</td>\n",
              "      <td>False</td>\n",
              "      <td>False</td>\n",
              "    </tr>\n",
              "    <tr>\n",
              "      <th>49996</th>\n",
              "      <td>False</td>\n",
              "      <td>False</td>\n",
              "      <td>False</td>\n",
              "      <td>False</td>\n",
              "      <td>False</td>\n",
              "      <td>False</td>\n",
              "      <td>False</td>\n",
              "      <td>False</td>\n",
              "      <td>False</td>\n",
              "      <td>False</td>\n",
              "      <td>False</td>\n",
              "      <td>False</td>\n",
              "      <td>False</td>\n",
              "      <td>False</td>\n",
              "      <td>False</td>\n",
              "      <td>False</td>\n",
              "      <td>False</td>\n",
              "      <td>False</td>\n",
              "      <td>False</td>\n",
              "    </tr>\n",
              "    <tr>\n",
              "      <th>49997</th>\n",
              "      <td>False</td>\n",
              "      <td>False</td>\n",
              "      <td>False</td>\n",
              "      <td>False</td>\n",
              "      <td>False</td>\n",
              "      <td>False</td>\n",
              "      <td>False</td>\n",
              "      <td>False</td>\n",
              "      <td>False</td>\n",
              "      <td>False</td>\n",
              "      <td>False</td>\n",
              "      <td>False</td>\n",
              "      <td>False</td>\n",
              "      <td>False</td>\n",
              "      <td>False</td>\n",
              "      <td>False</td>\n",
              "      <td>False</td>\n",
              "      <td>False</td>\n",
              "      <td>False</td>\n",
              "    </tr>\n",
              "    <tr>\n",
              "      <th>49998</th>\n",
              "      <td>False</td>\n",
              "      <td>False</td>\n",
              "      <td>False</td>\n",
              "      <td>False</td>\n",
              "      <td>False</td>\n",
              "      <td>False</td>\n",
              "      <td>False</td>\n",
              "      <td>False</td>\n",
              "      <td>False</td>\n",
              "      <td>False</td>\n",
              "      <td>False</td>\n",
              "      <td>False</td>\n",
              "      <td>False</td>\n",
              "      <td>False</td>\n",
              "      <td>False</td>\n",
              "      <td>False</td>\n",
              "      <td>False</td>\n",
              "      <td>False</td>\n",
              "      <td>False</td>\n",
              "    </tr>\n",
              "    <tr>\n",
              "      <th>49999</th>\n",
              "      <td>False</td>\n",
              "      <td>False</td>\n",
              "      <td>False</td>\n",
              "      <td>False</td>\n",
              "      <td>False</td>\n",
              "      <td>False</td>\n",
              "      <td>False</td>\n",
              "      <td>False</td>\n",
              "      <td>False</td>\n",
              "      <td>False</td>\n",
              "      <td>False</td>\n",
              "      <td>False</td>\n",
              "      <td>False</td>\n",
              "      <td>False</td>\n",
              "      <td>False</td>\n",
              "      <td>False</td>\n",
              "      <td>False</td>\n",
              "      <td>False</td>\n",
              "      <td>False</td>\n",
              "    </tr>\n",
              "  </tbody>\n",
              "</table>\n",
              "<p>50000 rows × 19 columns</p>\n",
              "</div>\n",
              "    <div class=\"colab-df-buttons\">\n",
              "\n",
              "  <div class=\"colab-df-container\">\n",
              "    <button class=\"colab-df-convert\" onclick=\"convertToInteractive('df-7f55c1ad-bf03-4d48-bbe4-7a7008b572ac')\"\n",
              "            title=\"Convert this dataframe to an interactive table.\"\n",
              "            style=\"display:none;\">\n",
              "\n",
              "  <svg xmlns=\"http://www.w3.org/2000/svg\" height=\"24px\" viewBox=\"0 -960 960 960\">\n",
              "    <path d=\"M120-120v-720h720v720H120Zm60-500h600v-160H180v160Zm220 220h160v-160H400v160Zm0 220h160v-160H400v160ZM180-400h160v-160H180v160Zm440 0h160v-160H620v160ZM180-180h160v-160H180v160Zm440 0h160v-160H620v160Z\"/>\n",
              "  </svg>\n",
              "    </button>\n",
              "\n",
              "  <style>\n",
              "    .colab-df-container {\n",
              "      display:flex;\n",
              "      gap: 12px;\n",
              "    }\n",
              "\n",
              "    .colab-df-convert {\n",
              "      background-color: #E8F0FE;\n",
              "      border: none;\n",
              "      border-radius: 50%;\n",
              "      cursor: pointer;\n",
              "      display: none;\n",
              "      fill: #1967D2;\n",
              "      height: 32px;\n",
              "      padding: 0 0 0 0;\n",
              "      width: 32px;\n",
              "    }\n",
              "\n",
              "    .colab-df-convert:hover {\n",
              "      background-color: #E2EBFA;\n",
              "      box-shadow: 0px 1px 2px rgba(60, 64, 67, 0.3), 0px 1px 3px 1px rgba(60, 64, 67, 0.15);\n",
              "      fill: #174EA6;\n",
              "    }\n",
              "\n",
              "    .colab-df-buttons div {\n",
              "      margin-bottom: 4px;\n",
              "    }\n",
              "\n",
              "    [theme=dark] .colab-df-convert {\n",
              "      background-color: #3B4455;\n",
              "      fill: #D2E3FC;\n",
              "    }\n",
              "\n",
              "    [theme=dark] .colab-df-convert:hover {\n",
              "      background-color: #434B5C;\n",
              "      box-shadow: 0px 1px 3px 1px rgba(0, 0, 0, 0.15);\n",
              "      filter: drop-shadow(0px 1px 2px rgba(0, 0, 0, 0.3));\n",
              "      fill: #FFFFFF;\n",
              "    }\n",
              "  </style>\n",
              "\n",
              "    <script>\n",
              "      const buttonEl =\n",
              "        document.querySelector('#df-7f55c1ad-bf03-4d48-bbe4-7a7008b572ac button.colab-df-convert');\n",
              "      buttonEl.style.display =\n",
              "        google.colab.kernel.accessAllowed ? 'block' : 'none';\n",
              "\n",
              "      async function convertToInteractive(key) {\n",
              "        const element = document.querySelector('#df-7f55c1ad-bf03-4d48-bbe4-7a7008b572ac');\n",
              "        const dataTable =\n",
              "          await google.colab.kernel.invokeFunction('convertToInteractive',\n",
              "                                                    [key], {});\n",
              "        if (!dataTable) return;\n",
              "\n",
              "        const docLinkHtml = 'Like what you see? Visit the ' +\n",
              "          '<a target=\"_blank\" href=https://colab.research.google.com/notebooks/data_table.ipynb>data table notebook</a>'\n",
              "          + ' to learn more about interactive tables.';\n",
              "        element.innerHTML = '';\n",
              "        dataTable['output_type'] = 'display_data';\n",
              "        await google.colab.output.renderOutput(dataTable, element);\n",
              "        const docLink = document.createElement('div');\n",
              "        docLink.innerHTML = docLinkHtml;\n",
              "        element.appendChild(docLink);\n",
              "      }\n",
              "    </script>\n",
              "  </div>\n",
              "\n",
              "\n",
              "    <div id=\"df-494e2bd5-fe51-4131-90c1-27b2440562b5\">\n",
              "      <button class=\"colab-df-quickchart\" onclick=\"quickchart('df-494e2bd5-fe51-4131-90c1-27b2440562b5')\"\n",
              "                title=\"Suggest charts\"\n",
              "                style=\"display:none;\">\n",
              "\n",
              "<svg xmlns=\"http://www.w3.org/2000/svg\" height=\"24px\"viewBox=\"0 0 24 24\"\n",
              "     width=\"24px\">\n",
              "    <g>\n",
              "        <path d=\"M19 3H5c-1.1 0-2 .9-2 2v14c0 1.1.9 2 2 2h14c1.1 0 2-.9 2-2V5c0-1.1-.9-2-2-2zM9 17H7v-7h2v7zm4 0h-2V7h2v10zm4 0h-2v-4h2v4z\"/>\n",
              "    </g>\n",
              "</svg>\n",
              "      </button>\n",
              "\n",
              "<style>\n",
              "  .colab-df-quickchart {\n",
              "      --bg-color: #E8F0FE;\n",
              "      --fill-color: #1967D2;\n",
              "      --hover-bg-color: #E2EBFA;\n",
              "      --hover-fill-color: #174EA6;\n",
              "      --disabled-fill-color: #AAA;\n",
              "      --disabled-bg-color: #DDD;\n",
              "  }\n",
              "\n",
              "  [theme=dark] .colab-df-quickchart {\n",
              "      --bg-color: #3B4455;\n",
              "      --fill-color: #D2E3FC;\n",
              "      --hover-bg-color: #434B5C;\n",
              "      --hover-fill-color: #FFFFFF;\n",
              "      --disabled-bg-color: #3B4455;\n",
              "      --disabled-fill-color: #666;\n",
              "  }\n",
              "\n",
              "  .colab-df-quickchart {\n",
              "    background-color: var(--bg-color);\n",
              "    border: none;\n",
              "    border-radius: 50%;\n",
              "    cursor: pointer;\n",
              "    display: none;\n",
              "    fill: var(--fill-color);\n",
              "    height: 32px;\n",
              "    padding: 0;\n",
              "    width: 32px;\n",
              "  }\n",
              "\n",
              "  .colab-df-quickchart:hover {\n",
              "    background-color: var(--hover-bg-color);\n",
              "    box-shadow: 0 1px 2px rgba(60, 64, 67, 0.3), 0 1px 3px 1px rgba(60, 64, 67, 0.15);\n",
              "    fill: var(--button-hover-fill-color);\n",
              "  }\n",
              "\n",
              "  .colab-df-quickchart-complete:disabled,\n",
              "  .colab-df-quickchart-complete:disabled:hover {\n",
              "    background-color: var(--disabled-bg-color);\n",
              "    fill: var(--disabled-fill-color);\n",
              "    box-shadow: none;\n",
              "  }\n",
              "\n",
              "  .colab-df-spinner {\n",
              "    border: 2px solid var(--fill-color);\n",
              "    border-color: transparent;\n",
              "    border-bottom-color: var(--fill-color);\n",
              "    animation:\n",
              "      spin 1s steps(1) infinite;\n",
              "  }\n",
              "\n",
              "  @keyframes spin {\n",
              "    0% {\n",
              "      border-color: transparent;\n",
              "      border-bottom-color: var(--fill-color);\n",
              "      border-left-color: var(--fill-color);\n",
              "    }\n",
              "    20% {\n",
              "      border-color: transparent;\n",
              "      border-left-color: var(--fill-color);\n",
              "      border-top-color: var(--fill-color);\n",
              "    }\n",
              "    30% {\n",
              "      border-color: transparent;\n",
              "      border-left-color: var(--fill-color);\n",
              "      border-top-color: var(--fill-color);\n",
              "      border-right-color: var(--fill-color);\n",
              "    }\n",
              "    40% {\n",
              "      border-color: transparent;\n",
              "      border-right-color: var(--fill-color);\n",
              "      border-top-color: var(--fill-color);\n",
              "    }\n",
              "    60% {\n",
              "      border-color: transparent;\n",
              "      border-right-color: var(--fill-color);\n",
              "    }\n",
              "    80% {\n",
              "      border-color: transparent;\n",
              "      border-right-color: var(--fill-color);\n",
              "      border-bottom-color: var(--fill-color);\n",
              "    }\n",
              "    90% {\n",
              "      border-color: transparent;\n",
              "      border-bottom-color: var(--fill-color);\n",
              "    }\n",
              "  }\n",
              "</style>\n",
              "\n",
              "      <script>\n",
              "        async function quickchart(key) {\n",
              "          const quickchartButtonEl =\n",
              "            document.querySelector('#' + key + ' button');\n",
              "          quickchartButtonEl.disabled = true;  // To prevent multiple clicks.\n",
              "          quickchartButtonEl.classList.add('colab-df-spinner');\n",
              "          try {\n",
              "            const charts = await google.colab.kernel.invokeFunction(\n",
              "                'suggestCharts', [key], {});\n",
              "          } catch (error) {\n",
              "            console.error('Error during call to suggestCharts:', error);\n",
              "          }\n",
              "          quickchartButtonEl.classList.remove('colab-df-spinner');\n",
              "          quickchartButtonEl.classList.add('colab-df-quickchart-complete');\n",
              "        }\n",
              "        (() => {\n",
              "          let quickchartButtonEl =\n",
              "            document.querySelector('#df-494e2bd5-fe51-4131-90c1-27b2440562b5 button');\n",
              "          quickchartButtonEl.style.display =\n",
              "            google.colab.kernel.accessAllowed ? 'block' : 'none';\n",
              "        })();\n",
              "      </script>\n",
              "    </div>\n",
              "\n",
              "    </div>\n",
              "  </div>\n"
            ],
            "application/vnd.google.colaboratory.intrinsic+json": {
              "type": "dataframe",
              "summary": "{\n  \"name\": \"df\",\n  \"rows\": 50000,\n  \"fields\": [\n    {\n      \"column\": \"Order_ID\",\n      \"properties\": {\n        \"dtype\": \"boolean\",\n        \"num_unique_values\": 1,\n        \"samples\": [\n          false\n        ],\n        \"semantic_type\": \"\",\n        \"description\": \"\"\n      }\n    },\n    {\n      \"column\": \"Customer_ID\",\n      \"properties\": {\n        \"dtype\": \"boolean\",\n        \"num_unique_values\": 1,\n        \"samples\": [\n          false\n        ],\n        \"semantic_type\": \"\",\n        \"description\": \"\"\n      }\n    },\n    {\n      \"column\": \"Product_Name\",\n      \"properties\": {\n        \"dtype\": \"boolean\",\n        \"num_unique_values\": 1,\n        \"samples\": [\n          false\n        ],\n        \"semantic_type\": \"\",\n        \"description\": \"\"\n      }\n    },\n    {\n      \"column\": \"Category\",\n      \"properties\": {\n        \"dtype\": \"boolean\",\n        \"num_unique_values\": 1,\n        \"samples\": [\n          false\n        ],\n        \"semantic_type\": \"\",\n        \"description\": \"\"\n      }\n    },\n    {\n      \"column\": \"Sub_Category\",\n      \"properties\": {\n        \"dtype\": \"boolean\",\n        \"num_unique_values\": 1,\n        \"samples\": [\n          false\n        ],\n        \"semantic_type\": \"\",\n        \"description\": \"\"\n      }\n    },\n    {\n      \"column\": \"Order_Date\",\n      \"properties\": {\n        \"dtype\": \"boolean\",\n        \"num_unique_values\": 1,\n        \"samples\": [\n          false\n        ],\n        \"semantic_type\": \"\",\n        \"description\": \"\"\n      }\n    },\n    {\n      \"column\": \"Ship_Date\",\n      \"properties\": {\n        \"dtype\": \"boolean\",\n        \"num_unique_values\": 1,\n        \"samples\": [\n          false\n        ],\n        \"semantic_type\": \"\",\n        \"description\": \"\"\n      }\n    },\n    {\n      \"column\": \"Ship_Mode\",\n      \"properties\": {\n        \"dtype\": \"boolean\",\n        \"num_unique_values\": 1,\n        \"samples\": [\n          false\n        ],\n        \"semantic_type\": \"\",\n        \"description\": \"\"\n      }\n    },\n    {\n      \"column\": \"Order_Quantity\",\n      \"properties\": {\n        \"dtype\": \"boolean\",\n        \"num_unique_values\": 1,\n        \"samples\": [\n          false\n        ],\n        \"semantic_type\": \"\",\n        \"description\": \"\"\n      }\n    },\n    {\n      \"column\": \"Unit_Price\",\n      \"properties\": {\n        \"dtype\": \"boolean\",\n        \"num_unique_values\": 1,\n        \"samples\": [\n          false\n        ],\n        \"semantic_type\": \"\",\n        \"description\": \"\"\n      }\n    },\n    {\n      \"column\": \"Discount\",\n      \"properties\": {\n        \"dtype\": \"boolean\",\n        \"num_unique_values\": 1,\n        \"samples\": [\n          false\n        ],\n        \"semantic_type\": \"\",\n        \"description\": \"\"\n      }\n    },\n    {\n      \"column\": \"Total_Sales\",\n      \"properties\": {\n        \"dtype\": \"boolean\",\n        \"num_unique_values\": 1,\n        \"samples\": [\n          false\n        ],\n        \"semantic_type\": \"\",\n        \"description\": \"\"\n      }\n    },\n    {\n      \"column\": \"Profit\",\n      \"properties\": {\n        \"dtype\": \"boolean\",\n        \"num_unique_values\": 1,\n        \"samples\": [\n          false\n        ],\n        \"semantic_type\": \"\",\n        \"description\": \"\"\n      }\n    },\n    {\n      \"column\": \"Region\",\n      \"properties\": {\n        \"dtype\": \"boolean\",\n        \"num_unique_values\": 1,\n        \"samples\": [\n          false\n        ],\n        \"semantic_type\": \"\",\n        \"description\": \"\"\n      }\n    },\n    {\n      \"column\": \"Customer_Rating\",\n      \"properties\": {\n        \"dtype\": \"boolean\",\n        \"num_unique_values\": 1,\n        \"samples\": [\n          false\n        ],\n        \"semantic_type\": \"\",\n        \"description\": \"\"\n      }\n    },\n    {\n      \"column\": \"Shipping_Delay\",\n      \"properties\": {\n        \"dtype\": \"boolean\",\n        \"num_unique_values\": 1,\n        \"samples\": [\n          false\n        ],\n        \"semantic_type\": \"\",\n        \"description\": \"\"\n      }\n    },\n    {\n      \"column\": \"Weekday\",\n      \"properties\": {\n        \"dtype\": \"boolean\",\n        \"num_unique_values\": 1,\n        \"samples\": [\n          false\n        ],\n        \"semantic_type\": \"\",\n        \"description\": \"\"\n      }\n    },\n    {\n      \"column\": \"Weekend\",\n      \"properties\": {\n        \"dtype\": \"boolean\",\n        \"num_unique_values\": 1,\n        \"samples\": [\n          false\n        ],\n        \"semantic_type\": \"\",\n        \"description\": \"\"\n      }\n    },\n    {\n      \"column\": \"Month\",\n      \"properties\": {\n        \"dtype\": \"boolean\",\n        \"num_unique_values\": 1,\n        \"samples\": [\n          false\n        ],\n        \"semantic_type\": \"\",\n        \"description\": \"\"\n      }\n    }\n  ]\n}"
            }
          },
          "metadata": {},
          "execution_count": 8
        }
      ],
      "source": [
        "df.isnull()"
      ]
    },
    {
      "cell_type": "markdown",
      "metadata": {
        "id": "CmiY8xwpO1lU"
      },
      "source": [
        "### To check the count of all the null values\n"
      ]
    },
    {
      "cell_type": "code",
      "execution_count": 9,
      "metadata": {
        "id": "rxFZDdKTOwRO",
        "colab": {
          "base_uri": "https://localhost:8080/",
          "height": 680
        },
        "outputId": "0143edd0-76b5-4bdb-eb76-76d1934f2aeb"
      },
      "outputs": [
        {
          "output_type": "execute_result",
          "data": {
            "text/plain": [
              "Order_ID           0\n",
              "Customer_ID        0\n",
              "Product_Name       0\n",
              "Category           0\n",
              "Sub_Category       0\n",
              "Order_Date         0\n",
              "Ship_Date          0\n",
              "Ship_Mode          0\n",
              "Order_Quantity     0\n",
              "Unit_Price         0\n",
              "Discount           0\n",
              "Total_Sales        0\n",
              "Profit             0\n",
              "Region             0\n",
              "Customer_Rating    0\n",
              "Shipping_Delay     0\n",
              "Weekday            0\n",
              "Weekend            0\n",
              "Month              0\n",
              "dtype: int64"
            ],
            "text/html": [
              "<div>\n",
              "<style scoped>\n",
              "    .dataframe tbody tr th:only-of-type {\n",
              "        vertical-align: middle;\n",
              "    }\n",
              "\n",
              "    .dataframe tbody tr th {\n",
              "        vertical-align: top;\n",
              "    }\n",
              "\n",
              "    .dataframe thead th {\n",
              "        text-align: right;\n",
              "    }\n",
              "</style>\n",
              "<table border=\"1\" class=\"dataframe\">\n",
              "  <thead>\n",
              "    <tr style=\"text-align: right;\">\n",
              "      <th></th>\n",
              "      <th>0</th>\n",
              "    </tr>\n",
              "  </thead>\n",
              "  <tbody>\n",
              "    <tr>\n",
              "      <th>Order_ID</th>\n",
              "      <td>0</td>\n",
              "    </tr>\n",
              "    <tr>\n",
              "      <th>Customer_ID</th>\n",
              "      <td>0</td>\n",
              "    </tr>\n",
              "    <tr>\n",
              "      <th>Product_Name</th>\n",
              "      <td>0</td>\n",
              "    </tr>\n",
              "    <tr>\n",
              "      <th>Category</th>\n",
              "      <td>0</td>\n",
              "    </tr>\n",
              "    <tr>\n",
              "      <th>Sub_Category</th>\n",
              "      <td>0</td>\n",
              "    </tr>\n",
              "    <tr>\n",
              "      <th>Order_Date</th>\n",
              "      <td>0</td>\n",
              "    </tr>\n",
              "    <tr>\n",
              "      <th>Ship_Date</th>\n",
              "      <td>0</td>\n",
              "    </tr>\n",
              "    <tr>\n",
              "      <th>Ship_Mode</th>\n",
              "      <td>0</td>\n",
              "    </tr>\n",
              "    <tr>\n",
              "      <th>Order_Quantity</th>\n",
              "      <td>0</td>\n",
              "    </tr>\n",
              "    <tr>\n",
              "      <th>Unit_Price</th>\n",
              "      <td>0</td>\n",
              "    </tr>\n",
              "    <tr>\n",
              "      <th>Discount</th>\n",
              "      <td>0</td>\n",
              "    </tr>\n",
              "    <tr>\n",
              "      <th>Total_Sales</th>\n",
              "      <td>0</td>\n",
              "    </tr>\n",
              "    <tr>\n",
              "      <th>Profit</th>\n",
              "      <td>0</td>\n",
              "    </tr>\n",
              "    <tr>\n",
              "      <th>Region</th>\n",
              "      <td>0</td>\n",
              "    </tr>\n",
              "    <tr>\n",
              "      <th>Customer_Rating</th>\n",
              "      <td>0</td>\n",
              "    </tr>\n",
              "    <tr>\n",
              "      <th>Shipping_Delay</th>\n",
              "      <td>0</td>\n",
              "    </tr>\n",
              "    <tr>\n",
              "      <th>Weekday</th>\n",
              "      <td>0</td>\n",
              "    </tr>\n",
              "    <tr>\n",
              "      <th>Weekend</th>\n",
              "      <td>0</td>\n",
              "    </tr>\n",
              "    <tr>\n",
              "      <th>Month</th>\n",
              "      <td>0</td>\n",
              "    </tr>\n",
              "  </tbody>\n",
              "</table>\n",
              "</div><br><label><b>dtype:</b> int64</label>"
            ]
          },
          "metadata": {},
          "execution_count": 9
        }
      ],
      "source": [
        "df.isnull().sum()"
      ]
    },
    {
      "cell_type": "markdown",
      "metadata": {
        "id": "ekrg1_QeQFJO"
      },
      "source": [
        "### To renamaing the Column names as per required\n"
      ]
    },
    {
      "cell_type": "code",
      "execution_count": 10,
      "metadata": {
        "id": "kvnPSqrmO-nO"
      },
      "outputs": [],
      "source": [
        "df.rename(columns={\n",
        "    'Order_ID': 'Order_ID',\n",
        "    'Customer_ID': 'Customer_ID',\n",
        "    'Product_Category': 'Product_Category',\n",
        "    'Sub_Category': 'Product_Sub_Category',\n",
        "    'Product_Name': 'Product_Name',\n",
        "    'Order_Date': 'Order_Placement_Date',\n",
        "    'Ship_Date': 'Shipping_Date',\n",
        "    'Ship_Mode': 'Shipping_Mode',\n",
        "    'Quantity': 'Quantity_Ordered',\n",
        "    'Price_Each': 'Price_Per_Unit',\n",
        "    'Discount': 'Discount_Applied',\n",
        "    'Profit': 'Net_Profit',\n",
        "    'Sales': 'Total_Sales_Amount',\n",
        "    'Region': 'Sales_Region',\n",
        "    'Product_ID': 'Unique_Product_Identifier',\n",
        "    'Delivery_Status': 'Delivery_Status',\n",
        "    'Rating': 'Customer_Rating',\n",
        "    'Return': 'Returned_Product_Flag',\n",
        "    'Payment_Method': 'Mode_of_Payment'\n",
        "}, inplace=True)\n"
      ]
    },
    {
      "cell_type": "markdown",
      "metadata": {
        "id": "2nc74P97QP3b"
      },
      "source": [
        "### To check the Renamed Columns"
      ]
    },
    {
      "cell_type": "code",
      "execution_count": 11,
      "metadata": {
        "id": "6azaKZmtQNIE",
        "colab": {
          "base_uri": "https://localhost:8080/",
          "height": 487
        },
        "outputId": "6466d77b-d265-46a6-e273-0531d7335cc8"
      },
      "outputs": [
        {
          "output_type": "execute_result",
          "data": {
            "text/plain": [
              "    Order_ID Customer_ID       Product_Name     Category Product_Sub_Category  \\\n",
              "0  ORD100000   CUST89696     Purpose Mobile  Electronics        Mobile Phones   \n",
              "1  ORD100001   CUST74563         Ago Mobile  Electronics        Mobile Phones   \n",
              "2  ORD100002   CUST21926       Face Women's     Clothing     Women's Clothing   \n",
              "3  ORD100003   CUST46082          Dog Men's     Clothing       Men's Clothing   \n",
              "4  ORD100004   CUST82070      Since Fiction        Books              Fiction   \n",
              "5  ORD100005   CUST31512     Require Mobile  Electronics        Mobile Phones   \n",
              "6  ORD100006   CUST92988   Wait Educational        Books          Educational   \n",
              "7  ORD100007   CUST91198     Begin Skincare       Beauty             Skincare   \n",
              "8  ORD100008   CUST28653  Knowledge Laptops  Electronics              Laptops   \n",
              "9  ORD100009   CUST19726          All Kids'     Clothing           Kids' Wear   \n",
              "\n",
              "  Order_Placement_Date Shipping_Date Shipping_Mode  Order_Quantity  \\\n",
              "0           2023-09-17    2023-09-18      Standard               3   \n",
              "1           2025-01-18    2025-01-19      Same Day               1   \n",
              "2           2023-12-30    2024-01-06       Express               5   \n",
              "3           2023-10-09    2023-10-12       Express               3   \n",
              "4           2023-09-10    2023-09-16      Same Day               4   \n",
              "5           2025-01-18    2025-01-25       Express               2   \n",
              "6           2024-08-19    2024-08-22      Same Day               2   \n",
              "7           2024-09-23    2024-09-29      Standard               2   \n",
              "8           2023-07-17    2023-07-18      Same Day               1   \n",
              "9           2023-09-03    2023-09-07      Standard               4   \n",
              "\n",
              "   Unit_Price  Discount_Applied  Total_Sales  Net_Profit Sales_Region  \\\n",
              "0     1299.97              0.07      3626.92     1088.07         West   \n",
              "1     1171.33              0.25       878.50      263.55         West   \n",
              "2     1463.13              0.43      4169.92     1250.98         East   \n",
              "3      600.83              0.19      1460.02      438.01        North   \n",
              "4      486.12              0.15      1652.81      495.84        South   \n",
              "5     3888.03              0.49      3965.79     1189.74         East   \n",
              "6     1913.89              0.10      3445.00     1033.50        South   \n",
              "7     2365.08              0.13      4115.24     1234.57         East   \n",
              "8     4044.72              0.20      3235.78      970.73         East   \n",
              "9     2038.60              0.46      4403.38     1321.01        South   \n",
              "\n",
              "   Customer_Rating  Shipping_Delay   Weekday  Weekend  Month  \n",
              "0                5               1    Sunday     True      9  \n",
              "1                2               1  Saturday     True      1  \n",
              "2                4               7  Saturday     True     12  \n",
              "3                5               3    Monday    False     10  \n",
              "4                3               6    Sunday     True      9  \n",
              "5                1               7  Saturday     True      1  \n",
              "6                1               3    Monday    False      8  \n",
              "7                5               6    Monday    False      9  \n",
              "8                5               1    Monday    False      7  \n",
              "9                3               4    Sunday     True      9  "
            ],
            "text/html": [
              "\n",
              "  <div id=\"df-f167cc4d-5974-44c6-b5df-ac38940e3fe3\" class=\"colab-df-container\">\n",
              "    <div>\n",
              "<style scoped>\n",
              "    .dataframe tbody tr th:only-of-type {\n",
              "        vertical-align: middle;\n",
              "    }\n",
              "\n",
              "    .dataframe tbody tr th {\n",
              "        vertical-align: top;\n",
              "    }\n",
              "\n",
              "    .dataframe thead th {\n",
              "        text-align: right;\n",
              "    }\n",
              "</style>\n",
              "<table border=\"1\" class=\"dataframe\">\n",
              "  <thead>\n",
              "    <tr style=\"text-align: right;\">\n",
              "      <th></th>\n",
              "      <th>Order_ID</th>\n",
              "      <th>Customer_ID</th>\n",
              "      <th>Product_Name</th>\n",
              "      <th>Category</th>\n",
              "      <th>Product_Sub_Category</th>\n",
              "      <th>Order_Placement_Date</th>\n",
              "      <th>Shipping_Date</th>\n",
              "      <th>Shipping_Mode</th>\n",
              "      <th>Order_Quantity</th>\n",
              "      <th>Unit_Price</th>\n",
              "      <th>Discount_Applied</th>\n",
              "      <th>Total_Sales</th>\n",
              "      <th>Net_Profit</th>\n",
              "      <th>Sales_Region</th>\n",
              "      <th>Customer_Rating</th>\n",
              "      <th>Shipping_Delay</th>\n",
              "      <th>Weekday</th>\n",
              "      <th>Weekend</th>\n",
              "      <th>Month</th>\n",
              "    </tr>\n",
              "  </thead>\n",
              "  <tbody>\n",
              "    <tr>\n",
              "      <th>0</th>\n",
              "      <td>ORD100000</td>\n",
              "      <td>CUST89696</td>\n",
              "      <td>Purpose Mobile</td>\n",
              "      <td>Electronics</td>\n",
              "      <td>Mobile Phones</td>\n",
              "      <td>2023-09-17</td>\n",
              "      <td>2023-09-18</td>\n",
              "      <td>Standard</td>\n",
              "      <td>3</td>\n",
              "      <td>1299.97</td>\n",
              "      <td>0.07</td>\n",
              "      <td>3626.92</td>\n",
              "      <td>1088.07</td>\n",
              "      <td>West</td>\n",
              "      <td>5</td>\n",
              "      <td>1</td>\n",
              "      <td>Sunday</td>\n",
              "      <td>True</td>\n",
              "      <td>9</td>\n",
              "    </tr>\n",
              "    <tr>\n",
              "      <th>1</th>\n",
              "      <td>ORD100001</td>\n",
              "      <td>CUST74563</td>\n",
              "      <td>Ago Mobile</td>\n",
              "      <td>Electronics</td>\n",
              "      <td>Mobile Phones</td>\n",
              "      <td>2025-01-18</td>\n",
              "      <td>2025-01-19</td>\n",
              "      <td>Same Day</td>\n",
              "      <td>1</td>\n",
              "      <td>1171.33</td>\n",
              "      <td>0.25</td>\n",
              "      <td>878.50</td>\n",
              "      <td>263.55</td>\n",
              "      <td>West</td>\n",
              "      <td>2</td>\n",
              "      <td>1</td>\n",
              "      <td>Saturday</td>\n",
              "      <td>True</td>\n",
              "      <td>1</td>\n",
              "    </tr>\n",
              "    <tr>\n",
              "      <th>2</th>\n",
              "      <td>ORD100002</td>\n",
              "      <td>CUST21926</td>\n",
              "      <td>Face Women's</td>\n",
              "      <td>Clothing</td>\n",
              "      <td>Women's Clothing</td>\n",
              "      <td>2023-12-30</td>\n",
              "      <td>2024-01-06</td>\n",
              "      <td>Express</td>\n",
              "      <td>5</td>\n",
              "      <td>1463.13</td>\n",
              "      <td>0.43</td>\n",
              "      <td>4169.92</td>\n",
              "      <td>1250.98</td>\n",
              "      <td>East</td>\n",
              "      <td>4</td>\n",
              "      <td>7</td>\n",
              "      <td>Saturday</td>\n",
              "      <td>True</td>\n",
              "      <td>12</td>\n",
              "    </tr>\n",
              "    <tr>\n",
              "      <th>3</th>\n",
              "      <td>ORD100003</td>\n",
              "      <td>CUST46082</td>\n",
              "      <td>Dog Men's</td>\n",
              "      <td>Clothing</td>\n",
              "      <td>Men's Clothing</td>\n",
              "      <td>2023-10-09</td>\n",
              "      <td>2023-10-12</td>\n",
              "      <td>Express</td>\n",
              "      <td>3</td>\n",
              "      <td>600.83</td>\n",
              "      <td>0.19</td>\n",
              "      <td>1460.02</td>\n",
              "      <td>438.01</td>\n",
              "      <td>North</td>\n",
              "      <td>5</td>\n",
              "      <td>3</td>\n",
              "      <td>Monday</td>\n",
              "      <td>False</td>\n",
              "      <td>10</td>\n",
              "    </tr>\n",
              "    <tr>\n",
              "      <th>4</th>\n",
              "      <td>ORD100004</td>\n",
              "      <td>CUST82070</td>\n",
              "      <td>Since Fiction</td>\n",
              "      <td>Books</td>\n",
              "      <td>Fiction</td>\n",
              "      <td>2023-09-10</td>\n",
              "      <td>2023-09-16</td>\n",
              "      <td>Same Day</td>\n",
              "      <td>4</td>\n",
              "      <td>486.12</td>\n",
              "      <td>0.15</td>\n",
              "      <td>1652.81</td>\n",
              "      <td>495.84</td>\n",
              "      <td>South</td>\n",
              "      <td>3</td>\n",
              "      <td>6</td>\n",
              "      <td>Sunday</td>\n",
              "      <td>True</td>\n",
              "      <td>9</td>\n",
              "    </tr>\n",
              "    <tr>\n",
              "      <th>5</th>\n",
              "      <td>ORD100005</td>\n",
              "      <td>CUST31512</td>\n",
              "      <td>Require Mobile</td>\n",
              "      <td>Electronics</td>\n",
              "      <td>Mobile Phones</td>\n",
              "      <td>2025-01-18</td>\n",
              "      <td>2025-01-25</td>\n",
              "      <td>Express</td>\n",
              "      <td>2</td>\n",
              "      <td>3888.03</td>\n",
              "      <td>0.49</td>\n",
              "      <td>3965.79</td>\n",
              "      <td>1189.74</td>\n",
              "      <td>East</td>\n",
              "      <td>1</td>\n",
              "      <td>7</td>\n",
              "      <td>Saturday</td>\n",
              "      <td>True</td>\n",
              "      <td>1</td>\n",
              "    </tr>\n",
              "    <tr>\n",
              "      <th>6</th>\n",
              "      <td>ORD100006</td>\n",
              "      <td>CUST92988</td>\n",
              "      <td>Wait Educational</td>\n",
              "      <td>Books</td>\n",
              "      <td>Educational</td>\n",
              "      <td>2024-08-19</td>\n",
              "      <td>2024-08-22</td>\n",
              "      <td>Same Day</td>\n",
              "      <td>2</td>\n",
              "      <td>1913.89</td>\n",
              "      <td>0.10</td>\n",
              "      <td>3445.00</td>\n",
              "      <td>1033.50</td>\n",
              "      <td>South</td>\n",
              "      <td>1</td>\n",
              "      <td>3</td>\n",
              "      <td>Monday</td>\n",
              "      <td>False</td>\n",
              "      <td>8</td>\n",
              "    </tr>\n",
              "    <tr>\n",
              "      <th>7</th>\n",
              "      <td>ORD100007</td>\n",
              "      <td>CUST91198</td>\n",
              "      <td>Begin Skincare</td>\n",
              "      <td>Beauty</td>\n",
              "      <td>Skincare</td>\n",
              "      <td>2024-09-23</td>\n",
              "      <td>2024-09-29</td>\n",
              "      <td>Standard</td>\n",
              "      <td>2</td>\n",
              "      <td>2365.08</td>\n",
              "      <td>0.13</td>\n",
              "      <td>4115.24</td>\n",
              "      <td>1234.57</td>\n",
              "      <td>East</td>\n",
              "      <td>5</td>\n",
              "      <td>6</td>\n",
              "      <td>Monday</td>\n",
              "      <td>False</td>\n",
              "      <td>9</td>\n",
              "    </tr>\n",
              "    <tr>\n",
              "      <th>8</th>\n",
              "      <td>ORD100008</td>\n",
              "      <td>CUST28653</td>\n",
              "      <td>Knowledge Laptops</td>\n",
              "      <td>Electronics</td>\n",
              "      <td>Laptops</td>\n",
              "      <td>2023-07-17</td>\n",
              "      <td>2023-07-18</td>\n",
              "      <td>Same Day</td>\n",
              "      <td>1</td>\n",
              "      <td>4044.72</td>\n",
              "      <td>0.20</td>\n",
              "      <td>3235.78</td>\n",
              "      <td>970.73</td>\n",
              "      <td>East</td>\n",
              "      <td>5</td>\n",
              "      <td>1</td>\n",
              "      <td>Monday</td>\n",
              "      <td>False</td>\n",
              "      <td>7</td>\n",
              "    </tr>\n",
              "    <tr>\n",
              "      <th>9</th>\n",
              "      <td>ORD100009</td>\n",
              "      <td>CUST19726</td>\n",
              "      <td>All Kids'</td>\n",
              "      <td>Clothing</td>\n",
              "      <td>Kids' Wear</td>\n",
              "      <td>2023-09-03</td>\n",
              "      <td>2023-09-07</td>\n",
              "      <td>Standard</td>\n",
              "      <td>4</td>\n",
              "      <td>2038.60</td>\n",
              "      <td>0.46</td>\n",
              "      <td>4403.38</td>\n",
              "      <td>1321.01</td>\n",
              "      <td>South</td>\n",
              "      <td>3</td>\n",
              "      <td>4</td>\n",
              "      <td>Sunday</td>\n",
              "      <td>True</td>\n",
              "      <td>9</td>\n",
              "    </tr>\n",
              "  </tbody>\n",
              "</table>\n",
              "</div>\n",
              "    <div class=\"colab-df-buttons\">\n",
              "\n",
              "  <div class=\"colab-df-container\">\n",
              "    <button class=\"colab-df-convert\" onclick=\"convertToInteractive('df-f167cc4d-5974-44c6-b5df-ac38940e3fe3')\"\n",
              "            title=\"Convert this dataframe to an interactive table.\"\n",
              "            style=\"display:none;\">\n",
              "\n",
              "  <svg xmlns=\"http://www.w3.org/2000/svg\" height=\"24px\" viewBox=\"0 -960 960 960\">\n",
              "    <path d=\"M120-120v-720h720v720H120Zm60-500h600v-160H180v160Zm220 220h160v-160H400v160Zm0 220h160v-160H400v160ZM180-400h160v-160H180v160Zm440 0h160v-160H620v160ZM180-180h160v-160H180v160Zm440 0h160v-160H620v160Z\"/>\n",
              "  </svg>\n",
              "    </button>\n",
              "\n",
              "  <style>\n",
              "    .colab-df-container {\n",
              "      display:flex;\n",
              "      gap: 12px;\n",
              "    }\n",
              "\n",
              "    .colab-df-convert {\n",
              "      background-color: #E8F0FE;\n",
              "      border: none;\n",
              "      border-radius: 50%;\n",
              "      cursor: pointer;\n",
              "      display: none;\n",
              "      fill: #1967D2;\n",
              "      height: 32px;\n",
              "      padding: 0 0 0 0;\n",
              "      width: 32px;\n",
              "    }\n",
              "\n",
              "    .colab-df-convert:hover {\n",
              "      background-color: #E2EBFA;\n",
              "      box-shadow: 0px 1px 2px rgba(60, 64, 67, 0.3), 0px 1px 3px 1px rgba(60, 64, 67, 0.15);\n",
              "      fill: #174EA6;\n",
              "    }\n",
              "\n",
              "    .colab-df-buttons div {\n",
              "      margin-bottom: 4px;\n",
              "    }\n",
              "\n",
              "    [theme=dark] .colab-df-convert {\n",
              "      background-color: #3B4455;\n",
              "      fill: #D2E3FC;\n",
              "    }\n",
              "\n",
              "    [theme=dark] .colab-df-convert:hover {\n",
              "      background-color: #434B5C;\n",
              "      box-shadow: 0px 1px 3px 1px rgba(0, 0, 0, 0.15);\n",
              "      filter: drop-shadow(0px 1px 2px rgba(0, 0, 0, 0.3));\n",
              "      fill: #FFFFFF;\n",
              "    }\n",
              "  </style>\n",
              "\n",
              "    <script>\n",
              "      const buttonEl =\n",
              "        document.querySelector('#df-f167cc4d-5974-44c6-b5df-ac38940e3fe3 button.colab-df-convert');\n",
              "      buttonEl.style.display =\n",
              "        google.colab.kernel.accessAllowed ? 'block' : 'none';\n",
              "\n",
              "      async function convertToInteractive(key) {\n",
              "        const element = document.querySelector('#df-f167cc4d-5974-44c6-b5df-ac38940e3fe3');\n",
              "        const dataTable =\n",
              "          await google.colab.kernel.invokeFunction('convertToInteractive',\n",
              "                                                    [key], {});\n",
              "        if (!dataTable) return;\n",
              "\n",
              "        const docLinkHtml = 'Like what you see? Visit the ' +\n",
              "          '<a target=\"_blank\" href=https://colab.research.google.com/notebooks/data_table.ipynb>data table notebook</a>'\n",
              "          + ' to learn more about interactive tables.';\n",
              "        element.innerHTML = '';\n",
              "        dataTable['output_type'] = 'display_data';\n",
              "        await google.colab.output.renderOutput(dataTable, element);\n",
              "        const docLink = document.createElement('div');\n",
              "        docLink.innerHTML = docLinkHtml;\n",
              "        element.appendChild(docLink);\n",
              "      }\n",
              "    </script>\n",
              "  </div>\n",
              "\n",
              "\n",
              "    <div id=\"df-5ba65d25-9925-4c53-b124-ec7cdd64feaa\">\n",
              "      <button class=\"colab-df-quickchart\" onclick=\"quickchart('df-5ba65d25-9925-4c53-b124-ec7cdd64feaa')\"\n",
              "                title=\"Suggest charts\"\n",
              "                style=\"display:none;\">\n",
              "\n",
              "<svg xmlns=\"http://www.w3.org/2000/svg\" height=\"24px\"viewBox=\"0 0 24 24\"\n",
              "     width=\"24px\">\n",
              "    <g>\n",
              "        <path d=\"M19 3H5c-1.1 0-2 .9-2 2v14c0 1.1.9 2 2 2h14c1.1 0 2-.9 2-2V5c0-1.1-.9-2-2-2zM9 17H7v-7h2v7zm4 0h-2V7h2v10zm4 0h-2v-4h2v4z\"/>\n",
              "    </g>\n",
              "</svg>\n",
              "      </button>\n",
              "\n",
              "<style>\n",
              "  .colab-df-quickchart {\n",
              "      --bg-color: #E8F0FE;\n",
              "      --fill-color: #1967D2;\n",
              "      --hover-bg-color: #E2EBFA;\n",
              "      --hover-fill-color: #174EA6;\n",
              "      --disabled-fill-color: #AAA;\n",
              "      --disabled-bg-color: #DDD;\n",
              "  }\n",
              "\n",
              "  [theme=dark] .colab-df-quickchart {\n",
              "      --bg-color: #3B4455;\n",
              "      --fill-color: #D2E3FC;\n",
              "      --hover-bg-color: #434B5C;\n",
              "      --hover-fill-color: #FFFFFF;\n",
              "      --disabled-bg-color: #3B4455;\n",
              "      --disabled-fill-color: #666;\n",
              "  }\n",
              "\n",
              "  .colab-df-quickchart {\n",
              "    background-color: var(--bg-color);\n",
              "    border: none;\n",
              "    border-radius: 50%;\n",
              "    cursor: pointer;\n",
              "    display: none;\n",
              "    fill: var(--fill-color);\n",
              "    height: 32px;\n",
              "    padding: 0;\n",
              "    width: 32px;\n",
              "  }\n",
              "\n",
              "  .colab-df-quickchart:hover {\n",
              "    background-color: var(--hover-bg-color);\n",
              "    box-shadow: 0 1px 2px rgba(60, 64, 67, 0.3), 0 1px 3px 1px rgba(60, 64, 67, 0.15);\n",
              "    fill: var(--button-hover-fill-color);\n",
              "  }\n",
              "\n",
              "  .colab-df-quickchart-complete:disabled,\n",
              "  .colab-df-quickchart-complete:disabled:hover {\n",
              "    background-color: var(--disabled-bg-color);\n",
              "    fill: var(--disabled-fill-color);\n",
              "    box-shadow: none;\n",
              "  }\n",
              "\n",
              "  .colab-df-spinner {\n",
              "    border: 2px solid var(--fill-color);\n",
              "    border-color: transparent;\n",
              "    border-bottom-color: var(--fill-color);\n",
              "    animation:\n",
              "      spin 1s steps(1) infinite;\n",
              "  }\n",
              "\n",
              "  @keyframes spin {\n",
              "    0% {\n",
              "      border-color: transparent;\n",
              "      border-bottom-color: var(--fill-color);\n",
              "      border-left-color: var(--fill-color);\n",
              "    }\n",
              "    20% {\n",
              "      border-color: transparent;\n",
              "      border-left-color: var(--fill-color);\n",
              "      border-top-color: var(--fill-color);\n",
              "    }\n",
              "    30% {\n",
              "      border-color: transparent;\n",
              "      border-left-color: var(--fill-color);\n",
              "      border-top-color: var(--fill-color);\n",
              "      border-right-color: var(--fill-color);\n",
              "    }\n",
              "    40% {\n",
              "      border-color: transparent;\n",
              "      border-right-color: var(--fill-color);\n",
              "      border-top-color: var(--fill-color);\n",
              "    }\n",
              "    60% {\n",
              "      border-color: transparent;\n",
              "      border-right-color: var(--fill-color);\n",
              "    }\n",
              "    80% {\n",
              "      border-color: transparent;\n",
              "      border-right-color: var(--fill-color);\n",
              "      border-bottom-color: var(--fill-color);\n",
              "    }\n",
              "    90% {\n",
              "      border-color: transparent;\n",
              "      border-bottom-color: var(--fill-color);\n",
              "    }\n",
              "  }\n",
              "</style>\n",
              "\n",
              "      <script>\n",
              "        async function quickchart(key) {\n",
              "          const quickchartButtonEl =\n",
              "            document.querySelector('#' + key + ' button');\n",
              "          quickchartButtonEl.disabled = true;  // To prevent multiple clicks.\n",
              "          quickchartButtonEl.classList.add('colab-df-spinner');\n",
              "          try {\n",
              "            const charts = await google.colab.kernel.invokeFunction(\n",
              "                'suggestCharts', [key], {});\n",
              "          } catch (error) {\n",
              "            console.error('Error during call to suggestCharts:', error);\n",
              "          }\n",
              "          quickchartButtonEl.classList.remove('colab-df-spinner');\n",
              "          quickchartButtonEl.classList.add('colab-df-quickchart-complete');\n",
              "        }\n",
              "        (() => {\n",
              "          let quickchartButtonEl =\n",
              "            document.querySelector('#df-5ba65d25-9925-4c53-b124-ec7cdd64feaa button');\n",
              "          quickchartButtonEl.style.display =\n",
              "            google.colab.kernel.accessAllowed ? 'block' : 'none';\n",
              "        })();\n",
              "      </script>\n",
              "    </div>\n",
              "\n",
              "    </div>\n",
              "  </div>\n"
            ],
            "application/vnd.google.colaboratory.intrinsic+json": {
              "type": "dataframe",
              "variable_name": "df",
              "summary": "{\n  \"name\": \"df\",\n  \"rows\": 50000,\n  \"fields\": [\n    {\n      \"column\": \"Order_ID\",\n      \"properties\": {\n        \"dtype\": \"string\",\n        \"num_unique_values\": 50000,\n        \"samples\": [\n          \"ORD133553\",\n          \"ORD109427\",\n          \"ORD100199\"\n        ],\n        \"semantic_type\": \"\",\n        \"description\": \"\"\n      }\n    },\n    {\n      \"column\": \"Customer_ID\",\n      \"properties\": {\n        \"dtype\": \"string\",\n        \"num_unique_values\": 39344,\n        \"samples\": [\n          \"CUST14570\",\n          \"CUST59707\",\n          \"CUST84353\"\n        ],\n        \"semantic_type\": \"\",\n        \"description\": \"\"\n      }\n    },\n    {\n      \"column\": \"Product_Name\",\n      \"properties\": {\n        \"dtype\": \"category\",\n        \"num_unique_values\": 17132,\n        \"samples\": [\n          \"Language Laptops\",\n          \"Well Furniture\",\n          \"My Cookware\"\n        ],\n        \"semantic_type\": \"\",\n        \"description\": \"\"\n      }\n    },\n    {\n      \"column\": \"Category\",\n      \"properties\": {\n        \"dtype\": \"category\",\n        \"num_unique_values\": 5,\n        \"samples\": [\n          \"Clothing\",\n          \"Home & Kitchen\",\n          \"Books\"\n        ],\n        \"semantic_type\": \"\",\n        \"description\": \"\"\n      }\n    },\n    {\n      \"column\": \"Product_Sub_Category\",\n      \"properties\": {\n        \"dtype\": \"category\",\n        \"num_unique_values\": 19,\n        \"samples\": [\n          \"Mobile Phones\",\n          \"Skincare\",\n          \"Makeup\"\n        ],\n        \"semantic_type\": \"\",\n        \"description\": \"\"\n      }\n    },\n    {\n      \"column\": \"Order_Placement_Date\",\n      \"properties\": {\n        \"dtype\": \"object\",\n        \"num_unique_values\": 731,\n        \"samples\": [\n          \"2024-01-13\",\n          \"2024-10-23\",\n          \"2023-11-24\"\n        ],\n        \"semantic_type\": \"\",\n        \"description\": \"\"\n      }\n    },\n    {\n      \"column\": \"Shipping_Date\",\n      \"properties\": {\n        \"dtype\": \"object\",\n        \"num_unique_values\": 737,\n        \"samples\": [\n          \"2025-03-11\",\n          \"2024-02-12\",\n          \"2024-11-10\"\n        ],\n        \"semantic_type\": \"\",\n        \"description\": \"\"\n      }\n    },\n    {\n      \"column\": \"Shipping_Mode\",\n      \"properties\": {\n        \"dtype\": \"category\",\n        \"num_unique_values\": 3,\n        \"samples\": [\n          \"Standard\",\n          \"Same Day\",\n          \"Express\"\n        ],\n        \"semantic_type\": \"\",\n        \"description\": \"\"\n      }\n    },\n    {\n      \"column\": \"Order_Quantity\",\n      \"properties\": {\n        \"dtype\": \"number\",\n        \"std\": 1,\n        \"min\": 1,\n        \"max\": 5,\n        \"num_unique_values\": 5,\n        \"samples\": [\n          1,\n          2,\n          5\n        ],\n        \"semantic_type\": \"\",\n        \"description\": \"\"\n      }\n    },\n    {\n      \"column\": \"Unit_Price\",\n      \"properties\": {\n        \"dtype\": \"number\",\n        \"std\": 1418.5231054147519,\n        \"min\": 100.21,\n        \"max\": 4999.95,\n        \"num_unique_values\": 47536,\n        \"samples\": [\n          2957.75,\n          2227.11,\n          243.57\n        ],\n        \"semantic_type\": \"\",\n        \"description\": \"\"\n      }\n    },\n    {\n      \"column\": \"Discount_Applied\",\n      \"properties\": {\n        \"dtype\": \"number\",\n        \"std\": 0.1443929847905447,\n        \"min\": 0.0,\n        \"max\": 0.5,\n        \"num_unique_values\": 51,\n        \"samples\": [\n          0.06,\n          0.5,\n          0.0\n        ],\n        \"semantic_type\": \"\",\n        \"description\": \"\"\n      }\n    },\n    {\n      \"column\": \"Total_Sales\",\n      \"properties\": {\n        \"dtype\": \"number\",\n        \"std\": 4643.1760791086235,\n        \"min\": 55.65,\n        \"max\": 24934.95,\n        \"num_unique_values\": 48959,\n        \"samples\": [\n          1610.31,\n          5103.84,\n          8301.13\n        ],\n        \"semantic_type\": \"\",\n        \"description\": \"\"\n      }\n    },\n    {\n      \"column\": \"Net_Profit\",\n      \"properties\": {\n        \"dtype\": \"number\",\n        \"std\": 1392.9528231364268,\n        \"min\": 16.69,\n        \"max\": 7480.49,\n        \"num_unique_values\": 46703,\n        \"samples\": [\n          747.61,\n          1952.5,\n          2559.9\n        ],\n        \"semantic_type\": \"\",\n        \"description\": \"\"\n      }\n    },\n    {\n      \"column\": \"Sales_Region\",\n      \"properties\": {\n        \"dtype\": \"category\",\n        \"num_unique_values\": 4,\n        \"samples\": [\n          \"East\",\n          \"South\",\n          \"West\"\n        ],\n        \"semantic_type\": \"\",\n        \"description\": \"\"\n      }\n    },\n    {\n      \"column\": \"Customer_Rating\",\n      \"properties\": {\n        \"dtype\": \"number\",\n        \"std\": 1,\n        \"min\": 1,\n        \"max\": 5,\n        \"num_unique_values\": 5,\n        \"samples\": [\n          2,\n          1,\n          4\n        ],\n        \"semantic_type\": \"\",\n        \"description\": \"\"\n      }\n    },\n    {\n      \"column\": \"Shipping_Delay\",\n      \"properties\": {\n        \"dtype\": \"number\",\n        \"std\": 2,\n        \"min\": 1,\n        \"max\": 7,\n        \"num_unique_values\": 7,\n        \"samples\": [\n          1,\n          7,\n          2\n        ],\n        \"semantic_type\": \"\",\n        \"description\": \"\"\n      }\n    },\n    {\n      \"column\": \"Weekday\",\n      \"properties\": {\n        \"dtype\": \"category\",\n        \"num_unique_values\": 7,\n        \"samples\": [\n          \"Sunday\",\n          \"Saturday\",\n          \"Friday\"\n        ],\n        \"semantic_type\": \"\",\n        \"description\": \"\"\n      }\n    },\n    {\n      \"column\": \"Weekend\",\n      \"properties\": {\n        \"dtype\": \"boolean\",\n        \"num_unique_values\": 2,\n        \"samples\": [\n          false,\n          true\n        ],\n        \"semantic_type\": \"\",\n        \"description\": \"\"\n      }\n    },\n    {\n      \"column\": \"Month\",\n      \"properties\": {\n        \"dtype\": \"number\",\n        \"std\": 3,\n        \"min\": 1,\n        \"max\": 12,\n        \"num_unique_values\": 12,\n        \"samples\": [\n          3,\n          2\n        ],\n        \"semantic_type\": \"\",\n        \"description\": \"\"\n      }\n    }\n  ]\n}"
            }
          },
          "metadata": {},
          "execution_count": 11
        }
      ],
      "source": [
        "df.head(10)"
      ]
    },
    {
      "cell_type": "markdown",
      "metadata": {
        "id": "Nifw818VLNd1"
      },
      "source": [
        "###Replace Fake Product Names with Realistic Ones"
      ]
    },
    {
      "cell_type": "code",
      "execution_count": 12,
      "metadata": {
        "id": "MpG_Mv8-Ll43",
        "colab": {
          "base_uri": "https://localhost:8080/",
          "height": 206
        },
        "outputId": "3d41953c-2b51-4338-c0d1-2f8e2ebe5eee"
      },
      "outputs": [
        {
          "output_type": "execute_result",
          "data": {
            "text/plain": [
              "                  Product_Name Product_Sub_Category\n",
              "0                  OnePlus 11R        Mobile Phones\n",
              "1           Samsung Galaxy S21        Mobile Phones\n",
              "2  Noise Cancelling Headphones     Women's Clothing\n",
              "3     Head & Shoulders Shampoo       Men's Clothing\n",
              "4                 Harry Potter              Fiction"
            ],
            "text/html": [
              "\n",
              "  <div id=\"df-280c5291-d0bb-4b9f-932a-05aefaa5bbc5\" class=\"colab-df-container\">\n",
              "    <div>\n",
              "<style scoped>\n",
              "    .dataframe tbody tr th:only-of-type {\n",
              "        vertical-align: middle;\n",
              "    }\n",
              "\n",
              "    .dataframe tbody tr th {\n",
              "        vertical-align: top;\n",
              "    }\n",
              "\n",
              "    .dataframe thead th {\n",
              "        text-align: right;\n",
              "    }\n",
              "</style>\n",
              "<table border=\"1\" class=\"dataframe\">\n",
              "  <thead>\n",
              "    <tr style=\"text-align: right;\">\n",
              "      <th></th>\n",
              "      <th>Product_Name</th>\n",
              "      <th>Product_Sub_Category</th>\n",
              "    </tr>\n",
              "  </thead>\n",
              "  <tbody>\n",
              "    <tr>\n",
              "      <th>0</th>\n",
              "      <td>OnePlus 11R</td>\n",
              "      <td>Mobile Phones</td>\n",
              "    </tr>\n",
              "    <tr>\n",
              "      <th>1</th>\n",
              "      <td>Samsung Galaxy S21</td>\n",
              "      <td>Mobile Phones</td>\n",
              "    </tr>\n",
              "    <tr>\n",
              "      <th>2</th>\n",
              "      <td>Noise Cancelling Headphones</td>\n",
              "      <td>Women's Clothing</td>\n",
              "    </tr>\n",
              "    <tr>\n",
              "      <th>3</th>\n",
              "      <td>Head &amp; Shoulders Shampoo</td>\n",
              "      <td>Men's Clothing</td>\n",
              "    </tr>\n",
              "    <tr>\n",
              "      <th>4</th>\n",
              "      <td>Harry Potter</td>\n",
              "      <td>Fiction</td>\n",
              "    </tr>\n",
              "  </tbody>\n",
              "</table>\n",
              "</div>\n",
              "    <div class=\"colab-df-buttons\">\n",
              "\n",
              "  <div class=\"colab-df-container\">\n",
              "    <button class=\"colab-df-convert\" onclick=\"convertToInteractive('df-280c5291-d0bb-4b9f-932a-05aefaa5bbc5')\"\n",
              "            title=\"Convert this dataframe to an interactive table.\"\n",
              "            style=\"display:none;\">\n",
              "\n",
              "  <svg xmlns=\"http://www.w3.org/2000/svg\" height=\"24px\" viewBox=\"0 -960 960 960\">\n",
              "    <path d=\"M120-120v-720h720v720H120Zm60-500h600v-160H180v160Zm220 220h160v-160H400v160Zm0 220h160v-160H400v160ZM180-400h160v-160H180v160Zm440 0h160v-160H620v160ZM180-180h160v-160H180v160Zm440 0h160v-160H620v160Z\"/>\n",
              "  </svg>\n",
              "    </button>\n",
              "\n",
              "  <style>\n",
              "    .colab-df-container {\n",
              "      display:flex;\n",
              "      gap: 12px;\n",
              "    }\n",
              "\n",
              "    .colab-df-convert {\n",
              "      background-color: #E8F0FE;\n",
              "      border: none;\n",
              "      border-radius: 50%;\n",
              "      cursor: pointer;\n",
              "      display: none;\n",
              "      fill: #1967D2;\n",
              "      height: 32px;\n",
              "      padding: 0 0 0 0;\n",
              "      width: 32px;\n",
              "    }\n",
              "\n",
              "    .colab-df-convert:hover {\n",
              "      background-color: #E2EBFA;\n",
              "      box-shadow: 0px 1px 2px rgba(60, 64, 67, 0.3), 0px 1px 3px 1px rgba(60, 64, 67, 0.15);\n",
              "      fill: #174EA6;\n",
              "    }\n",
              "\n",
              "    .colab-df-buttons div {\n",
              "      margin-bottom: 4px;\n",
              "    }\n",
              "\n",
              "    [theme=dark] .colab-df-convert {\n",
              "      background-color: #3B4455;\n",
              "      fill: #D2E3FC;\n",
              "    }\n",
              "\n",
              "    [theme=dark] .colab-df-convert:hover {\n",
              "      background-color: #434B5C;\n",
              "      box-shadow: 0px 1px 3px 1px rgba(0, 0, 0, 0.15);\n",
              "      filter: drop-shadow(0px 1px 2px rgba(0, 0, 0, 0.3));\n",
              "      fill: #FFFFFF;\n",
              "    }\n",
              "  </style>\n",
              "\n",
              "    <script>\n",
              "      const buttonEl =\n",
              "        document.querySelector('#df-280c5291-d0bb-4b9f-932a-05aefaa5bbc5 button.colab-df-convert');\n",
              "      buttonEl.style.display =\n",
              "        google.colab.kernel.accessAllowed ? 'block' : 'none';\n",
              "\n",
              "      async function convertToInteractive(key) {\n",
              "        const element = document.querySelector('#df-280c5291-d0bb-4b9f-932a-05aefaa5bbc5');\n",
              "        const dataTable =\n",
              "          await google.colab.kernel.invokeFunction('convertToInteractive',\n",
              "                                                    [key], {});\n",
              "        if (!dataTable) return;\n",
              "\n",
              "        const docLinkHtml = 'Like what you see? Visit the ' +\n",
              "          '<a target=\"_blank\" href=https://colab.research.google.com/notebooks/data_table.ipynb>data table notebook</a>'\n",
              "          + ' to learn more about interactive tables.';\n",
              "        element.innerHTML = '';\n",
              "        dataTable['output_type'] = 'display_data';\n",
              "        await google.colab.output.renderOutput(dataTable, element);\n",
              "        const docLink = document.createElement('div');\n",
              "        docLink.innerHTML = docLinkHtml;\n",
              "        element.appendChild(docLink);\n",
              "      }\n",
              "    </script>\n",
              "  </div>\n",
              "\n",
              "\n",
              "    <div id=\"df-62c88e8f-f7b1-40ca-92bf-e7b3314d6117\">\n",
              "      <button class=\"colab-df-quickchart\" onclick=\"quickchart('df-62c88e8f-f7b1-40ca-92bf-e7b3314d6117')\"\n",
              "                title=\"Suggest charts\"\n",
              "                style=\"display:none;\">\n",
              "\n",
              "<svg xmlns=\"http://www.w3.org/2000/svg\" height=\"24px\"viewBox=\"0 0 24 24\"\n",
              "     width=\"24px\">\n",
              "    <g>\n",
              "        <path d=\"M19 3H5c-1.1 0-2 .9-2 2v14c0 1.1.9 2 2 2h14c1.1 0 2-.9 2-2V5c0-1.1-.9-2-2-2zM9 17H7v-7h2v7zm4 0h-2V7h2v10zm4 0h-2v-4h2v4z\"/>\n",
              "    </g>\n",
              "</svg>\n",
              "      </button>\n",
              "\n",
              "<style>\n",
              "  .colab-df-quickchart {\n",
              "      --bg-color: #E8F0FE;\n",
              "      --fill-color: #1967D2;\n",
              "      --hover-bg-color: #E2EBFA;\n",
              "      --hover-fill-color: #174EA6;\n",
              "      --disabled-fill-color: #AAA;\n",
              "      --disabled-bg-color: #DDD;\n",
              "  }\n",
              "\n",
              "  [theme=dark] .colab-df-quickchart {\n",
              "      --bg-color: #3B4455;\n",
              "      --fill-color: #D2E3FC;\n",
              "      --hover-bg-color: #434B5C;\n",
              "      --hover-fill-color: #FFFFFF;\n",
              "      --disabled-bg-color: #3B4455;\n",
              "      --disabled-fill-color: #666;\n",
              "  }\n",
              "\n",
              "  .colab-df-quickchart {\n",
              "    background-color: var(--bg-color);\n",
              "    border: none;\n",
              "    border-radius: 50%;\n",
              "    cursor: pointer;\n",
              "    display: none;\n",
              "    fill: var(--fill-color);\n",
              "    height: 32px;\n",
              "    padding: 0;\n",
              "    width: 32px;\n",
              "  }\n",
              "\n",
              "  .colab-df-quickchart:hover {\n",
              "    background-color: var(--hover-bg-color);\n",
              "    box-shadow: 0 1px 2px rgba(60, 64, 67, 0.3), 0 1px 3px 1px rgba(60, 64, 67, 0.15);\n",
              "    fill: var(--button-hover-fill-color);\n",
              "  }\n",
              "\n",
              "  .colab-df-quickchart-complete:disabled,\n",
              "  .colab-df-quickchart-complete:disabled:hover {\n",
              "    background-color: var(--disabled-bg-color);\n",
              "    fill: var(--disabled-fill-color);\n",
              "    box-shadow: none;\n",
              "  }\n",
              "\n",
              "  .colab-df-spinner {\n",
              "    border: 2px solid var(--fill-color);\n",
              "    border-color: transparent;\n",
              "    border-bottom-color: var(--fill-color);\n",
              "    animation:\n",
              "      spin 1s steps(1) infinite;\n",
              "  }\n",
              "\n",
              "  @keyframes spin {\n",
              "    0% {\n",
              "      border-color: transparent;\n",
              "      border-bottom-color: var(--fill-color);\n",
              "      border-left-color: var(--fill-color);\n",
              "    }\n",
              "    20% {\n",
              "      border-color: transparent;\n",
              "      border-left-color: var(--fill-color);\n",
              "      border-top-color: var(--fill-color);\n",
              "    }\n",
              "    30% {\n",
              "      border-color: transparent;\n",
              "      border-left-color: var(--fill-color);\n",
              "      border-top-color: var(--fill-color);\n",
              "      border-right-color: var(--fill-color);\n",
              "    }\n",
              "    40% {\n",
              "      border-color: transparent;\n",
              "      border-right-color: var(--fill-color);\n",
              "      border-top-color: var(--fill-color);\n",
              "    }\n",
              "    60% {\n",
              "      border-color: transparent;\n",
              "      border-right-color: var(--fill-color);\n",
              "    }\n",
              "    80% {\n",
              "      border-color: transparent;\n",
              "      border-right-color: var(--fill-color);\n",
              "      border-bottom-color: var(--fill-color);\n",
              "    }\n",
              "    90% {\n",
              "      border-color: transparent;\n",
              "      border-bottom-color: var(--fill-color);\n",
              "    }\n",
              "  }\n",
              "</style>\n",
              "\n",
              "      <script>\n",
              "        async function quickchart(key) {\n",
              "          const quickchartButtonEl =\n",
              "            document.querySelector('#' + key + ' button');\n",
              "          quickchartButtonEl.disabled = true;  // To prevent multiple clicks.\n",
              "          quickchartButtonEl.classList.add('colab-df-spinner');\n",
              "          try {\n",
              "            const charts = await google.colab.kernel.invokeFunction(\n",
              "                'suggestCharts', [key], {});\n",
              "          } catch (error) {\n",
              "            console.error('Error during call to suggestCharts:', error);\n",
              "          }\n",
              "          quickchartButtonEl.classList.remove('colab-df-spinner');\n",
              "          quickchartButtonEl.classList.add('colab-df-quickchart-complete');\n",
              "        }\n",
              "        (() => {\n",
              "          let quickchartButtonEl =\n",
              "            document.querySelector('#df-62c88e8f-f7b1-40ca-92bf-e7b3314d6117 button');\n",
              "          quickchartButtonEl.style.display =\n",
              "            google.colab.kernel.accessAllowed ? 'block' : 'none';\n",
              "        })();\n",
              "      </script>\n",
              "    </div>\n",
              "\n",
              "    </div>\n",
              "  </div>\n"
            ],
            "application/vnd.google.colaboratory.intrinsic+json": {
              "type": "dataframe",
              "summary": "{\n  \"name\": \"df[['Product_Name', 'Product_Sub_Category']]\",\n  \"rows\": 5,\n  \"fields\": [\n    {\n      \"column\": \"Product_Name\",\n      \"properties\": {\n        \"dtype\": \"string\",\n        \"num_unique_values\": 5,\n        \"samples\": [\n          \"Samsung Galaxy S21\",\n          \"Harry Potter\",\n          \"Noise Cancelling Headphones\"\n        ],\n        \"semantic_type\": \"\",\n        \"description\": \"\"\n      }\n    },\n    {\n      \"column\": \"Product_Sub_Category\",\n      \"properties\": {\n        \"dtype\": \"string\",\n        \"num_unique_values\": 4,\n        \"samples\": [\n          \"Women's Clothing\",\n          \"Fiction\",\n          \"Mobile Phones\"\n        ],\n        \"semantic_type\": \"\",\n        \"description\": \"\"\n      }\n    }\n  ]\n}"
            }
          },
          "metadata": {},
          "execution_count": 12
        }
      ],
      "source": [
        "import random\n",
        "\n",
        "# Define realistic sample product names by sub-category\n",
        "sample_names = {\n",
        "    'Mobile': ['iPhone 13 Pro', 'Samsung Galaxy S21', 'OnePlus 11R', 'Realme Narzo 50A'],\n",
        "    'Makeup': ['Maybelline Lipstick', 'Lakme Foundation', 'L’Oreal Eyeliner', 'Revlon Compact Powder'],\n",
        "    'Haircare': ['Dove Shampoo', 'Pantene Conditioner', 'Tresemme Serum', 'Head & Shoulders Shampoo'],\n",
        "    'Cookware': ['Prestige Fry Pan', 'Hawkins Cooker', 'Wonderchef Kadhai', 'Pigeon Gas Stove'],\n",
        "    'Furniture': ['IKEA Study Table', 'Nilkamal Chair', 'Urban Ladder Sofa', 'Godrej Bookshelf'],\n",
        "    'Appliances': ['LG Washing Machine', 'Whirlpool Refrigerator', 'Philips Air Fryer', 'Bosch Dishwasher'],\n",
        "    'Headphones': ['Sony WH-1000XM4', 'boAt Rockerz 450', 'JBL Tune 510BT', 'Noise Cancelling Headphones'],\n",
        "    'Laptops': ['HP Pavilion 15', 'Dell Inspiron 14', 'MacBook Air M2', 'Lenovo IdeaPad Slim 5'],\n",
        "    'Comics': ['Batman: The Killing Joke', 'Spider-Man Noir', 'X-Men Legends', 'Iron Man: Extremis'],\n",
        "    'Non-fiction': ['Sapiens', 'Atomic Habits', 'Psychology of Money', 'Deep Work'],\n",
        "    'Fiction': ['The Alchemist', 'It Ends With Us', 'Harry Potter', '1984'],\n",
        "    'Skincare': ['Nivea Moisturizer', 'Pond’s Face Cream', 'Mamaearth Serum', 'The Ordinary Cream'],\n",
        "    'Fragrances': ['Fogg Perfume', 'Engage Deo', 'Calvin Klein Eternity', 'Davidoff Cool Water'],\n",
        "    'Cameras': ['Canon EOS 1500D', 'Nikon D3500', 'Sony Alpha', 'GoPro Hero 10']\n",
        "}\n",
        "\n",
        "# Updated function to avoid too many \"Generic Product\"\n",
        "def clean_product_name(row):\n",
        "    for key in sample_names:\n",
        "        if key.lower() in row['Product_Sub_Category'].lower():\n",
        "            return random.choice(sample_names[key])\n",
        "    # Assign a random known product if no match found\n",
        "    all_sample_products = [prod for sublist in sample_names.values() for prod in sublist]\n",
        "    return random.choice(all_sample_products)\n",
        "\n",
        "\n",
        "# Apply to your dataset\n",
        "df['Product_Name'] = df.apply(clean_product_name, axis=1)\n",
        "df[['Product_Name', 'Product_Sub_Category']].head()\n"
      ]
    },
    {
      "cell_type": "markdown",
      "metadata": {
        "id": "mYSM5ZFuQdKK"
      },
      "source": [
        "### To figure out if any changes in datatype required"
      ]
    },
    {
      "cell_type": "code",
      "execution_count": 13,
      "metadata": {
        "id": "4iRNNzQhQUXx",
        "colab": {
          "base_uri": "https://localhost:8080/"
        },
        "outputId": "b1376885-92a7-4859-f469-ad7318ae96af"
      },
      "outputs": [
        {
          "output_type": "stream",
          "name": "stdout",
          "text": [
            "<class 'pandas.core.frame.DataFrame'>\n",
            "RangeIndex: 50000 entries, 0 to 49999\n",
            "Data columns (total 19 columns):\n",
            " #   Column                Non-Null Count  Dtype  \n",
            "---  ------                --------------  -----  \n",
            " 0   Order_ID              50000 non-null  object \n",
            " 1   Customer_ID           50000 non-null  object \n",
            " 2   Product_Name          50000 non-null  object \n",
            " 3   Category              50000 non-null  object \n",
            " 4   Product_Sub_Category  50000 non-null  object \n",
            " 5   Order_Placement_Date  50000 non-null  object \n",
            " 6   Shipping_Date         50000 non-null  object \n",
            " 7   Shipping_Mode         50000 non-null  object \n",
            " 8   Order_Quantity        50000 non-null  int64  \n",
            " 9   Unit_Price            50000 non-null  float64\n",
            " 10  Discount_Applied      50000 non-null  float64\n",
            " 11  Total_Sales           50000 non-null  float64\n",
            " 12  Net_Profit            50000 non-null  float64\n",
            " 13  Sales_Region          50000 non-null  object \n",
            " 14  Customer_Rating       50000 non-null  int64  \n",
            " 15  Shipping_Delay        50000 non-null  int64  \n",
            " 16  Weekday               50000 non-null  object \n",
            " 17  Weekend               50000 non-null  bool   \n",
            " 18  Month                 50000 non-null  int64  \n",
            "dtypes: bool(1), float64(4), int64(4), object(10)\n",
            "memory usage: 6.9+ MB\n"
          ]
        }
      ],
      "source": [
        "df.info()"
      ]
    },
    {
      "cell_type": "markdown",
      "metadata": {
        "id": "LoCawbP4UGLe"
      },
      "source": [
        "### Convert date columns"
      ]
    },
    {
      "cell_type": "code",
      "execution_count": 14,
      "metadata": {
        "id": "hicuY7pyQhmR"
      },
      "outputs": [],
      "source": [
        "df['Order_Placement_Date'] = pd.to_datetime(df['Order_Placement_Date'])\n",
        "df['Shipping_Date'] = pd.to_datetime(df['Shipping_Date'])\n"
      ]
    },
    {
      "cell_type": "markdown",
      "metadata": {
        "id": "2jSh4MRwUMJS"
      },
      "source": [
        "### Convert selected object columns to category"
      ]
    },
    {
      "cell_type": "code",
      "execution_count": 15,
      "metadata": {
        "id": "FF52hcbhULbU"
      },
      "outputs": [],
      "source": [
        "cat_cols = ['Sales_Region', 'Shipping_Mode', 'Weekday', 'Category', 'Product_Sub_Category']\n",
        "df[cat_cols] = df[cat_cols].astype('category')"
      ]
    },
    {
      "cell_type": "markdown",
      "metadata": {
        "id": "9MU-er2mUfc1"
      },
      "source": [
        "### Convert rating to category"
      ]
    },
    {
      "cell_type": "code",
      "execution_count": 16,
      "metadata": {
        "id": "6bj-a2doUWlJ"
      },
      "outputs": [],
      "source": [
        "df['Customer_Rating'] = df['Customer_Rating'].astype('category')"
      ]
    },
    {
      "cell_type": "markdown",
      "metadata": {
        "id": "KAiWlDfGVN3S"
      },
      "source": [
        "### To check if datatype sucessfully changed"
      ]
    },
    {
      "cell_type": "code",
      "execution_count": 17,
      "metadata": {
        "id": "Sx_kRbrYUbTK",
        "colab": {
          "base_uri": "https://localhost:8080/"
        },
        "outputId": "08305044-9241-4fdb-c3ec-1299b878238b"
      },
      "outputs": [
        {
          "output_type": "execute_result",
          "data": {
            "text/plain": [
              "dtype('<M8[ns]')"
            ]
          },
          "metadata": {},
          "execution_count": 17
        }
      ],
      "source": [
        "df['Order_Placement_Date'].dtype\n"
      ]
    },
    {
      "cell_type": "markdown",
      "metadata": {
        "id": "I-GwAlpWWsk7"
      },
      "source": [
        "### To check the column names(default top 5 values)\n"
      ]
    },
    {
      "cell_type": "code",
      "execution_count": 18,
      "metadata": {
        "id": "Gxfb1xO1WEH9",
        "colab": {
          "base_uri": "https://localhost:8080/",
          "height": 313
        },
        "outputId": "a526847a-4072-4b87-ed46-47ee215f4abd"
      },
      "outputs": [
        {
          "output_type": "execute_result",
          "data": {
            "text/plain": [
              "    Order_ID Customer_ID                 Product_Name     Category  \\\n",
              "0  ORD100000   CUST89696                  OnePlus 11R  Electronics   \n",
              "1  ORD100001   CUST74563           Samsung Galaxy S21  Electronics   \n",
              "2  ORD100002   CUST21926  Noise Cancelling Headphones     Clothing   \n",
              "3  ORD100003   CUST46082     Head & Shoulders Shampoo     Clothing   \n",
              "4  ORD100004   CUST82070                 Harry Potter        Books   \n",
              "\n",
              "  Product_Sub_Category Order_Placement_Date Shipping_Date Shipping_Mode  \\\n",
              "0        Mobile Phones           2023-09-17    2023-09-18      Standard   \n",
              "1        Mobile Phones           2025-01-18    2025-01-19      Same Day   \n",
              "2     Women's Clothing           2023-12-30    2024-01-06       Express   \n",
              "3       Men's Clothing           2023-10-09    2023-10-12       Express   \n",
              "4              Fiction           2023-09-10    2023-09-16      Same Day   \n",
              "\n",
              "   Order_Quantity  Unit_Price  Discount_Applied  Total_Sales  Net_Profit  \\\n",
              "0               3     1299.97              0.07      3626.92     1088.07   \n",
              "1               1     1171.33              0.25       878.50      263.55   \n",
              "2               5     1463.13              0.43      4169.92     1250.98   \n",
              "3               3      600.83              0.19      1460.02      438.01   \n",
              "4               4      486.12              0.15      1652.81      495.84   \n",
              "\n",
              "  Sales_Region Customer_Rating  Shipping_Delay   Weekday  Weekend  Month  \n",
              "0         West               5               1    Sunday     True      9  \n",
              "1         West               2               1  Saturday     True      1  \n",
              "2         East               4               7  Saturday     True     12  \n",
              "3        North               5               3    Monday    False     10  \n",
              "4        South               3               6    Sunday     True      9  "
            ],
            "text/html": [
              "\n",
              "  <div id=\"df-2ae0ba84-69ca-4030-aa2d-d6bc27c51cca\" class=\"colab-df-container\">\n",
              "    <div>\n",
              "<style scoped>\n",
              "    .dataframe tbody tr th:only-of-type {\n",
              "        vertical-align: middle;\n",
              "    }\n",
              "\n",
              "    .dataframe tbody tr th {\n",
              "        vertical-align: top;\n",
              "    }\n",
              "\n",
              "    .dataframe thead th {\n",
              "        text-align: right;\n",
              "    }\n",
              "</style>\n",
              "<table border=\"1\" class=\"dataframe\">\n",
              "  <thead>\n",
              "    <tr style=\"text-align: right;\">\n",
              "      <th></th>\n",
              "      <th>Order_ID</th>\n",
              "      <th>Customer_ID</th>\n",
              "      <th>Product_Name</th>\n",
              "      <th>Category</th>\n",
              "      <th>Product_Sub_Category</th>\n",
              "      <th>Order_Placement_Date</th>\n",
              "      <th>Shipping_Date</th>\n",
              "      <th>Shipping_Mode</th>\n",
              "      <th>Order_Quantity</th>\n",
              "      <th>Unit_Price</th>\n",
              "      <th>Discount_Applied</th>\n",
              "      <th>Total_Sales</th>\n",
              "      <th>Net_Profit</th>\n",
              "      <th>Sales_Region</th>\n",
              "      <th>Customer_Rating</th>\n",
              "      <th>Shipping_Delay</th>\n",
              "      <th>Weekday</th>\n",
              "      <th>Weekend</th>\n",
              "      <th>Month</th>\n",
              "    </tr>\n",
              "  </thead>\n",
              "  <tbody>\n",
              "    <tr>\n",
              "      <th>0</th>\n",
              "      <td>ORD100000</td>\n",
              "      <td>CUST89696</td>\n",
              "      <td>OnePlus 11R</td>\n",
              "      <td>Electronics</td>\n",
              "      <td>Mobile Phones</td>\n",
              "      <td>2023-09-17</td>\n",
              "      <td>2023-09-18</td>\n",
              "      <td>Standard</td>\n",
              "      <td>3</td>\n",
              "      <td>1299.97</td>\n",
              "      <td>0.07</td>\n",
              "      <td>3626.92</td>\n",
              "      <td>1088.07</td>\n",
              "      <td>West</td>\n",
              "      <td>5</td>\n",
              "      <td>1</td>\n",
              "      <td>Sunday</td>\n",
              "      <td>True</td>\n",
              "      <td>9</td>\n",
              "    </tr>\n",
              "    <tr>\n",
              "      <th>1</th>\n",
              "      <td>ORD100001</td>\n",
              "      <td>CUST74563</td>\n",
              "      <td>Samsung Galaxy S21</td>\n",
              "      <td>Electronics</td>\n",
              "      <td>Mobile Phones</td>\n",
              "      <td>2025-01-18</td>\n",
              "      <td>2025-01-19</td>\n",
              "      <td>Same Day</td>\n",
              "      <td>1</td>\n",
              "      <td>1171.33</td>\n",
              "      <td>0.25</td>\n",
              "      <td>878.50</td>\n",
              "      <td>263.55</td>\n",
              "      <td>West</td>\n",
              "      <td>2</td>\n",
              "      <td>1</td>\n",
              "      <td>Saturday</td>\n",
              "      <td>True</td>\n",
              "      <td>1</td>\n",
              "    </tr>\n",
              "    <tr>\n",
              "      <th>2</th>\n",
              "      <td>ORD100002</td>\n",
              "      <td>CUST21926</td>\n",
              "      <td>Noise Cancelling Headphones</td>\n",
              "      <td>Clothing</td>\n",
              "      <td>Women's Clothing</td>\n",
              "      <td>2023-12-30</td>\n",
              "      <td>2024-01-06</td>\n",
              "      <td>Express</td>\n",
              "      <td>5</td>\n",
              "      <td>1463.13</td>\n",
              "      <td>0.43</td>\n",
              "      <td>4169.92</td>\n",
              "      <td>1250.98</td>\n",
              "      <td>East</td>\n",
              "      <td>4</td>\n",
              "      <td>7</td>\n",
              "      <td>Saturday</td>\n",
              "      <td>True</td>\n",
              "      <td>12</td>\n",
              "    </tr>\n",
              "    <tr>\n",
              "      <th>3</th>\n",
              "      <td>ORD100003</td>\n",
              "      <td>CUST46082</td>\n",
              "      <td>Head &amp; Shoulders Shampoo</td>\n",
              "      <td>Clothing</td>\n",
              "      <td>Men's Clothing</td>\n",
              "      <td>2023-10-09</td>\n",
              "      <td>2023-10-12</td>\n",
              "      <td>Express</td>\n",
              "      <td>3</td>\n",
              "      <td>600.83</td>\n",
              "      <td>0.19</td>\n",
              "      <td>1460.02</td>\n",
              "      <td>438.01</td>\n",
              "      <td>North</td>\n",
              "      <td>5</td>\n",
              "      <td>3</td>\n",
              "      <td>Monday</td>\n",
              "      <td>False</td>\n",
              "      <td>10</td>\n",
              "    </tr>\n",
              "    <tr>\n",
              "      <th>4</th>\n",
              "      <td>ORD100004</td>\n",
              "      <td>CUST82070</td>\n",
              "      <td>Harry Potter</td>\n",
              "      <td>Books</td>\n",
              "      <td>Fiction</td>\n",
              "      <td>2023-09-10</td>\n",
              "      <td>2023-09-16</td>\n",
              "      <td>Same Day</td>\n",
              "      <td>4</td>\n",
              "      <td>486.12</td>\n",
              "      <td>0.15</td>\n",
              "      <td>1652.81</td>\n",
              "      <td>495.84</td>\n",
              "      <td>South</td>\n",
              "      <td>3</td>\n",
              "      <td>6</td>\n",
              "      <td>Sunday</td>\n",
              "      <td>True</td>\n",
              "      <td>9</td>\n",
              "    </tr>\n",
              "  </tbody>\n",
              "</table>\n",
              "</div>\n",
              "    <div class=\"colab-df-buttons\">\n",
              "\n",
              "  <div class=\"colab-df-container\">\n",
              "    <button class=\"colab-df-convert\" onclick=\"convertToInteractive('df-2ae0ba84-69ca-4030-aa2d-d6bc27c51cca')\"\n",
              "            title=\"Convert this dataframe to an interactive table.\"\n",
              "            style=\"display:none;\">\n",
              "\n",
              "  <svg xmlns=\"http://www.w3.org/2000/svg\" height=\"24px\" viewBox=\"0 -960 960 960\">\n",
              "    <path d=\"M120-120v-720h720v720H120Zm60-500h600v-160H180v160Zm220 220h160v-160H400v160Zm0 220h160v-160H400v160ZM180-400h160v-160H180v160Zm440 0h160v-160H620v160ZM180-180h160v-160H180v160Zm440 0h160v-160H620v160Z\"/>\n",
              "  </svg>\n",
              "    </button>\n",
              "\n",
              "  <style>\n",
              "    .colab-df-container {\n",
              "      display:flex;\n",
              "      gap: 12px;\n",
              "    }\n",
              "\n",
              "    .colab-df-convert {\n",
              "      background-color: #E8F0FE;\n",
              "      border: none;\n",
              "      border-radius: 50%;\n",
              "      cursor: pointer;\n",
              "      display: none;\n",
              "      fill: #1967D2;\n",
              "      height: 32px;\n",
              "      padding: 0 0 0 0;\n",
              "      width: 32px;\n",
              "    }\n",
              "\n",
              "    .colab-df-convert:hover {\n",
              "      background-color: #E2EBFA;\n",
              "      box-shadow: 0px 1px 2px rgba(60, 64, 67, 0.3), 0px 1px 3px 1px rgba(60, 64, 67, 0.15);\n",
              "      fill: #174EA6;\n",
              "    }\n",
              "\n",
              "    .colab-df-buttons div {\n",
              "      margin-bottom: 4px;\n",
              "    }\n",
              "\n",
              "    [theme=dark] .colab-df-convert {\n",
              "      background-color: #3B4455;\n",
              "      fill: #D2E3FC;\n",
              "    }\n",
              "\n",
              "    [theme=dark] .colab-df-convert:hover {\n",
              "      background-color: #434B5C;\n",
              "      box-shadow: 0px 1px 3px 1px rgba(0, 0, 0, 0.15);\n",
              "      filter: drop-shadow(0px 1px 2px rgba(0, 0, 0, 0.3));\n",
              "      fill: #FFFFFF;\n",
              "    }\n",
              "  </style>\n",
              "\n",
              "    <script>\n",
              "      const buttonEl =\n",
              "        document.querySelector('#df-2ae0ba84-69ca-4030-aa2d-d6bc27c51cca button.colab-df-convert');\n",
              "      buttonEl.style.display =\n",
              "        google.colab.kernel.accessAllowed ? 'block' : 'none';\n",
              "\n",
              "      async function convertToInteractive(key) {\n",
              "        const element = document.querySelector('#df-2ae0ba84-69ca-4030-aa2d-d6bc27c51cca');\n",
              "        const dataTable =\n",
              "          await google.colab.kernel.invokeFunction('convertToInteractive',\n",
              "                                                    [key], {});\n",
              "        if (!dataTable) return;\n",
              "\n",
              "        const docLinkHtml = 'Like what you see? Visit the ' +\n",
              "          '<a target=\"_blank\" href=https://colab.research.google.com/notebooks/data_table.ipynb>data table notebook</a>'\n",
              "          + ' to learn more about interactive tables.';\n",
              "        element.innerHTML = '';\n",
              "        dataTable['output_type'] = 'display_data';\n",
              "        await google.colab.output.renderOutput(dataTable, element);\n",
              "        const docLink = document.createElement('div');\n",
              "        docLink.innerHTML = docLinkHtml;\n",
              "        element.appendChild(docLink);\n",
              "      }\n",
              "    </script>\n",
              "  </div>\n",
              "\n",
              "\n",
              "    <div id=\"df-bdc093a3-c9ff-426c-b047-f1b6a46212e9\">\n",
              "      <button class=\"colab-df-quickchart\" onclick=\"quickchart('df-bdc093a3-c9ff-426c-b047-f1b6a46212e9')\"\n",
              "                title=\"Suggest charts\"\n",
              "                style=\"display:none;\">\n",
              "\n",
              "<svg xmlns=\"http://www.w3.org/2000/svg\" height=\"24px\"viewBox=\"0 0 24 24\"\n",
              "     width=\"24px\">\n",
              "    <g>\n",
              "        <path d=\"M19 3H5c-1.1 0-2 .9-2 2v14c0 1.1.9 2 2 2h14c1.1 0 2-.9 2-2V5c0-1.1-.9-2-2-2zM9 17H7v-7h2v7zm4 0h-2V7h2v10zm4 0h-2v-4h2v4z\"/>\n",
              "    </g>\n",
              "</svg>\n",
              "      </button>\n",
              "\n",
              "<style>\n",
              "  .colab-df-quickchart {\n",
              "      --bg-color: #E8F0FE;\n",
              "      --fill-color: #1967D2;\n",
              "      --hover-bg-color: #E2EBFA;\n",
              "      --hover-fill-color: #174EA6;\n",
              "      --disabled-fill-color: #AAA;\n",
              "      --disabled-bg-color: #DDD;\n",
              "  }\n",
              "\n",
              "  [theme=dark] .colab-df-quickchart {\n",
              "      --bg-color: #3B4455;\n",
              "      --fill-color: #D2E3FC;\n",
              "      --hover-bg-color: #434B5C;\n",
              "      --hover-fill-color: #FFFFFF;\n",
              "      --disabled-bg-color: #3B4455;\n",
              "      --disabled-fill-color: #666;\n",
              "  }\n",
              "\n",
              "  .colab-df-quickchart {\n",
              "    background-color: var(--bg-color);\n",
              "    border: none;\n",
              "    border-radius: 50%;\n",
              "    cursor: pointer;\n",
              "    display: none;\n",
              "    fill: var(--fill-color);\n",
              "    height: 32px;\n",
              "    padding: 0;\n",
              "    width: 32px;\n",
              "  }\n",
              "\n",
              "  .colab-df-quickchart:hover {\n",
              "    background-color: var(--hover-bg-color);\n",
              "    box-shadow: 0 1px 2px rgba(60, 64, 67, 0.3), 0 1px 3px 1px rgba(60, 64, 67, 0.15);\n",
              "    fill: var(--button-hover-fill-color);\n",
              "  }\n",
              "\n",
              "  .colab-df-quickchart-complete:disabled,\n",
              "  .colab-df-quickchart-complete:disabled:hover {\n",
              "    background-color: var(--disabled-bg-color);\n",
              "    fill: var(--disabled-fill-color);\n",
              "    box-shadow: none;\n",
              "  }\n",
              "\n",
              "  .colab-df-spinner {\n",
              "    border: 2px solid var(--fill-color);\n",
              "    border-color: transparent;\n",
              "    border-bottom-color: var(--fill-color);\n",
              "    animation:\n",
              "      spin 1s steps(1) infinite;\n",
              "  }\n",
              "\n",
              "  @keyframes spin {\n",
              "    0% {\n",
              "      border-color: transparent;\n",
              "      border-bottom-color: var(--fill-color);\n",
              "      border-left-color: var(--fill-color);\n",
              "    }\n",
              "    20% {\n",
              "      border-color: transparent;\n",
              "      border-left-color: var(--fill-color);\n",
              "      border-top-color: var(--fill-color);\n",
              "    }\n",
              "    30% {\n",
              "      border-color: transparent;\n",
              "      border-left-color: var(--fill-color);\n",
              "      border-top-color: var(--fill-color);\n",
              "      border-right-color: var(--fill-color);\n",
              "    }\n",
              "    40% {\n",
              "      border-color: transparent;\n",
              "      border-right-color: var(--fill-color);\n",
              "      border-top-color: var(--fill-color);\n",
              "    }\n",
              "    60% {\n",
              "      border-color: transparent;\n",
              "      border-right-color: var(--fill-color);\n",
              "    }\n",
              "    80% {\n",
              "      border-color: transparent;\n",
              "      border-right-color: var(--fill-color);\n",
              "      border-bottom-color: var(--fill-color);\n",
              "    }\n",
              "    90% {\n",
              "      border-color: transparent;\n",
              "      border-bottom-color: var(--fill-color);\n",
              "    }\n",
              "  }\n",
              "</style>\n",
              "\n",
              "      <script>\n",
              "        async function quickchart(key) {\n",
              "          const quickchartButtonEl =\n",
              "            document.querySelector('#' + key + ' button');\n",
              "          quickchartButtonEl.disabled = true;  // To prevent multiple clicks.\n",
              "          quickchartButtonEl.classList.add('colab-df-spinner');\n",
              "          try {\n",
              "            const charts = await google.colab.kernel.invokeFunction(\n",
              "                'suggestCharts', [key], {});\n",
              "          } catch (error) {\n",
              "            console.error('Error during call to suggestCharts:', error);\n",
              "          }\n",
              "          quickchartButtonEl.classList.remove('colab-df-spinner');\n",
              "          quickchartButtonEl.classList.add('colab-df-quickchart-complete');\n",
              "        }\n",
              "        (() => {\n",
              "          let quickchartButtonEl =\n",
              "            document.querySelector('#df-bdc093a3-c9ff-426c-b047-f1b6a46212e9 button');\n",
              "          quickchartButtonEl.style.display =\n",
              "            google.colab.kernel.accessAllowed ? 'block' : 'none';\n",
              "        })();\n",
              "      </script>\n",
              "    </div>\n",
              "\n",
              "    </div>\n",
              "  </div>\n"
            ],
            "application/vnd.google.colaboratory.intrinsic+json": {
              "type": "dataframe",
              "variable_name": "df",
              "summary": "{\n  \"name\": \"df\",\n  \"rows\": 50000,\n  \"fields\": [\n    {\n      \"column\": \"Order_ID\",\n      \"properties\": {\n        \"dtype\": \"string\",\n        \"num_unique_values\": 50000,\n        \"samples\": [\n          \"ORD133553\",\n          \"ORD109427\",\n          \"ORD100199\"\n        ],\n        \"semantic_type\": \"\",\n        \"description\": \"\"\n      }\n    },\n    {\n      \"column\": \"Customer_ID\",\n      \"properties\": {\n        \"dtype\": \"string\",\n        \"num_unique_values\": 39344,\n        \"samples\": [\n          \"CUST14570\",\n          \"CUST59707\",\n          \"CUST84353\"\n        ],\n        \"semantic_type\": \"\",\n        \"description\": \"\"\n      }\n    },\n    {\n      \"column\": \"Product_Name\",\n      \"properties\": {\n        \"dtype\": \"category\",\n        \"num_unique_values\": 56,\n        \"samples\": [\n          \"OnePlus 11R\",\n          \"iPhone 13 Pro\",\n          \"1984\"\n        ],\n        \"semantic_type\": \"\",\n        \"description\": \"\"\n      }\n    },\n    {\n      \"column\": \"Category\",\n      \"properties\": {\n        \"dtype\": \"category\",\n        \"num_unique_values\": 5,\n        \"samples\": [\n          \"Clothing\",\n          \"Home & Kitchen\",\n          \"Books\"\n        ],\n        \"semantic_type\": \"\",\n        \"description\": \"\"\n      }\n    },\n    {\n      \"column\": \"Product_Sub_Category\",\n      \"properties\": {\n        \"dtype\": \"category\",\n        \"num_unique_values\": 19,\n        \"samples\": [\n          \"Mobile Phones\",\n          \"Skincare\",\n          \"Makeup\"\n        ],\n        \"semantic_type\": \"\",\n        \"description\": \"\"\n      }\n    },\n    {\n      \"column\": \"Order_Placement_Date\",\n      \"properties\": {\n        \"dtype\": \"date\",\n        \"min\": \"2023-06-23 00:00:00\",\n        \"max\": \"2025-06-22 00:00:00\",\n        \"num_unique_values\": 731,\n        \"samples\": [\n          \"2024-01-13 00:00:00\",\n          \"2024-10-23 00:00:00\",\n          \"2023-11-24 00:00:00\"\n        ],\n        \"semantic_type\": \"\",\n        \"description\": \"\"\n      }\n    },\n    {\n      \"column\": \"Shipping_Date\",\n      \"properties\": {\n        \"dtype\": \"date\",\n        \"min\": \"2023-06-24 00:00:00\",\n        \"max\": \"2025-06-29 00:00:00\",\n        \"num_unique_values\": 737,\n        \"samples\": [\n          \"2025-03-11 00:00:00\",\n          \"2024-02-12 00:00:00\",\n          \"2024-11-10 00:00:00\"\n        ],\n        \"semantic_type\": \"\",\n        \"description\": \"\"\n      }\n    },\n    {\n      \"column\": \"Shipping_Mode\",\n      \"properties\": {\n        \"dtype\": \"category\",\n        \"num_unique_values\": 3,\n        \"samples\": [\n          \"Standard\",\n          \"Same Day\",\n          \"Express\"\n        ],\n        \"semantic_type\": \"\",\n        \"description\": \"\"\n      }\n    },\n    {\n      \"column\": \"Order_Quantity\",\n      \"properties\": {\n        \"dtype\": \"number\",\n        \"std\": 1,\n        \"min\": 1,\n        \"max\": 5,\n        \"num_unique_values\": 5,\n        \"samples\": [\n          1,\n          2,\n          5\n        ],\n        \"semantic_type\": \"\",\n        \"description\": \"\"\n      }\n    },\n    {\n      \"column\": \"Unit_Price\",\n      \"properties\": {\n        \"dtype\": \"number\",\n        \"std\": 1418.5231054147519,\n        \"min\": 100.21,\n        \"max\": 4999.95,\n        \"num_unique_values\": 47536,\n        \"samples\": [\n          2957.75,\n          2227.11,\n          243.57\n        ],\n        \"semantic_type\": \"\",\n        \"description\": \"\"\n      }\n    },\n    {\n      \"column\": \"Discount_Applied\",\n      \"properties\": {\n        \"dtype\": \"number\",\n        \"std\": 0.1443929847905447,\n        \"min\": 0.0,\n        \"max\": 0.5,\n        \"num_unique_values\": 51,\n        \"samples\": [\n          0.06,\n          0.5,\n          0.0\n        ],\n        \"semantic_type\": \"\",\n        \"description\": \"\"\n      }\n    },\n    {\n      \"column\": \"Total_Sales\",\n      \"properties\": {\n        \"dtype\": \"number\",\n        \"std\": 4643.1760791086235,\n        \"min\": 55.65,\n        \"max\": 24934.95,\n        \"num_unique_values\": 48959,\n        \"samples\": [\n          1610.31,\n          5103.84,\n          8301.13\n        ],\n        \"semantic_type\": \"\",\n        \"description\": \"\"\n      }\n    },\n    {\n      \"column\": \"Net_Profit\",\n      \"properties\": {\n        \"dtype\": \"number\",\n        \"std\": 1392.9528231364268,\n        \"min\": 16.69,\n        \"max\": 7480.49,\n        \"num_unique_values\": 46703,\n        \"samples\": [\n          747.61,\n          1952.5,\n          2559.9\n        ],\n        \"semantic_type\": \"\",\n        \"description\": \"\"\n      }\n    },\n    {\n      \"column\": \"Sales_Region\",\n      \"properties\": {\n        \"dtype\": \"category\",\n        \"num_unique_values\": 4,\n        \"samples\": [\n          \"East\",\n          \"South\",\n          \"West\"\n        ],\n        \"semantic_type\": \"\",\n        \"description\": \"\"\n      }\n    },\n    {\n      \"column\": \"Customer_Rating\",\n      \"properties\": {\n        \"dtype\": \"category\",\n        \"num_unique_values\": 5,\n        \"samples\": [\n          2,\n          1,\n          4\n        ],\n        \"semantic_type\": \"\",\n        \"description\": \"\"\n      }\n    },\n    {\n      \"column\": \"Shipping_Delay\",\n      \"properties\": {\n        \"dtype\": \"number\",\n        \"std\": 2,\n        \"min\": 1,\n        \"max\": 7,\n        \"num_unique_values\": 7,\n        \"samples\": [\n          1,\n          7,\n          2\n        ],\n        \"semantic_type\": \"\",\n        \"description\": \"\"\n      }\n    },\n    {\n      \"column\": \"Weekday\",\n      \"properties\": {\n        \"dtype\": \"category\",\n        \"num_unique_values\": 7,\n        \"samples\": [\n          \"Sunday\",\n          \"Saturday\",\n          \"Friday\"\n        ],\n        \"semantic_type\": \"\",\n        \"description\": \"\"\n      }\n    },\n    {\n      \"column\": \"Weekend\",\n      \"properties\": {\n        \"dtype\": \"boolean\",\n        \"num_unique_values\": 2,\n        \"samples\": [\n          false,\n          true\n        ],\n        \"semantic_type\": \"\",\n        \"description\": \"\"\n      }\n    },\n    {\n      \"column\": \"Month\",\n      \"properties\": {\n        \"dtype\": \"number\",\n        \"std\": 3,\n        \"min\": 1,\n        \"max\": 12,\n        \"num_unique_values\": 12,\n        \"samples\": [\n          3,\n          2\n        ],\n        \"semantic_type\": \"\",\n        \"description\": \"\"\n      }\n    }\n  ]\n}"
            }
          },
          "metadata": {},
          "execution_count": 18
        }
      ],
      "source": [
        "df.head()"
      ]
    },
    {
      "cell_type": "markdown",
      "metadata": {
        "id": "Xq2mcZUBXcry"
      },
      "source": [
        "### To check and drop if any duplicated rows in the dataset"
      ]
    },
    {
      "cell_type": "code",
      "execution_count": 19,
      "metadata": {
        "id": "VjCUwXTFW2Z_",
        "colab": {
          "base_uri": "https://localhost:8080/"
        },
        "outputId": "d6aaa1f9-e2ad-4e9a-dce2-39e49646f993"
      },
      "outputs": [
        {
          "output_type": "stream",
          "name": "stdout",
          "text": [
            "0\n"
          ]
        }
      ],
      "source": [
        "duplicated_rows=df.duplicated().sum()\n",
        "print(duplicated_rows)"
      ]
    },
    {
      "cell_type": "markdown",
      "metadata": {
        "id": "mq4g13OvDmXc"
      },
      "source": [
        "#Level 2: Univariate Analysis (Single Variable Analysis)"
      ]
    },
    {
      "cell_type": "markdown",
      "metadata": {
        "id": "WYHLyL3qDqal"
      },
      "source": [
        "## 1. Product Sales Performance"
      ]
    },
    {
      "cell_type": "markdown",
      "metadata": {
        "id": "kxTzwD5pD-Wd"
      },
      "source": [
        "# **Understanding which products generate the highest total sales across the platform.**\n",
        "\n",
        "\n",
        "\n"
      ]
    },
    {
      "cell_type": "markdown",
      "metadata": {
        "id": "2RIqNRzVEjW4"
      },
      "source": [
        "##Problem:"
      ]
    },
    {
      "cell_type": "markdown",
      "metadata": {
        "id": "a35IAAepEi6G"
      },
      "source": [
        "###Which products have generated the most revenue?\n",
        "\n"
      ]
    },
    {
      "cell_type": "markdown",
      "metadata": {
        "id": "ohYtSb7BEi2m"
      },
      "source": [
        "###Are there specific items that significantly outperform others?"
      ]
    },
    {
      "cell_type": "markdown",
      "metadata": {
        "id": "NxNynaUjEiyF"
      },
      "source": [
        "###Solution:"
      ]
    },
    {
      "cell_type": "markdown",
      "metadata": {
        "id": "Win4yXwPFDnH"
      },
      "source": [
        "###Identify top products by total sales."
      ]
    },
    {
      "cell_type": "markdown",
      "metadata": {
        "id": "yiQbt5t1FDbt"
      },
      "source": [
        "###Helps prioritize inventory and marketing focus on high-performing items."
      ]
    },
    {
      "cell_type": "code",
      "execution_count": 20,
      "metadata": {
        "id": "JpCzYpwBXroV",
        "colab": {
          "base_uri": "https://localhost:8080/",
          "height": 599
        },
        "outputId": "9658d994-32ba-4d60-b596-fe4351e3cbda"
      },
      "outputs": [
        {
          "output_type": "stream",
          "name": "stderr",
          "text": [
            "/tmp/ipython-input-20-2745008308.py:7: FutureWarning: \n",
            "\n",
            "Passing `palette` without assigning `hue` is deprecated and will be removed in v0.14.0. Assign the `y` variable to `hue` and set `legend=False` for the same effect.\n",
            "\n",
            "  sns.barplot(x=top_products.values, y=top_products.index, palette='Blues_r')\n"
          ]
        },
        {
          "output_type": "display_data",
          "data": {
            "text/plain": [
              "<Figure size 1000x600 with 1 Axes>"
            ],
            "image/png": "[encoded data removed]"
          },
          "metadata": {}
        }
      ],
      "source": [
        "import matplotlib.pyplot as plt\n",
        "import seaborn as sns\n",
        "\n",
        "top_products = df.groupby('Product_Name')['Total_Sales'].sum().sort_values(ascending=False).head(10)\n",
        "\n",
        "plt.figure(figsize=(10,6))\n",
        "sns.barplot(x=top_products.values, y=top_products.index, palette='Blues_r')\n",
        "plt.title('Top 10 Products by Total Sales', fontsize=14)\n",
        "plt.xlabel('Total Sales Amount', fontsize=12)\n",
        "plt.ylabel('Product Name', fontsize=12)\n",
        "plt.grid(axis='x', linestyle='--', alpha=0.7)\n",
        "plt.tight_layout()\n",
        "plt.show()\n"
      ]
    },
    {
      "cell_type": "markdown",
      "metadata": {
        "id": "R3OKzP6aNXyk"
      },
      "source": [
        "##Insight:"
      ]
    },
    {
      "cell_type": "markdown",
      "metadata": {
        "id": "CYG2DKziNgAz"
      },
      "source": [
        "## **Top 10 Products by Total Sales (Bar Chart)**\n",
        "\n",
        "*   Certain products contribute a large portion of total revenue.\n",
        "*   These products should be prioritized for stock and marketing.\n",
        "\n"
      ]
    },
    {
      "cell_type": "markdown",
      "metadata": {
        "id": "UvuW4dUfNfxx"
      },
      "source": [
        "#2. Category Demand Analysis"
      ]
    },
    {
      "cell_type": "markdown",
      "metadata": {
        "id": "gvVFP4lXNfof"
      },
      "source": [
        "#Examining which categories and subcategories generate the most item sales to guide inventory planning."
      ]
    },
    {
      "cell_type": "markdown",
      "metadata": {
        "id": "5UMTwpOgRdEy"
      },
      "source": [
        "##Problem:\n",
        "\n",
        "*   Which product categories and subcategories have the highest sales volume?\n",
        "*   Are certain categories consistently outperforming others?\n",
        "\n"
      ]
    },
    {
      "cell_type": "markdown",
      "metadata": {
        "id": "3rjVNvxcSY5K"
      },
      "source": [
        "##Solution:\n",
        "\n",
        "*   Understand demand at both category and subcategory levels.\n",
        "*   Guide procurement, inventory, and marketing decisions to focus on top-selling categories.\n",
        "\n"
      ]
    },
    {
      "cell_type": "code",
      "execution_count": 21,
      "metadata": {
        "id": "Hvkl5PsEFYRz",
        "colab": {
          "base_uri": "https://localhost:8080/",
          "height": 1000
        },
        "outputId": "d739d398-f8cf-4760-f24f-50308151aecd"
      },
      "outputs": [
        {
          "output_type": "stream",
          "name": "stderr",
          "text": [
            "/tmp/ipython-input-21-4153248056.py:5: FutureWarning: The default of observed=False is deprecated and will be changed to True in a future version of pandas. Pass observed=False to retain current behavior or observed=True to adopt the future default and silence this warning.\n",
            "  category_sales = df.groupby('Category')['Order_Quantity'].sum().sort_values(ascending=False)\n",
            "/tmp/ipython-input-21-4153248056.py:9: FutureWarning: \n",
            "\n",
            "Passing `palette` without assigning `hue` is deprecated and will be removed in v0.14.0. Assign the `y` variable to `hue` and set `legend=False` for the same effect.\n",
            "\n",
            "  sns.barplot(x=category_sales.values, y=category_sales.index, palette='magma')\n"
          ]
        },
        {
          "output_type": "display_data",
          "data": {
            "text/plain": [
              "<Figure size 1000x600 with 1 Axes>"
            ],
            "image/png": "[encoded data removed]"
          },
          "metadata": {}
        },
        {
          "output_type": "stream",
          "name": "stderr",
          "text": [
            "/tmp/ipython-input-21-4153248056.py:17: FutureWarning: The default of observed=False is deprecated and will be changed to True in a future version of pandas. Pass observed=False to retain current behavior or observed=True to adopt the future default and silence this warning.\n",
            "  subcategory_sales = df.groupby('Product_Sub_Category')['Order_Quantity'].sum().sort_values(ascending=False).head(10)\n",
            "/tmp/ipython-input-21-4153248056.py:21: FutureWarning: \n",
            "\n",
            "Passing `palette` without assigning `hue` is deprecated and will be removed in v0.14.0. Assign the `y` variable to `hue` and set `legend=False` for the same effect.\n",
            "\n",
            "  sns.barplot(x=subcategory_sales.values, y=subcategory_sales.index, palette='coolwarm')\n"
          ]
        },
        {
          "output_type": "display_data",
          "data": {
            "text/plain": [
              "<Figure size 1000x600 with 1 Axes>"
            ],
            "image/png": "[encoded data removed]"
          },
          "metadata": {}
        }
      ],
      "source": [
        "import matplotlib.pyplot as plt\n",
        "import seaborn as sns\n",
        "\n",
        "# Group by Category\n",
        "category_sales = df.groupby('Category')['Order_Quantity'].sum().sort_values(ascending=False)\n",
        "\n",
        "# Plotting Category Sales\n",
        "plt.figure(figsize=(10,6))\n",
        "sns.barplot(x=category_sales.values, y=category_sales.index, palette='magma')\n",
        "plt.title('Total Quantity Sold by Category', fontsize=14)\n",
        "plt.xlabel('Total Quantity Sold', fontsize=12)\n",
        "plt.ylabel('Product Category', fontsize=12)\n",
        "plt.grid(axis='x', linestyle='--', alpha=0.7)\n",
        "plt.show()\n",
        "\n",
        "# Group by Sub-Category\n",
        "subcategory_sales = df.groupby('Product_Sub_Category')['Order_Quantity'].sum().sort_values(ascending=False).head(10)\n",
        "\n",
        "# Plotting Sub-Category Sales\n",
        "plt.figure(figsize=(10,6))\n",
        "sns.barplot(x=subcategory_sales.values, y=subcategory_sales.index, palette='coolwarm')\n",
        "plt.title('Top 10 Sub-Categories by Quantity Sold', fontsize=14)\n",
        "plt.xlabel('Total Quantity Sold', fontsize=12)\n",
        "plt.ylabel('Sub-Category', fontsize=12)\n",
        "plt.grid(axis='x', linestyle='--', alpha=0.7)\n",
        "plt.show()\n"
      ]
    },
    {
      "cell_type": "markdown",
      "metadata": {
        "id": "vtW8yA_5Vr0H"
      },
      "source": [
        "##Insight:"
      ]
    },
    {
      "cell_type": "markdown",
      "metadata": {
        "id": "gvbnnnUYV7nf"
      },
      "source": [
        "## **Category and Sub-Category Sales Performance (Bar Charts)**\n",
        "\n",
        "*   Certain categories, like Electronics or Home Appliances, sell in large volumes—indicating strong consumer demand.\n",
        "*   Within those, specific sub-categories (e.g., Mobile Accessories, Kitchen Appliances) stand out and should be stocked more frequently.\n",
        "\n"
      ]
    },
    {
      "cell_type": "markdown",
      "metadata": {
        "id": "3FLJm2iUhEb-"
      },
      "source": [
        "#3. Regional Revenue Contribution"
      ]
    },
    {
      "cell_type": "markdown",
      "metadata": {
        "id": "Iv9GfK2UhQGC"
      },
      "source": [
        "#Identifying top-performing and underperforming regions based on total revenue and order count."
      ]
    },
    {
      "cell_type": "markdown",
      "metadata": {
        "id": "9tlG49WehZaF"
      },
      "source": [
        "##Problem:\n",
        "\n",
        "*   Which regions generate the most revenue and sales volume?\n",
        "*   Are there areas with poor performance needing marketing or logistics improvements?\n",
        "\n"
      ]
    },
    {
      "cell_type": "markdown",
      "metadata": {
        "id": "S2HlLYivhZSY"
      },
      "source": [
        "##Solution:\n",
        "\n",
        "*   Focus marketing efforts on high-performing regions for growth.\n",
        "*   Identify underperforming regions for improvement or re-strategizing.\n"
      ]
    },
    {
      "cell_type": "code",
      "execution_count": 22,
      "metadata": {
        "id": "875taGTjSo_o",
        "colab": {
          "base_uri": "https://localhost:8080/",
          "height": 1000
        },
        "outputId": "2c2db5e4-20f3-423c-fe8d-6ece2558d072"
      },
      "outputs": [
        {
          "output_type": "stream",
          "name": "stderr",
          "text": [
            "/tmp/ipython-input-22-3751886918.py:2: FutureWarning: The default of observed=False is deprecated and will be changed to True in a future version of pandas. Pass observed=False to retain current behavior or observed=True to adopt the future default and silence this warning.\n",
            "  region_revenue = df.groupby('Sales_Region')['Total_Sales'].sum().sort_values(ascending=False)\n",
            "/tmp/ipython-input-22-3751886918.py:12: FutureWarning: \n",
            "\n",
            "Passing `palette` without assigning `hue` is deprecated and will be removed in v0.14.0. Assign the `y` variable to `hue` and set `legend=False` for the same effect.\n",
            "\n",
            "  sns.barplot(x=region_revenue.values, y=region_revenue.index, palette='Blues_r')\n"
          ]
        },
        {
          "output_type": "display_data",
          "data": {
            "text/plain": [
              "<Figure size 1000x600 with 1 Axes>"
            ],
            "image/png": "[encoded data removed]"
          },
          "metadata": {}
        },
        {
          "output_type": "stream",
          "name": "stderr",
          "text": [
            "/tmp/ipython-input-22-3751886918.py:21: FutureWarning: \n",
            "\n",
            "Passing `palette` without assigning `hue` is deprecated and will be removed in v0.14.0. Assign the `y` variable to `hue` and set `legend=False` for the same effect.\n",
            "\n",
            "  sns.barplot(x=region_orders.values, y=region_orders.index, palette='Greens_r')\n"
          ]
        },
        {
          "output_type": "display_data",
          "data": {
            "text/plain": [
              "<Figure size 1000x600 with 1 Axes>"
            ],
            "image/png": "[encoded data removed]"
          },
          "metadata": {}
        }
      ],
      "source": [
        "# Total revenue by region\n",
        "region_revenue = df.groupby('Sales_Region')['Total_Sales'].sum().sort_values(ascending=False)\n",
        "\n",
        "# Total order count by region\n",
        "region_orders = df['Sales_Region'].value_counts()\n",
        "\n",
        "import matplotlib.pyplot as plt\n",
        "import seaborn as sns\n",
        "\n",
        "# Plot: Revenue by Region\n",
        "plt.figure(figsize=(10,6))\n",
        "sns.barplot(x=region_revenue.values, y=region_revenue.index, palette='Blues_r')\n",
        "plt.title('Total Revenue by Region', fontsize=14)\n",
        "plt.xlabel('Total Revenue', fontsize=12)\n",
        "plt.ylabel('Region', fontsize=12)\n",
        "plt.grid(axis='x', linestyle='--', alpha=0.7)\n",
        "plt.show()\n",
        "\n",
        "# Plot: Order Count by Region\n",
        "plt.figure(figsize=(10,6))\n",
        "sns.barplot(x=region_orders.values, y=region_orders.index, palette='Greens_r')\n",
        "plt.title('Total Orders by Region', fontsize=14)\n",
        "plt.xlabel('Order Count', fontsize=12)\n",
        "plt.ylabel('Region', fontsize=12)\n",
        "plt.grid(axis='x', linestyle='--', alpha=0.7)\n",
        "plt.show()\n"
      ]
    },
    {
      "cell_type": "markdown",
      "metadata": {
        "id": "qdhrJ5CWie8T"
      },
      "source": [
        "##Insight:"
      ]
    },
    {
      "cell_type": "markdown",
      "metadata": {
        "id": "bR4CxjOSiw9e"
      },
      "source": [
        "## **Regional Revenue & Orders (Bax Charts)**\n",
        "\n",
        "*   Top revenue-generating regions show strong buying power and potential for deeper market penetration.\n",
        "*   Low-revenue or low-order regions may suffer from poor reach, lack of inventory, or shipping delays—improvements here can expand market share.\n",
        "\n"
      ]
    },
    {
      "cell_type": "markdown",
      "metadata": {
        "id": "Xfw99kyBj7s3"
      },
      "source": [
        "#4. Customer Satisfaction Trends (Category-wise Rating)"
      ]
    },
    {
      "cell_type": "markdown",
      "metadata": {
        "id": "4fp8HGQHj7gu"
      },
      "source": [
        "###Understanding Service Quality Based on Customer Ratings"
      ]
    },
    {
      "cell_type": "markdown",
      "metadata": {
        "id": "XdRlG6W6kiql"
      },
      "source": [
        "##Problem:\n",
        "\n",
        "*   Are some categories or sub-categories consistently rated lower than others?\n",
        "*   Which product types receive the best feedback from customers?\n",
        "\n"
      ]
    },
    {
      "cell_type": "markdown",
      "metadata": {
        "id": "Q3hzm6YakidV"
      },
      "source": [
        "##Solution:\n",
        "\n",
        "*   Helps identify which categories need quality improvement.\n",
        "*   Allows the company to reward top-performing products/categories.\n",
        "*   Guides inventory teams on which product lines customers prefer.\n",
        "\n",
        "\n",
        "\n",
        "\n"
      ]
    },
    {
      "cell_type": "code",
      "execution_count": 25,
      "metadata": {
        "id": "Ij71idC7i5xU",
        "colab": {
          "base_uri": "https://localhost:8080/",
          "height": 518
        },
        "outputId": "f56222a7-38d0-4b82-88e3-a91d2d0dccb7"
      },
      "outputs": [
        {
          "output_type": "stream",
          "name": "stderr",
          "text": [
            "/tmp/ipython-input-25-668951779.py:6: FutureWarning: \n",
            "\n",
            "Passing `palette` without assigning `hue` is deprecated and will be removed in v0.14.0. Assign the `x` variable to `hue` and set `legend=False` for the same effect.\n",
            "\n",
            "  sns.barplot(data=df, x='Category', y='Customer_Rating', estimator=np.mean, palette='Set2')\n"
          ]
        },
        {
          "output_type": "display_data",
          "data": {
            "text/plain": [
              "<Figure size 1000x500 with 1 Axes>"
            ],
            "image/png": "[encoded data removed]"
          },
          "metadata": {}
        }
      ],
      "source": [
        "import matplotlib.pyplot as plt\n",
        "import seaborn as sns\n",
        "import numpy as np\n",
        "\n",
        "plt.figure(figsize=(10, 5))\n",
        "sns.barplot(data=df, x='Category', y='Customer_Rating', estimator=np.mean, palette='Set2')\n",
        "plt.title('Average Customer Rating by Product Category', fontsize=14)\n",
        "plt.xlabel('Product Category', fontsize=12)\n",
        "plt.ylabel('Average Customer Rating', fontsize=12)\n",
        "plt.xticks(rotation=45)\n",
        "plt.tight_layout()\n",
        "plt.show()\n"
      ]
    },
    {
      "cell_type": "markdown",
      "metadata": {
        "id": "551yWwpvldUW"
      },
      "source": [
        "##Insight:"
      ]
    },
    {
      "cell_type": "markdown",
      "metadata": {
        "id": "eaTQdpnOlcQk"
      },
      "source": [
        "## **Average Rating by Product Category (Bar Chart)**\n",
        "\n",
        "*   Some categories like Beauty, Book, Clothing, Electronics, Home & Kitchen have a high average rating, showing strong customer satisfaction.\n",
        "*   Others category may require product quality\n",
        "improvements.\n",
        "\n",
        "*   This insight helps align marketing and product quality strategies.\n",
        "\n",
        "\n",
        "\n",
        "\n"
      ]
    },
    {
      "cell_type": "markdown",
      "metadata": {
        "id": "XzkGMsZEoH56"
      },
      "source": [
        "#5. Product Sales Performance"
      ]
    },
    {
      "cell_type": "markdown",
      "metadata": {
        "id": "6UyNUsdZoHyB"
      },
      "source": [
        "###Understanding Which Products Generate the Highest Total Sales"
      ]
    },
    {
      "cell_type": "markdown",
      "metadata": {
        "id": "ffXNyP0YoHrC"
      },
      "source": [
        "##Problem:\n",
        "\n",
        "*   Which products contribute the most to total sales on the platform?\n",
        "*   Are there specific products that dominate sales?\n",
        "\n",
        "\n"
      ]
    },
    {
      "cell_type": "markdown",
      "metadata": {
        "id": "bANR0C_CoHnj"
      },
      "source": [
        "##Solution:\n",
        "\n",
        "*   Helps in inventory management by identifying top-performing products.\n",
        "*   Enables strategic promotion and restocking of high-selling items.\n",
        "\n"
      ]
    },
    {
      "cell_type": "code",
      "execution_count": 26,
      "metadata": {
        "id": "VzCIq_PClRR_",
        "colab": {
          "base_uri": "https://localhost:8080/",
          "height": 578
        },
        "outputId": "9399dfa1-238e-4bd7-d6cd-a8a0614606bf"
      },
      "outputs": [
        {
          "output_type": "stream",
          "name": "stderr",
          "text": [
            "/tmp/ipython-input-26-2836507233.py:5: FutureWarning: \n",
            "\n",
            "Passing `palette` without assigning `hue` is deprecated and will be removed in v0.14.0. Assign the `y` variable to `hue` and set `legend=False` for the same effect.\n",
            "\n",
            "  sns.barplot(data=top_products, x='Total_Sales', y='Product_Name', palette='YlGnBu')\n"
          ]
        },
        {
          "output_type": "display_data",
          "data": {
            "text/plain": [
              "<Figure size 1000x600 with 1 Axes>"
            ],
            "image/png": "[encoded data removed]"
          },
          "metadata": {}
        }
      ],
      "source": [
        "# Top 10 Products by Total Sales\n",
        "top_products = df.groupby('Product_Name')['Total_Sales'].sum().sort_values(ascending=False).head(10).reset_index()\n",
        "\n",
        "plt.figure(figsize=(10, 6))\n",
        "sns.barplot(data=top_products, x='Total_Sales', y='Product_Name', palette='YlGnBu')\n",
        "plt.title('Top 10 Products by Total Sales', fontsize=14)\n",
        "plt.xlabel('Total Sales', fontsize=12)\n",
        "plt.ylabel('Product Name', fontsize=12)\n",
        "plt.grid(axis='x', linestyle='--', alpha=0.7)\n",
        "plt.show()\n"
      ]
    },
    {
      "cell_type": "markdown",
      "metadata": {
        "id": "mbBe2zDtoHe0"
      },
      "source": [
        "##Insight:"
      ]
    },
    {
      "cell_type": "markdown",
      "metadata": {
        "id": "aHz1yg7IpvPe"
      },
      "source": [
        "## **Customer Satisfaction by Product Category (Bar Chart)**\n",
        "\n",
        "*   All product categories have similar average customer ratings, with values clustered around the same satisfaction level.\n",
        "*   No category shows extremely poor or extremely high ratings, suggesting consistent product quality across the platform.\n",
        "*   However, minor differences can still guide decisions on which categories may need more attention or promotion.\n",
        "*   Continuous monitoring of these ratings helps in maintaining customer trust and loyalty.\n",
        "\n",
        "\n",
        "\n"
      ]
    },
    {
      "cell_type": "markdown",
      "metadata": {
        "id": "Gh1GZa0-q2An"
      },
      "source": [
        "#6. Profitability Insights"
      ]
    },
    {
      "cell_type": "markdown",
      "metadata": {
        "id": "m22XLMahq1yN"
      },
      "source": [
        "###Average Profit by Product Category"
      ]
    },
    {
      "cell_type": "markdown",
      "metadata": {
        "id": "wm2YYKy2q1Y4"
      },
      "source": [
        "#Problem:\n",
        "\n",
        "*   Which product categories generate the most profit for the company?\n",
        "*   Are there any categories that have low or negative profit margins?\n",
        "\n"
      ]
    },
    {
      "cell_type": "markdown",
      "metadata": {
        "id": "3MVaUrTxq083"
      },
      "source": [
        "#Solution:\n",
        "\n",
        "*   Helps in identifying high-margin product categories to focus on for increased revenue.\n",
        "*   Guides inventory planning and promotional strategies by prioritizing profitable categories.\n",
        "*   Unprofitable categories can be reviewed for cost-cutting or pricing adjustments.\n",
        "\n",
        "\n",
        "\n",
        "\n"
      ]
    },
    {
      "cell_type": "code",
      "execution_count": 27,
      "metadata": {
        "id": "fzSnarmapkgB",
        "colab": {
          "base_uri": "https://localhost:8080/",
          "height": 703
        },
        "outputId": "96613060-30e5-4dac-fedb-692cf3433970"
      },
      "outputs": [
        {
          "output_type": "stream",
          "name": "stderr",
          "text": [
            "/tmp/ipython-input-27-191762697.py:2: FutureWarning: \n",
            "\n",
            "Passing `palette` without assigning `hue` is deprecated and will be removed in v0.14.0. Assign the `x` variable to `hue` and set `legend=False` for the same effect.\n",
            "\n",
            "  sns.barplot(data=df, x='Category', y='Net_Profit', estimator=np.mean, palette='Set3')\n"
          ]
        },
        {
          "output_type": "display_data",
          "data": {
            "text/plain": [
              "<Figure size 1000x600 with 1 Axes>"
            ],
            "image/png": "[encoded data removed]"
          },
          "metadata": {}
        }
      ],
      "source": [
        "plt.figure(figsize=(10,6))\n",
        "sns.barplot(data=df, x='Category', y='Net_Profit', estimator=np.mean, palette='Set3')\n",
        "plt.title('Average Profit by Product Category', fontsize=14)\n",
        "plt.xlabel('Product Category', fontsize=12)\n",
        "plt.ylabel('Average Profit', fontsize=12)\n",
        "plt.xticks(rotation=45)\n",
        "plt.grid(axis='y', linestyle='--', alpha=0.7)\n",
        "plt.show()\n"
      ]
    },
    {
      "cell_type": "markdown",
      "metadata": {
        "id": "zznHQWf_rd9g"
      },
      "source": [
        "#Insight:"
      ]
    },
    {
      "cell_type": "markdown",
      "metadata": {
        "id": "quX6AHsjrgwo"
      },
      "source": [
        "## **Average Profit by Product Category (Bar Chart)**\n",
        "\n",
        "*   Product categories show variations in average profit, indicating differences in margins and sales performance.\n",
        "*   High-profit categories should be strategically stocked and marketed more aggressively.\n",
        "*   Low-profit categories may require cost optimization, better vendor terms, or pricing revisions.\n",
        "*   This analysis helps the business optimize profitability across its product lines.\n",
        "\n",
        "\n",
        "\n"
      ]
    },
    {
      "cell_type": "markdown",
      "metadata": {
        "id": "ZuvXFkFhrh-1"
      },
      "source": [
        "#6. Shipping Time Patterns"
      ]
    },
    {
      "cell_type": "markdown",
      "metadata": {
        "id": "XukHZycOwWjT"
      },
      "source": [
        "###Average Shipping Delay by Product Category"
      ]
    },
    {
      "cell_type": "markdown",
      "metadata": {
        "id": "togWH3SVwWfs"
      },
      "source": [
        "#Problem:\n",
        "\n",
        "*   Are some product categories consistently delivered late?\n",
        "*   Which categories experience the longest or shortest shipping delays?\n"
      ]
    },
    {
      "cell_type": "markdown",
      "metadata": {
        "id": "qev9QosywU8l"
      },
      "source": [
        "#Solution:\n",
        "\n",
        "*   Helps identify logistics inefficiencies tied to specific product categories.\n",
        "*   Enables supply chain optimization for delayed categories.\n",
        "*   Improves customer satisfaction by reducing late deliveries in affected areas.\n",
        "\n",
        "\n",
        "\n"
      ]
    },
    {
      "cell_type": "code",
      "execution_count": 28,
      "metadata": {
        "id": "b_KQ-bhmrb_H",
        "colab": {
          "base_uri": "https://localhost:8080/",
          "height": 712
        },
        "outputId": "afaed206-276e-4017-8d8b-a1a1a9ddaacb"
      },
      "outputs": [
        {
          "output_type": "stream",
          "name": "stderr",
          "text": [
            "/tmp/ipython-input-28-4056000673.py:2: FutureWarning: \n",
            "\n",
            "Passing `palette` without assigning `hue` is deprecated and will be removed in v0.14.0. Assign the `x` variable to `hue` and set `legend=False` for the same effect.\n",
            "\n",
            "  sns.barplot(data=df, x='Category', y='Shipping_Delay', estimator=np.mean, palette='Pastel1')\n"
          ]
        },
        {
          "output_type": "display_data",
          "data": {
            "text/plain": [
              "<Figure size 1000x600 with 1 Axes>"
            ],
            "image/png": "[encoded data removed]"
          },
          "metadata": {}
        }
      ],
      "source": [
        "plt.figure(figsize=(10,6))\n",
        "sns.barplot(data=df, x='Category', y='Shipping_Delay', estimator=np.mean, palette='Pastel1')\n",
        "plt.title('Average Shipping Delay by Product Category', fontsize=14)\n",
        "plt.xlabel('Product Category', fontsize=12)\n",
        "plt.ylabel('Average Shipping Delay (days)', fontsize=12)\n",
        "plt.xticks(rotation=45)\n",
        "plt.grid(axis='y', linestyle='--', alpha=0.7)\n",
        "plt.show()\n"
      ]
    },
    {
      "cell_type": "markdown",
      "metadata": {
        "id": "8-LLyoMW9ylY"
      },
      "source": [
        "#Insight:"
      ]
    },
    {
      "cell_type": "markdown",
      "metadata": {
        "id": "d6jz_U9c9xwU"
      },
      "source": [
        "## **Average Shipping Delay by Product Category (Bar Chart)**\n",
        "\n",
        "*   Some categories such as Electronics or Furniture (example based on your data) may have higher average shipping delays due to larger size or vendor issues.\n",
        "*   Low-delay categories can be used as benchmarks to improve shipping efficiency.\n",
        "*   This insight supports the logistics team in targeting specific categories for faster delivery improvement.\n",
        "\n",
        "\n",
        "\n"
      ]
    },
    {
      "cell_type": "markdown",
      "metadata": {
        "id": "fqNqvI9D_GAY"
      },
      "source": [
        "#7. Discount Impact on Sales"
      ]
    },
    {
      "cell_type": "markdown",
      "metadata": {
        "id": "GllF7AtO_F0i"
      },
      "source": [
        "Average Discount by Product Category"
      ]
    },
    {
      "cell_type": "markdown",
      "metadata": {
        "id": "SxogTX20_FoH"
      },
      "source": [
        "##Problem:\n",
        "\n",
        "*  Are discounts applied more heavily in certain categories?\n",
        "*  Does discounting actually help drive higher sales in those categories?\n",
        "\n"
      ]
    },
    {
      "cell_type": "markdown",
      "metadata": {
        "id": "RCWAOD4v_E7w"
      },
      "source": [
        "##Solution:\n",
        "\n",
        "*   Identifies which product categories rely more on discounts to sell.\n",
        "*   Helps understand price sensitivity in customer buying behavior.\n",
        "*   Guides promotion strategies to focus discounts where they are most effective.\n",
        "\n",
        "\n",
        "\n",
        "\n"
      ]
    },
    {
      "cell_type": "code",
      "execution_count": 29,
      "metadata": {
        "id": "p4SX5316xOYp",
        "colab": {
          "base_uri": "https://localhost:8080/",
          "height": 706
        },
        "outputId": "20e360dd-d389-493c-f048-49983a1c680a"
      },
      "outputs": [
        {
          "output_type": "stream",
          "name": "stderr",
          "text": [
            "/tmp/ipython-input-29-460969662.py:2: FutureWarning: \n",
            "\n",
            "Passing `palette` without assigning `hue` is deprecated and will be removed in v0.14.0. Assign the `x` variable to `hue` and set `legend=False` for the same effect.\n",
            "\n",
            "  sns.barplot(data=df, x='Category', y='Discount_Applied', estimator=np.mean, palette='coolwarm')\n"
          ]
        },
        {
          "output_type": "display_data",
          "data": {
            "text/plain": [
              "<Figure size 1000x600 with 1 Axes>"
            ],
            "image/png": "[encoded data removed]"
          },
          "metadata": {}
        }
      ],
      "source": [
        "plt.figure(figsize=(10,6))\n",
        "sns.barplot(data=df, x='Category', y='Discount_Applied', estimator=np.mean, palette='coolwarm')\n",
        "plt.title('Average Discount by Product Category', fontsize=14)\n",
        "plt.xlabel('Product Category', fontsize=12)\n",
        "plt.ylabel('Average Discount Applied', fontsize=12)\n",
        "plt.xticks(rotation=45)\n",
        "plt.grid(axis='y', linestyle='--', alpha=0.7)\n",
        "plt.show()\n"
      ]
    },
    {
      "cell_type": "markdown",
      "metadata": {
        "id": "BaYGdC5cAmNd"
      },
      "source": [
        "##Insight:"
      ]
    },
    {
      "cell_type": "markdown",
      "metadata": {
        "id": "dk2lEXdwAliH"
      },
      "source": [
        "## **Average Discount by Product Category (Bar Chart)**\n",
        "\n",
        "*   Certain categories (e.g., Fashion, Stationery) may show higher average discounts, suggesting more promotional dependency.\n",
        "*   Categories like Electronics or Furniture might show lower discount averages, indicating stronger brand value or lesser price sensitivity.\n",
        "*   These patterns help the sales and marketing teams fine-tune promotional efforts for maximum ROI.\n",
        "\n",
        "\n",
        "\n",
        "\n"
      ]
    },
    {
      "cell_type": "markdown",
      "metadata": {
        "id": "I5kpAgC8BN0P"
      },
      "source": [
        "#8. Seasonal Sales Patterns – Monthly Trends"
      ]
    },
    {
      "cell_type": "markdown",
      "metadata": {
        "id": "dwA86eeKBNql"
      },
      "source": [
        "##Problem:\n",
        "\n",
        "*   Are there certain months with consistently higher sales?\n",
        "*   Can we identify seasonal peaks (e.g., festive or end-of-year spikes)?\n",
        "\n"
      ]
    },
    {
      "cell_type": "markdown",
      "metadata": {
        "id": "-iBio9gQBNfW"
      },
      "source": [
        "##Solution:\n",
        "\n",
        "*   Helps with inventory planning and marketing campaigns.\n",
        "*   Useful to forecast demand surges or off-season dips.\n"
      ]
    },
    {
      "cell_type": "code",
      "execution_count": 30,
      "metadata": {
        "id": "t_taYJcy_uGE",
        "colab": {
          "base_uri": "https://localhost:8080/",
          "height": 642
        },
        "outputId": "2d4a1971-92fd-46cf-b271-0d5b66a432e5"
      },
      "outputs": [
        {
          "output_type": "stream",
          "name": "stderr",
          "text": [
            "/tmp/ipython-input-30-2474741985.py:10: FutureWarning: \n",
            "\n",
            "Passing `palette` without assigning `hue` is deprecated and will be removed in v0.14.0. Assign the `x` variable to `hue` and set `legend=False` for the same effect.\n",
            "\n",
            "  sns.barplot(data=monthly_sales, x='Month', y='Total_Sales', palette='Set2')\n"
          ]
        },
        {
          "output_type": "display_data",
          "data": {
            "text/plain": [
              "<Figure size 1000x600 with 1 Axes>"
            ],
            "image/png": "[encoded data removed]"
          },
          "metadata": {}
        }
      ],
      "source": [
        "import matplotlib.pyplot as plt\n",
        "import seaborn as sns\n",
        "\n",
        "plt.figure(figsize=(10,6))\n",
        "monthly_sales = df.groupby('Month')['Total_Sales'].sum().reset_index()\n",
        "\n",
        "# Sorting months by calendar order (optional if Month is numeric already 1–12)\n",
        "monthly_sales = monthly_sales.sort_values('Month')\n",
        "\n",
        "sns.barplot(data=monthly_sales, x='Month', y='Total_Sales', palette='Set2')\n",
        "plt.title('Monthly Sales Trend', fontsize=14)\n",
        "plt.xlabel('Month', fontsize=12)\n",
        "plt.ylabel('Total Sales', fontsize=12)\n",
        "plt.grid(axis='y', linestyle='--', alpha=0.6)\n",
        "plt.xticks(ticks=range(0, 12), labels=[\n",
        "    'Jan', 'Feb', 'Mar', 'Apr', 'May', 'Jun',\n",
        "    'Jul', 'Aug', 'Sep', 'Oct', 'Nov', 'Dec'\n",
        "])\n",
        "plt.show()\n"
      ]
    },
    {
      "cell_type": "markdown",
      "metadata": {
        "id": "Ap2OCCFPCLV4"
      },
      "source": [
        "##Insight:"
      ]
    },
    {
      "cell_type": "code",
      "execution_count": null,
      "metadata": {
        "id": "64t-Xfn6CTPG"
      },
      "outputs": [],
      "source": []
    },
    {
      "cell_type": "markdown",
      "metadata": {
        "id": "wyf0YwyBBNIm"
      },
      "source": [
        "## **Monthly Sales Trend (Bar Chart)**\n",
        "\n",
        "*   Some months show significantly higher total sales, possibly due to festivals, holidays, or year-end clearance.\n",
        "*   Lower months could indicate off-season periods, useful for cost-saving strategies.\n",
        "*   This pattern helps plan seasonal inventory, ad campaigns, and salesforce strength.\n",
        "\n",
        "\n"
      ]
    },
    {
      "cell_type": "markdown",
      "metadata": {
        "id": "LRwX-GlNFKlh"
      },
      "source": [
        "#9.Shipping Mode Efficiency – Delivery Performance"
      ]
    },
    {
      "cell_type": "markdown",
      "metadata": {
        "id": "OlG3ARlaFKPN"
      },
      "source": [
        "##Problem:\n",
        "\n",
        "*   Which shipping mode is most frequently used?\n",
        "*   Is there any shipping mode with consistently lower delays?\n"
      ]
    },
    {
      "cell_type": "markdown",
      "metadata": {
        "id": "6RtIacN-FKCi"
      },
      "source": [
        "##Solution:\n",
        "\n",
        "*   Helps optimize logistics partnerships.\n",
        "*   Enables businesses to choose reliable shipping modes for on-time delivery.\n",
        "\n"
      ]
    },
    {
      "cell_type": "code",
      "execution_count": 31,
      "metadata": {
        "id": "IAKzAmfOCf4n",
        "colab": {
          "base_uri": "https://localhost:8080/",
          "height": 676
        },
        "outputId": "1cdbc307-b323-44e3-adce-73b869e706dd"
      },
      "outputs": [
        {
          "output_type": "stream",
          "name": "stderr",
          "text": [
            "/tmp/ipython-input-31-2777857667.py:5: FutureWarning: The default of observed=False is deprecated and will be changed to True in a future version of pandas. Pass observed=False to retain current behavior or observed=True to adopt the future default and silence this warning.\n",
            "  shipping_efficiency = df.groupby('Shipping_Mode')['Shipping_Delay'].mean().reset_index()\n",
            "/tmp/ipython-input-31-2777857667.py:7: FutureWarning: \n",
            "\n",
            "Passing `palette` without assigning `hue` is deprecated and will be removed in v0.14.0. Assign the `x` variable to `hue` and set `legend=False` for the same effect.\n",
            "\n",
            "  sns.barplot(data=shipping_efficiency, x='Shipping_Mode', y='Shipping_Delay', palette='coolwarm')\n"
          ]
        },
        {
          "output_type": "display_data",
          "data": {
            "text/plain": [
              "<Figure size 1000x600 with 1 Axes>"
            ],
            "image/png": "[encoded data removed]"
          },
          "metadata": {}
        }
      ],
      "source": [
        "import matplotlib.pyplot as plt\n",
        "import seaborn as sns\n",
        "\n",
        "plt.figure(figsize=(10,6))\n",
        "shipping_efficiency = df.groupby('Shipping_Mode')['Shipping_Delay'].mean().reset_index()\n",
        "\n",
        "sns.barplot(data=shipping_efficiency, x='Shipping_Mode', y='Shipping_Delay', palette='coolwarm')\n",
        "plt.title('Average Shipping Delay by Mode', fontsize=14)\n",
        "plt.xlabel('Shipping Mode', fontsize=12)\n",
        "plt.ylabel('Average Delay (in days)', fontsize=12)\n",
        "plt.grid(axis='y', linestyle='--', alpha=0.6)\n",
        "plt.xticks(rotation=0)\n",
        "plt.show()\n"
      ]
    },
    {
      "cell_type": "markdown",
      "metadata": {
        "id": "39f9PVYQF7Ge"
      },
      "source": [
        "##Insight:"
      ]
    },
    {
      "cell_type": "markdown",
      "metadata": {
        "id": "omyHz3SPF7DB"
      },
      "source": [
        "###Shipping Mode vs. Average Delay (Bar Chart)\n",
        "\n",
        "*   Some shipping modes have higher average delays, indicating less reliability.\n",
        "*   Modes with low average delay are ideal for customer satisfaction.\n",
        "*  This helps decide which shipping partners or services to prioritize or improve.\n",
        "\n",
        "\n",
        "\n",
        "\n"
      ]
    },
    {
      "cell_type": "markdown",
      "metadata": {
        "id": "RM6T_Jt6F7AC"
      },
      "source": [
        "#10. Low-Rated Product Detection – Quality Concerns"
      ]
    },
    {
      "cell_type": "markdown",
      "metadata": {
        "id": "b9daAvTvF67-"
      },
      "source": [
        "##Problem:\n",
        "\n",
        "*   Which products are getting the lowest customer ratings?\n",
        "*   Are there specific products or categories with consistently poor reviews?\n"
      ]
    },
    {
      "cell_type": "markdown",
      "metadata": {
        "id": "Ws57kgR8F64i"
      },
      "source": [
        "##Solution:\n",
        "\n",
        "*   Helps identify underperforming products for improvement or discontinuation.\n",
        "*   Supports quality assurance and customer satisfaction enhancement efforts.\n"
      ]
    },
    {
      "cell_type": "code",
      "execution_count": 33,
      "metadata": {
        "id": "3KLw3jUBHDjK",
        "colab": {
          "base_uri": "https://localhost:8080/",
          "height": 578
        },
        "outputId": "5d580134-c4f0-4c20-d3ce-5fb51e385134"
      },
      "outputs": [
        {
          "output_type": "stream",
          "name": "stderr",
          "text": [
            "/tmp/ipython-input-33-889697295.py:8: FutureWarning: \n",
            "\n",
            "Passing `palette` without assigning `hue` is deprecated and will be removed in v0.14.0. Assign the `y` variable to `hue` and set `legend=False` for the same effect.\n",
            "\n",
            "  sns.barplot(data=low_rated_products, x='Customer_Rating', y='Product_Name', palette='Reds_r')\n"
          ]
        },
        {
          "output_type": "display_data",
          "data": {
            "text/plain": [
              "<Figure size 1000x600 with 1 Axes>"
            ],
            "image/png": "[encoded data removed]"
          },
          "metadata": {}
        }
      ],
      "source": [
        "# Ensure Customer_Rating is numeric\n",
        "df['Customer_Rating'] = pd.to_numeric(df['Customer_Rating'], errors='coerce')\n",
        "\n",
        "# Top 10 lowest rated products by average rating\n",
        "low_rated_products = df.groupby('Product_Name')['Customer_Rating'].mean().sort_values().head(10).reset_index()\n",
        "\n",
        "plt.figure(figsize=(10,6))\n",
        "sns.barplot(data=low_rated_products, x='Customer_Rating', y='Product_Name', palette='Reds_r')\n",
        "plt.title('Top 10 Low-Rated Products (Average Rating)', fontsize=14)\n",
        "plt.xlabel('Average Customer Rating', fontsize=12)\n",
        "plt.ylabel('Product Name', fontsize=12)\n",
        "plt.grid(axis='x', linestyle='--', alpha=0.6)\n",
        "plt.show()\n"
      ]
    },
    {
      "cell_type": "markdown",
      "metadata": {
        "id": "oEWxyLH7F6kU"
      },
      "source": [
        "##Insight:"
      ]
    },
    {
      "cell_type": "markdown",
      "metadata": {
        "id": "QWufkuT8F83z"
      },
      "source": [
        "## **Top 10 Low-Rated Products (Bar Chart)**\n",
        "\n",
        "*   Certain products consistently receive poor ratings, signaling possible quality issues or mismatched customer expectations.\n",
        "*   These should be reviewed, improved, or removed from the catalog.\n",
        "*   This helps reduce returns, complaints, and improve overall platform reliability.\n",
        "\n",
        "\n",
        "\n",
        "\n",
        "\n",
        "\n"
      ]
    },
    {
      "cell_type": "markdown",
      "metadata": {
        "id": "0AhIy2Y7AxZB"
      },
      "source": [
        "# Level 3: Bivariate/Multivariate Analysis"
      ]
    },
    {
      "cell_type": "markdown",
      "metadata": {
        "id": "KgNTA7NlAxVg"
      },
      "source": [
        "##1. Discount vs Sales Quantity"
      ]
    },
    {
      "cell_type": "markdown",
      "metadata": {
        "id": "q1QqGtAPAxSv"
      },
      "source": [
        "###Problem:\n",
        "*   Do discounts actually lead to more quantity sold?\n",
        "\n",
        "\n",
        "###Solution:\n",
        "*   Compare Discount_Applied with Order_Quantity.\n",
        "\n"
      ]
    },
    {
      "cell_type": "code",
      "execution_count": 34,
      "metadata": {
        "id": "GaB2Cs-1CCEo",
        "colab": {
          "base_uri": "https://localhost:8080/",
          "height": 607
        },
        "outputId": "7c892d49-198d-4ef5-ba25-b86b44111875"
      },
      "outputs": [
        {
          "output_type": "display_data",
          "data": {
            "text/plain": [
              "<Figure size 800x600 with 1 Axes>"
            ],
            "image/png": "[encoded data removed]"
          },
          "metadata": {}
        }
      ],
      "source": [
        "import seaborn as sns\n",
        "import matplotlib.pyplot as plt\n",
        "\n",
        "plt.figure(figsize=(8, 6))\n",
        "sns.scatterplot(data=df, x='Discount_Applied', y='Order_Quantity', alpha=0.6)\n",
        "plt.title('Impact of Discount on Order Quantity')\n",
        "plt.xlabel('Discount Applied (%)')\n",
        "plt.ylabel('Quantity Ordered')\n",
        "plt.grid(True)\n",
        "plt.tight_layout()\n",
        "plt.show()\n"
      ]
    },
    {
      "cell_type": "markdown",
      "metadata": {
        "id": "mY6sNm7uAxNP"
      },
      "source": [
        "##Insight:\n",
        "\n",
        "*   There's a moderate upward trend: as discounts increase, some products see more quantity sold.\n",
        "*   However, too high a discount doesn’t always lead to more sales — strategy matters.\n",
        "\n"
      ]
    },
    {
      "cell_type": "code",
      "execution_count": null,
      "metadata": {
        "id": "eXmGa0IPDieo"
      },
      "outputs": [],
      "source": []
    },
    {
      "cell_type": "markdown",
      "metadata": {
        "id": "3qUjbF0eF6c_"
      },
      "source": [
        "##  Conclusion\n",
        "\n",
        "This comprehensive analysis of Amazon's e-commerce transaction data has provided deep insights into customer behavior, product performance, regional strengths, and sales trends.\n",
        "\n",
        "###  Key Takeaways:\n",
        "\n",
        "- **Top-selling products and categories** can guide inventory focus.\n",
        "- **High-revenue regions** show where marketing efforts are succeeding.\n",
        "- **Low-rated products** indicate opportunities for improvement.\n",
        "- **Shipping delays and modes** affect customer satisfaction and should be optimized.\n",
        "- **Discount patterns** influence purchase behavior.\n",
        "- **Seasonal and monthly sales** trends offer promotional opportunities.\n",
        "- **Customer satisfaction** is overall strong but varies across categories.\n",
        "- **Profit margins** highlight where the company earns the most.\n",
        "- The **data-driven insights** can directly guide strategic business decisions for growth and optimization.\n",
        "\n",
        ">  These insights empower better decision-making for marketing, operations, and customer service strategies.\n"
      ]
    }
  ],
  "metadata": {
    "colab": {
      "provenance": []
    },
    "kernelspec": {
      "display_name": "Python 3",
      "name": "python3"
    },
    "language_info": {
      "name": "python"
    }
  },
  "nbformat": 4,
  "nbformat_minor": 0
}